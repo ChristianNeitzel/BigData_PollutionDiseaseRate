{
 "cells": [
  {
   "cell_type": "markdown",
   "metadata": {},
   "source": [
    "# Initiating Spark session"
   ]
  },
  {
   "cell_type": "code",
   "execution_count": 1,
   "metadata": {},
   "outputs": [],
   "source": [
    "from pyspark.sql import SparkSession\n",
    "\n",
    "spark = SparkSession.builder.appName(\"merge_datasets\").getOrCreate()"
   ]
  },
  {
   "cell_type": "markdown",
   "metadata": {},
   "source": [
    "# Merging and pre-processing of our first dataset (df1, df1a and df1b): **\"df1_merged\"**"
   ]
  },
  {
   "cell_type": "code",
   "execution_count": 2,
   "metadata": {},
   "outputs": [],
   "source": [
    "# Reading all the .csv files from our first dataset (df1 and related)\n",
    "df1 = spark.read.csv(\"respiratory_disease_mortality_rate_usa.csv\", header = True, inferSchema = True)\n",
    "df1a = spark.read.csv(\"reference_location.csv\", header = True, inferSchema = True)\n",
    "df1b = spark.read.csv(\"reference_disease_name.csv\", header = True, inferSchema = True)"
   ]
  },
  {
   "cell_type": "code",
   "execution_count": 3,
   "metadata": {},
   "outputs": [
    {
     "name": "stdout",
     "output_type": "stream",
     "text": [
      "+-----------+----+--------+------+-------+----------------+----------------+----------------+\n",
      "|location_id|fips|cause_id|sex_id|year_id|            rate|           lower|           upper|\n",
      "+-----------+----+--------+------+-------+----------------+----------------+----------------+\n",
      "|        523|   1|     508|     1|   1980|78.8240143049003|76.0416535564831|81.2860330254077|\n",
      "|        523|   1|     508|     1|   1981|79.0443658945709|76.5087647940048|81.5276692567423|\n",
      "|        523|   1|     508|     1|   1982|78.8112586372187|76.2767652989869|81.1914708668052|\n",
      "|        523|   1|     508|     1|   1983|79.0766571203029|76.6822478099066|81.3736660066615|\n",
      "|        523|   1|     508|     1|   1984|80.5325242474845|78.1203554139586|82.8761094707397|\n",
      "|        523|   1|     508|     1|   1985|83.5481777042778|81.1573443449007|  85.70592128092|\n",
      "|        523|   1|     508|     1|   1986|83.5863221866442|81.3655694934226|85.8497713841107|\n",
      "|        523|   1|     508|     1|   1987|83.2647721314435|80.9130763330001|85.6339830614319|\n",
      "|        523|   1|     508|     1|   1988|84.9321467272413| 82.646892122221|87.3105556180656|\n",
      "|        523|   1|     508|     1|   1989|85.0575881028286| 82.870688349595| 87.518906258343|\n",
      "|        523|   1|     508|     1|   1990|84.5578786122007| 82.337469331016|87.1232480722065|\n",
      "|        523|   1|     508|     1|   1991|86.1153212011415|83.9664447594904|  88.69242553214|\n",
      "|        523|   1|     508|     1|   1992|83.6286130289506|81.4572144583538|86.0583872027892|\n",
      "|        523|   1|     508|     1|   1993|86.9022157802354|84.5399286539531| 89.452822266376|\n",
      "|        523|   1|     508|     1|   1994|88.3932486943737|86.0373374711576|90.9440141109616|\n",
      "|        523|   1|     508|     1|   1995|89.3318518702448|86.8896073173527|92.0857222843268|\n",
      "|        523|   1|     508|     1|   1996|89.3753099475722|86.7609234293919|92.1566373268059|\n",
      "|        523|   1|     508|     1|   1997|90.2862408276924|87.7660006914926|93.0264256798318|\n",
      "|        523|   1|     508|     1|   1998|92.0915688414459| 89.492799674043|94.8218585847009|\n",
      "|        523|   1|     508|     1|   1999|94.1928186174616|91.7476169850481|96.6914932518578|\n",
      "+-----------+----+--------+------+-------+----------------+----------------+----------------+\n",
      "only showing top 20 rows\n",
      "\n",
      "df1 has 3112200 rows\n"
     ]
    }
   ],
   "source": [
    "df1.show() # respiratory_disease_mortality_rate_usa\n",
    "print(f\"df1 has {df1.count()} rows\")"
   ]
  },
  {
   "cell_type": "code",
   "execution_count": 4,
   "metadata": {},
   "outputs": [
    {
     "name": "stdout",
     "output_type": "stream",
     "text": [
      "+-----------+----+--------------------+\n",
      "|location_id|fips|       location_name|\n",
      "+-----------+----+--------------------+\n",
      "|        102|  NA|       United States|\n",
      "|        523|   1|             Alabama|\n",
      "|        524|   2|              Alaska|\n",
      "|        525|   4|             Arizona|\n",
      "|        526|   5|            Arkansas|\n",
      "|        527|   6|          California|\n",
      "|        528|   8|            Colorado|\n",
      "|        529|   9|         Connecticut|\n",
      "|        530|  10|            Delaware|\n",
      "|        531|  11|District of Columbia|\n",
      "|        532|  12|             Florida|\n",
      "|        533|  13|             Georgia|\n",
      "|        534|  15|              Hawaii|\n",
      "|        535|  16|               Idaho|\n",
      "|        536|  17|            Illinois|\n",
      "|        537|  18|             Indiana|\n",
      "|        538|  19|                Iowa|\n",
      "|        539|  20|              Kansas|\n",
      "|        540|  21|            Kentucky|\n",
      "|        541|  22|           Louisiana|\n",
      "+-----------+----+--------------------+\n",
      "only showing top 20 rows\n",
      "\n",
      "df1a has 3194 rows\n"
     ]
    }
   ],
   "source": [
    "df1a.show() # reference_location\n",
    "print(f\"df1a has {df1a.count()} rows\")"
   ]
  },
  {
   "cell_type": "code",
   "execution_count": 5,
   "metadata": {},
   "outputs": [
    {
     "name": "stdout",
     "output_type": "stream",
     "text": [
      "+--------+--------------------+\n",
      "|cause_id|          cause_name|\n",
      "+--------+--------------------+\n",
      "|     508|Chronic respirato...|\n",
      "|     509|Chronic obstructi...|\n",
      "|     510|      Pneumoconiosis|\n",
      "|     511|           Silicosis|\n",
      "|     512|          Asbestosis|\n",
      "|     513|Coal workers pneu...|\n",
      "|     514|Other pneumoconiosis|\n",
      "|     515|              Asthma|\n",
      "|     516|Interstitial lung...|\n",
      "|     520|Other chronic res...|\n",
      "+--------+--------------------+\n",
      "\n",
      "df1b has 10 rows\n"
     ]
    }
   ],
   "source": [
    "df1b.show() # reference_disease_name\n",
    "print(f\"df1b has {df1b.count()} rows\")"
   ]
  },
  {
   "cell_type": "code",
   "execution_count": 6,
   "metadata": {},
   "outputs": [
    {
     "name": "stdout",
     "output_type": "stream",
     "text": [
      "+--------+-----------+----+------+----+----------------+----------------+----------------+--------------+--------------------+\n",
      "|cause_id|location_id|fips|sex_id|Year|            rate|           lower|           upper| location_name|          cause_name|\n",
      "+--------+-----------+----+------+----+----------------+----------------+----------------+--------------+--------------------+\n",
      "|     508|        523|   1|     1|2010|91.0274839554371|88.4622540542867|93.5521340978616|       Alabama|Chronic respirato...|\n",
      "|     508|        523|   1|     1|2011|91.6750355650584|88.9562303524485|94.1729225949124|       Alabama|Chronic respirato...|\n",
      "|     508|        523|   1|     1|2012|91.4841683135386|88.7495824845074|94.2271592082503|       Alabama|Chronic respirato...|\n",
      "|     508|        523|   1|     1|2013|92.2343460355752|89.2213020967853|95.1803624229139|       Alabama|Chronic respirato...|\n",
      "|     508|        523|   1|     1|2014|92.0424335222448|88.9746784585661|95.0481842316267|       Alabama|Chronic respirato...|\n",
      "|     508|        523|   1|     2|2010|57.9401590231444|56.1508322992128|59.7681412474761|       Alabama|Chronic respirato...|\n",
      "|     508|        523|   1|     2|2011|58.9402551037619|57.0669054575554|60.7322825834799|       Alabama|Chronic respirato...|\n",
      "|     508|        523|   1|     2|2012|59.3033735580812|57.3915810045635|61.3288000508493|       Alabama|Chronic respirato...|\n",
      "|     508|        523|   1|     2|2013|59.6738170685689|57.5240167337579|61.8345980174599|       Alabama|Chronic respirato...|\n",
      "|     508|        523|   1|     2|2014|61.0069932722937|58.7566823737519|63.3739010496886|       Alabama|Chronic respirato...|\n",
      "|     508|        523|   1|     3|2010|70.8581953375713|69.2689886099901|72.4633625320513|       Alabama|Chronic respirato...|\n",
      "|     508|        523|   1|     3|2011|71.7979676591457| 70.135574869186|73.4499505577743|       Alabama|Chronic respirato...|\n",
      "|     508|        523|   1|     3|2012|72.0336986462164|70.3000656001226|73.9020140709123|       Alabama|Chronic respirato...|\n",
      "|     508|        523|   1|     3|2013|72.6657960984693|70.8619819779568|74.6695494081118|       Alabama|Chronic respirato...|\n",
      "|     508|        523|   1|     3|2014|73.4422711283023|71.5398924484273|75.4865047281659|       Alabama|Chronic respirato...|\n",
      "|     508|        614|1001|     1|2010|95.7689813465664|89.4716929493801|102.694997178135|Autauga County|Chronic respirato...|\n",
      "|     508|        614|1001|     1|2011|95.8357127883449|88.2898969822485|103.049638720982|Autauga County|Chronic respirato...|\n",
      "|     508|        614|1001|     1|2012|98.7637771870304|91.1653564717423| 106.14353258143|Autauga County|Chronic respirato...|\n",
      "|     508|        614|1001|     1|2013| 95.338729786198|87.9291031276632|102.757135196488|Autauga County|Chronic respirato...|\n",
      "|     508|        614|1001|     1|2014|95.4612254050904|87.9356083755207|102.960869866453|Autauga County|Chronic respirato...|\n",
      "+--------+-----------+----+------+----+----------------+----------------+----------------+--------------+--------------------+\n",
      "only showing top 20 rows\n",
      "\n"
     ]
    }
   ],
   "source": [
    "# Merges datasets 'df1' with 'df1a', resulting in the dataset 'df1_merged'\n",
    "from pyspark.sql.functions import col\n",
    "\n",
    "df1_merged = df1.join(df1a, on = \"location_id\", how = \"inner\")      # Merges datasets \"df1\" with \"df1a\" into a new dataset \"df1_merged\"\n",
    "df1_merged = df1_merged.filter(df1_merged['location_id'] != '102')  # Filter out rows where 'fips' column has the value '102'\n",
    "df1_merged = df1_merged.drop(df1a[\"fips\"])                          # Removes the \"fips\" column that came from df1a, keeping the \"fips\" column from df1\n",
    "df1_merged = df1_merged.join(df1b, on = \"cause_id\", how = \"inner\")  # Merges datasets \"df1_merged\" with \"df1b\"\n",
    "df1_merged = df1_merged.withColumnRenamed(\"year_id\", \"Year\")        # Renames column \"year_id\" to \"Year\"\n",
    "df1_merged = df1_merged.filter(df1_merged[\"Year\"] >= 2010)          # Removes all rows where values in the column \"year_id\" are less than 2010 \n",
    "\n",
    "df1_merged.show()"
   ]
  },
  {
   "cell_type": "code",
   "execution_count": 7,
   "metadata": {},
   "outputs": [
    {
     "name": "stdout",
     "output_type": "stream",
     "text": [
      "+--------+-----------+-----+------+----+----------------+----------------+----------------+--------------+--------------------+\n",
      "|cause_id|location_id| fips|sex_id|Year|            rate|           lower|           upper| location_name|          cause_name|\n",
      "+--------+-----------+-----+------+----+----------------+----------------+----------------+--------------+--------------------+\n",
      "|     508|        614|01001|     1|2010|95.7689813465664|89.4716929493801|102.694997178135|Autauga County|Chronic respirato...|\n",
      "|     508|        614|01001|     1|2011|95.8357127883449|88.2898969822485|103.049638720982|Autauga County|Chronic respirato...|\n",
      "|     508|        614|01001|     1|2012|98.7637771870304|91.1653564717423| 106.14353258143|Autauga County|Chronic respirato...|\n",
      "|     508|        614|01001|     1|2013| 95.338729786198|87.9291031276632|102.757135196488|Autauga County|Chronic respirato...|\n",
      "|     508|        614|01001|     1|2014|95.4612254050904|87.9356083755207|102.960869866453|Autauga County|Chronic respirato...|\n",
      "|     508|        614|01001|     2|2010|66.2788292568907|61.7282775047859|70.9390044976057|Autauga County|Chronic respirato...|\n",
      "|     508|        614|01001|     2|2011|67.7741078558227|62.8006659490916|72.8603050088421|Autauga County|Chronic respirato...|\n",
      "|     508|        614|01001|     2|2012|70.6018598640088|65.1177116553388|75.9250367264957|Autauga County|Chronic respirato...|\n",
      "|     508|        614|01001|     2|2013|70.9132231149947|65.5103004159524|76.2533672958779|Autauga County|Chronic respirato...|\n",
      "|     508|        614|01001|     2|2014|72.3458870724275|66.7295627147588|78.3816984196043|Autauga County|Chronic respirato...|\n",
      "|     508|        614|01001|     3|2010|77.7515048552319|73.6331289839902|81.8482592659223|Autauga County|Chronic respirato...|\n",
      "|     508|        614|01001|     3|2011|78.9706052301097|74.6763598782609|82.9617482526376|Autauga County|Chronic respirato...|\n",
      "|     508|        614|01001|     3|2012| 81.955163537067|77.5818005708401|86.6434427010684|Autauga County|Chronic respirato...|\n",
      "|     508|        614|01001|     3|2013|80.8525024536344|76.5014740322419|85.4255678511248|Autauga County|Chronic respirato...|\n",
      "|     508|        614|01001|     3|2014|81.7942593202069|77.3705810482549|86.7719945566905|Autauga County|Chronic respirato...|\n",
      "|     508|        637|01003|     1|2010|67.0732052684989|63.3761585143745|70.8590715450264|Baldwin County|Chronic respirato...|\n",
      "|     508|        637|01003|     1|2011|67.1098499768629| 63.096201736022|70.7364700360026|Baldwin County|Chronic respirato...|\n",
      "|     508|        637|01003|     1|2012|63.0727992199247|59.2950497530442|66.7359814527269|Baldwin County|Chronic respirato...|\n",
      "|     508|        637|01003|     1|2013|67.0330398890077|63.3665047670583| 71.005008098492|Baldwin County|Chronic respirato...|\n",
      "|     508|        637|01003|     1|2014| 65.561031925055|61.8556639693601|69.3736586611262|Baldwin County|Chronic respirato...|\n",
      "+--------+-----------+-----+------+----+----------------+----------------+----------------+--------------+--------------------+\n",
      "only showing top 20 rows\n",
      "\n"
     ]
    }
   ],
   "source": [
    "from pyspark.sql.functions import when, concat, lit, length\n",
    "\n",
    "# Filter values with string length 4 using a mask with regex\n",
    "# Add a '0' to the beginning of the masked 'fips' column\n",
    "df1_merged = df1_merged.withColumn(\"fips\", \n",
    "                                   when(length(col(\"fips\")) == 4, concat(lit(\"0\"), col(\"fips\")))\n",
    "                                   .otherwise(col(\"fips\")))\n",
    "\n",
    "# Preserve only the rows which have a 5 digit fips\n",
    "df1_merged = df1_merged.filter(length(col(\"fips\")) == 5)\n",
    "\n",
    "df1_merged.show()"
   ]
  },
  {
   "cell_type": "code",
   "execution_count": 8,
   "metadata": {},
   "outputs": [
    {
     "name": "stdout",
     "output_type": "stream",
     "text": [
      "Rows before dropping duplicates: 437550\n",
      "Rows after dropping duplicates: 437550\n"
     ]
    }
   ],
   "source": [
    "print(\"Rows before dropping duplicates:\", df1_merged.count())\n",
    "\n",
    "# Drop duplicates from df1_merged\n",
    "df1_merged = df1_merged.dropDuplicates()\n",
    "\n",
    "print(\"Rows after dropping duplicates:\", df1_merged.count())"
   ]
  },
  {
   "cell_type": "markdown",
   "metadata": {},
   "source": [
    "# Pre-processing of **df2**"
   ]
  },
  {
   "cell_type": "code",
   "execution_count": 9,
   "metadata": {},
   "outputs": [
    {
     "name": "stdout",
     "output_type": "stream",
     "text": [
      "+---+----------+-----------+--------+--------------------+-------+--------+-------+----------+-----------------+---------+-----------------+----------------+-------+-----------------+--------+----------------+---------------+------+-----------------+--------+-----------------+----------------+-------+-----------------+--------+----------------+---------------+------+\n",
      "|_c0|State Code|County Code|Site Num|             Address|  State|  County|   City|Date Local|        NO2 Units| NO2 Mean|NO2 1st Max Value|NO2 1st Max Hour|NO2 AQI|         O3 Units| O3 Mean|O3 1st Max Value|O3 1st Max Hour|O3 AQI|        SO2 Units|SO2 Mean|SO2 1st Max Value|SO2 1st Max Hour|SO2 AQI|         CO Units| CO Mean|CO 1st Max Value|CO 1st Max Hour|CO AQI|\n",
      "+---+----------+-----------+--------+--------------------+-------+--------+-------+----------+-----------------+---------+-----------------+----------------+-------+-----------------+--------+----------------+---------------+------+-----------------+--------+-----------------+----------------+-------+-----------------+--------+----------------+---------------+------+\n",
      "|  0|         4|         13|    3002|1645 E ROOSEVELT ...|Arizona|Maricopa|Phoenix|2000-01-01|Parts per billion|19.041667|             49.0|              19|     46|Parts per million|  0.0225|            0.04|             10|    34|Parts per billion|     3.0|              9.0|              21|   13.0|Parts per million|1.145833|             4.2|             21|  NULL|\n",
      "|  1|         4|         13|    3002|1645 E ROOSEVELT ...|Arizona|Maricopa|Phoenix|2000-01-01|Parts per billion|19.041667|             49.0|              19|     46|Parts per million|  0.0225|            0.04|             10|    34|Parts per billion|     3.0|              9.0|              21|   13.0|Parts per million|0.878947|             2.2|             23|  25.0|\n",
      "|  2|         4|         13|    3002|1645 E ROOSEVELT ...|Arizona|Maricopa|Phoenix|2000-01-01|Parts per billion|19.041667|             49.0|              19|     46|Parts per million|  0.0225|            0.04|             10|    34|Parts per billion|   2.975|              6.6|              23|   NULL|Parts per million|1.145833|             4.2|             21|  NULL|\n",
      "|  3|         4|         13|    3002|1645 E ROOSEVELT ...|Arizona|Maricopa|Phoenix|2000-01-01|Parts per billion|19.041667|             49.0|              19|     46|Parts per million|  0.0225|            0.04|             10|    34|Parts per billion|   2.975|              6.6|              23|   NULL|Parts per million|0.878947|             2.2|             23|  25.0|\n",
      "|  4|         4|         13|    3002|1645 E ROOSEVELT ...|Arizona|Maricopa|Phoenix|2000-01-02|Parts per billion|22.958333|             36.0|              19|     34|Parts per million|0.013375|           0.032|             10|    27|Parts per billion|1.958333|              3.0|              22|    4.0|Parts per million|    0.85|             1.6|             23|  NULL|\n",
      "|  5|         4|         13|    3002|1645 E ROOSEVELT ...|Arizona|Maricopa|Phoenix|2000-01-02|Parts per billion|22.958333|             36.0|              19|     34|Parts per million|0.013375|           0.032|             10|    27|Parts per billion|1.958333|              3.0|              22|    4.0|Parts per million|1.066667|             2.3|              0|  26.0|\n",
      "|  6|         4|         13|    3002|1645 E ROOSEVELT ...|Arizona|Maricopa|Phoenix|2000-01-02|Parts per billion|22.958333|             36.0|              19|     34|Parts per million|0.013375|           0.032|             10|    27|Parts per billion|  1.9375|              2.6|              23|   NULL|Parts per million|    0.85|             1.6|             23|  NULL|\n",
      "|  7|         4|         13|    3002|1645 E ROOSEVELT ...|Arizona|Maricopa|Phoenix|2000-01-02|Parts per billion|22.958333|             36.0|              19|     34|Parts per million|0.013375|           0.032|             10|    27|Parts per billion|  1.9375|              2.6|              23|   NULL|Parts per million|1.066667|             2.3|              0|  26.0|\n",
      "|  8|         4|         13|    3002|1645 E ROOSEVELT ...|Arizona|Maricopa|Phoenix|2000-01-03|Parts per billion|   38.125|             51.0|               8|     48|Parts per million|0.007958|           0.016|              9|    14|Parts per billion|    5.25|             11.0|              19|   16.0|Parts per million|1.929167|             4.4|              8|  NULL|\n",
      "|  9|         4|         13|    3002|1645 E ROOSEVELT ...|Arizona|Maricopa|Phoenix|2000-01-03|Parts per billion|   38.125|             51.0|               8|     48|Parts per million|0.007958|           0.016|              9|    14|Parts per billion|    5.25|             11.0|              19|   16.0|Parts per million|  1.7625|             2.5|              8|  28.0|\n",
      "| 10|         4|         13|    3002|1645 E ROOSEVELT ...|Arizona|Maricopa|Phoenix|2000-01-03|Parts per billion|   38.125|             51.0|               8|     48|Parts per million|0.007958|           0.016|              9|    14|Parts per billion|     5.2|              8.3|              20|   NULL|Parts per million|1.929167|             4.4|              8|  NULL|\n",
      "| 11|         4|         13|    3002|1645 E ROOSEVELT ...|Arizona|Maricopa|Phoenix|2000-01-03|Parts per billion|   38.125|             51.0|               8|     48|Parts per million|0.007958|           0.016|              9|    14|Parts per billion|     5.2|              8.3|              20|   NULL|Parts per million|  1.7625|             2.5|              8|  28.0|\n",
      "| 12|         4|         13|    3002|1645 E ROOSEVELT ...|Arizona|Maricopa|Phoenix|2000-01-04|Parts per billion| 40.26087|             74.0|               8|     72|Parts per million|0.014167|           0.033|              9|    28|Parts per billion|7.083333|             16.0|               8|   23.0|Parts per million|1.991667|             5.1|             21|  NULL|\n",
      "| 13|         4|         13|    3002|1645 E ROOSEVELT ...|Arizona|Maricopa|Phoenix|2000-01-04|Parts per billion| 40.26087|             74.0|               8|     72|Parts per million|0.014167|           0.033|              9|    28|Parts per billion|7.083333|             16.0|               8|   23.0|Parts per million|1.829167|             3.0|             23|  34.0|\n",
      "| 14|         4|         13|    3002|1645 E ROOSEVELT ...|Arizona|Maricopa|Phoenix|2000-01-04|Parts per billion| 40.26087|             74.0|               8|     72|Parts per million|0.014167|           0.033|              9|    28|Parts per billion|    7.05|             12.6|               8|   NULL|Parts per million|1.991667|             5.1|             21|  NULL|\n",
      "| 15|         4|         13|    3002|1645 E ROOSEVELT ...|Arizona|Maricopa|Phoenix|2000-01-04|Parts per billion| 40.26087|             74.0|               8|     72|Parts per million|0.014167|           0.033|              9|    28|Parts per billion|    7.05|             12.6|               8|   NULL|Parts per million|1.829167|             3.0|             23|  34.0|\n",
      "| 16|         4|         13|    3002|1645 E ROOSEVELT ...|Arizona|Maricopa|Phoenix|2000-01-05|Parts per billion|    48.45|             61.0|              22|     58|Parts per million|0.006667|           0.012|              9|    10|Parts per billion|8.708333|             15.0|               7|   21.0|Parts per million|2.620833|             5.6|              7|  NULL|\n",
      "| 17|         4|         13|    3002|1645 E ROOSEVELT ...|Arizona|Maricopa|Phoenix|2000-01-05|Parts per billion|    48.45|             61.0|              22|     58|Parts per million|0.006667|           0.012|              9|    10|Parts per billion|8.708333|             15.0|               7|   21.0|Parts per million|     2.7|             3.7|              2|  42.0|\n",
      "| 18|         4|         13|    3002|1645 E ROOSEVELT ...|Arizona|Maricopa|Phoenix|2000-01-05|Parts per billion|    48.45|             61.0|              22|     58|Parts per million|0.006667|           0.012|              9|    10|Parts per billion|     8.7|             14.0|               8|   NULL|Parts per million|2.620833|             5.6|              7|  NULL|\n",
      "| 19|         4|         13|    3002|1645 E ROOSEVELT ...|Arizona|Maricopa|Phoenix|2000-01-05|Parts per billion|    48.45|             61.0|              22|     58|Parts per million|0.006667|           0.012|              9|    10|Parts per billion|     8.7|             14.0|               8|   NULL|Parts per million|     2.7|             3.7|              2|  42.0|\n",
      "+---+----------+-----------+--------+--------------------+-------+--------+-------+----------+-----------------+---------+-----------------+----------------+-------+-----------------+--------+----------------+---------------+------+-----------------+--------+-----------------+----------------+-------+-----------------+--------+----------------+---------------+------+\n",
      "only showing top 20 rows\n",
      "\n"
     ]
    }
   ],
   "source": [
    "# Reading the .csv file of our second dataset (df2)\n",
    "df2 = spark.read.csv(\"pollution_us_2000_2016.csv\", header = True, inferSchema = True)\n",
    "df2.show()"
   ]
  },
  {
   "cell_type": "code",
   "execution_count": 10,
   "metadata": {},
   "outputs": [
    {
     "name": "stdout",
     "output_type": "stream",
     "text": [
      "Rows before preprocessing: 1746661\n",
      "+---+----------+-----------+--------+--------------------+-------+--------+-------+----------+-----------------+---------+-----------------+----------------+-------+-----------------+--------+----------------+---------------+------+-----------------+--------+-----------------+----------------+-------+-----------------+--------+----------------+---------------+------+-----+\n",
      "|_c0|State Code|County Code|Site Num|             Address|  State|  County|   City|Date Local|        NO2 Units| NO2 Mean|NO2 1st Max Value|NO2 1st Max Hour|NO2 AQI|         O3 Units| O3 Mean|O3 1st Max Value|O3 1st Max Hour|O3 AQI|        SO2 Units|SO2 Mean|SO2 1st Max Value|SO2 1st Max Hour|SO2 AQI|         CO Units| CO Mean|CO 1st Max Value|CO 1st Max Hour|CO AQI| fips|\n",
      "+---+----------+-----------+--------+--------------------+-------+--------+-------+----------+-----------------+---------+-----------------+----------------+-------+-----------------+--------+----------------+---------------+------+-----------------+--------+-----------------+----------------+-------+-----------------+--------+----------------+---------------+------+-----+\n",
      "|  0|        04|        013|    3002|1645 E ROOSEVELT ...|Arizona|Maricopa|Phoenix|2000-01-01|Parts per billion|19.041667|             49.0|              19|     46|Parts per million|  0.0225|            0.04|             10|    34|Parts per billion|     3.0|              9.0|              21|   13.0|Parts per million|1.145833|             4.2|             21|  NULL|04013|\n",
      "|  1|        04|        013|    3002|1645 E ROOSEVELT ...|Arizona|Maricopa|Phoenix|2000-01-01|Parts per billion|19.041667|             49.0|              19|     46|Parts per million|  0.0225|            0.04|             10|    34|Parts per billion|     3.0|              9.0|              21|   13.0|Parts per million|0.878947|             2.2|             23|  25.0|04013|\n",
      "|  2|        04|        013|    3002|1645 E ROOSEVELT ...|Arizona|Maricopa|Phoenix|2000-01-01|Parts per billion|19.041667|             49.0|              19|     46|Parts per million|  0.0225|            0.04|             10|    34|Parts per billion|   2.975|              6.6|              23|   NULL|Parts per million|1.145833|             4.2|             21|  NULL|04013|\n",
      "|  3|        04|        013|    3002|1645 E ROOSEVELT ...|Arizona|Maricopa|Phoenix|2000-01-01|Parts per billion|19.041667|             49.0|              19|     46|Parts per million|  0.0225|            0.04|             10|    34|Parts per billion|   2.975|              6.6|              23|   NULL|Parts per million|0.878947|             2.2|             23|  25.0|04013|\n",
      "|  4|        04|        013|    3002|1645 E ROOSEVELT ...|Arizona|Maricopa|Phoenix|2000-01-02|Parts per billion|22.958333|             36.0|              19|     34|Parts per million|0.013375|           0.032|             10|    27|Parts per billion|1.958333|              3.0|              22|    4.0|Parts per million|    0.85|             1.6|             23|  NULL|04013|\n",
      "|  5|        04|        013|    3002|1645 E ROOSEVELT ...|Arizona|Maricopa|Phoenix|2000-01-02|Parts per billion|22.958333|             36.0|              19|     34|Parts per million|0.013375|           0.032|             10|    27|Parts per billion|1.958333|              3.0|              22|    4.0|Parts per million|1.066667|             2.3|              0|  26.0|04013|\n",
      "|  6|        04|        013|    3002|1645 E ROOSEVELT ...|Arizona|Maricopa|Phoenix|2000-01-02|Parts per billion|22.958333|             36.0|              19|     34|Parts per million|0.013375|           0.032|             10|    27|Parts per billion|  1.9375|              2.6|              23|   NULL|Parts per million|    0.85|             1.6|             23|  NULL|04013|\n",
      "|  7|        04|        013|    3002|1645 E ROOSEVELT ...|Arizona|Maricopa|Phoenix|2000-01-02|Parts per billion|22.958333|             36.0|              19|     34|Parts per million|0.013375|           0.032|             10|    27|Parts per billion|  1.9375|              2.6|              23|   NULL|Parts per million|1.066667|             2.3|              0|  26.0|04013|\n",
      "|  8|        04|        013|    3002|1645 E ROOSEVELT ...|Arizona|Maricopa|Phoenix|2000-01-03|Parts per billion|   38.125|             51.0|               8|     48|Parts per million|0.007958|           0.016|              9|    14|Parts per billion|    5.25|             11.0|              19|   16.0|Parts per million|1.929167|             4.4|              8|  NULL|04013|\n",
      "|  9|        04|        013|    3002|1645 E ROOSEVELT ...|Arizona|Maricopa|Phoenix|2000-01-03|Parts per billion|   38.125|             51.0|               8|     48|Parts per million|0.007958|           0.016|              9|    14|Parts per billion|    5.25|             11.0|              19|   16.0|Parts per million|  1.7625|             2.5|              8|  28.0|04013|\n",
      "| 10|        04|        013|    3002|1645 E ROOSEVELT ...|Arizona|Maricopa|Phoenix|2000-01-03|Parts per billion|   38.125|             51.0|               8|     48|Parts per million|0.007958|           0.016|              9|    14|Parts per billion|     5.2|              8.3|              20|   NULL|Parts per million|1.929167|             4.4|              8|  NULL|04013|\n",
      "| 11|        04|        013|    3002|1645 E ROOSEVELT ...|Arizona|Maricopa|Phoenix|2000-01-03|Parts per billion|   38.125|             51.0|               8|     48|Parts per million|0.007958|           0.016|              9|    14|Parts per billion|     5.2|              8.3|              20|   NULL|Parts per million|  1.7625|             2.5|              8|  28.0|04013|\n",
      "| 12|        04|        013|    3002|1645 E ROOSEVELT ...|Arizona|Maricopa|Phoenix|2000-01-04|Parts per billion| 40.26087|             74.0|               8|     72|Parts per million|0.014167|           0.033|              9|    28|Parts per billion|7.083333|             16.0|               8|   23.0|Parts per million|1.991667|             5.1|             21|  NULL|04013|\n",
      "| 13|        04|        013|    3002|1645 E ROOSEVELT ...|Arizona|Maricopa|Phoenix|2000-01-04|Parts per billion| 40.26087|             74.0|               8|     72|Parts per million|0.014167|           0.033|              9|    28|Parts per billion|7.083333|             16.0|               8|   23.0|Parts per million|1.829167|             3.0|             23|  34.0|04013|\n",
      "| 14|        04|        013|    3002|1645 E ROOSEVELT ...|Arizona|Maricopa|Phoenix|2000-01-04|Parts per billion| 40.26087|             74.0|               8|     72|Parts per million|0.014167|           0.033|              9|    28|Parts per billion|    7.05|             12.6|               8|   NULL|Parts per million|1.991667|             5.1|             21|  NULL|04013|\n",
      "| 15|        04|        013|    3002|1645 E ROOSEVELT ...|Arizona|Maricopa|Phoenix|2000-01-04|Parts per billion| 40.26087|             74.0|               8|     72|Parts per million|0.014167|           0.033|              9|    28|Parts per billion|    7.05|             12.6|               8|   NULL|Parts per million|1.829167|             3.0|             23|  34.0|04013|\n",
      "| 16|        04|        013|    3002|1645 E ROOSEVELT ...|Arizona|Maricopa|Phoenix|2000-01-05|Parts per billion|    48.45|             61.0|              22|     58|Parts per million|0.006667|           0.012|              9|    10|Parts per billion|8.708333|             15.0|               7|   21.0|Parts per million|2.620833|             5.6|              7|  NULL|04013|\n",
      "| 17|        04|        013|    3002|1645 E ROOSEVELT ...|Arizona|Maricopa|Phoenix|2000-01-05|Parts per billion|    48.45|             61.0|              22|     58|Parts per million|0.006667|           0.012|              9|    10|Parts per billion|8.708333|             15.0|               7|   21.0|Parts per million|     2.7|             3.7|              2|  42.0|04013|\n",
      "| 18|        04|        013|    3002|1645 E ROOSEVELT ...|Arizona|Maricopa|Phoenix|2000-01-05|Parts per billion|    48.45|             61.0|              22|     58|Parts per million|0.006667|           0.012|              9|    10|Parts per billion|     8.7|             14.0|               8|   NULL|Parts per million|2.620833|             5.6|              7|  NULL|04013|\n",
      "| 19|        04|        013|    3002|1645 E ROOSEVELT ...|Arizona|Maricopa|Phoenix|2000-01-05|Parts per billion|    48.45|             61.0|              22|     58|Parts per million|0.006667|           0.012|              9|    10|Parts per billion|     8.7|             14.0|               8|   NULL|Parts per million|     2.7|             3.7|              2|  42.0|04013|\n",
      "+---+----------+-----------+--------+--------------------+-------+--------+-------+----------+-----------------+---------+-----------------+----------------+-------+-----------------+--------+----------------+---------------+------+-----------------+--------+-----------------+----------------+-------+-----------------+--------+----------------+---------------+------+-----+\n",
      "only showing top 20 rows\n",
      "\n",
      "Rows after filtering out any existing (if any) fips values not equal to 5: 1746661\n"
     ]
    }
   ],
   "source": [
    "# Check the number of rows before preprocessing\n",
    "print(\"Rows before preprocessing:\", df2.count())\n",
    "\n",
    "# Modifying \"State Code\" and \"County Code\" values so they more closely match the US FIPS codes standard\n",
    "from pyspark.sql.functions import expr, concat_ws\n",
    "\n",
    "# Add leading zeros to \"State Code\" if it's a single digit\n",
    "df2 = df2.withColumn(\"State Code\", expr(\"LPAD(`State Code`, 2, '0')\"))\n",
    "\n",
    "# Add leading zeros to \"County Code\" based on the number of digits\n",
    "df2 = df2.withColumn(\"County Code\", \n",
    "                     expr(\"CASE WHEN length(`County Code`) = 1 THEN concat('00', `County Code`) \" + \n",
    "                          \"WHEN length(`County Code`) = 2 THEN concat('0', `County Code`) \" + \n",
    "                          \"ELSE `County Code` END\"))\n",
    "\n",
    "# Create a new column \"fips\" by concatenating \"State Code\" and \"County Code\"\n",
    "df2 = df2.withColumn(\"fips\", concat_ws(\"\", df2[\"State Code\"], df2[\"County Code\"]))\n",
    "\n",
    "# Preserve only the rows with 'fips' length == 5\n",
    "df2 = df2.filter(length(col(\"fips\")) == 5)\n",
    "\n",
    "# Show the DataFrame after preprocessing\n",
    "df2.show()\n",
    "\n",
    "# If you want to check the number of rows after preprocessing\n",
    "print(\"Rows after filtering out any existing (if any) fips values not equal to 5:\", df2.count())"
   ]
  },
  {
   "cell_type": "code",
   "execution_count": 11,
   "metadata": {},
   "outputs": [],
   "source": [
    "from pyspark.sql.functions import year\n",
    "\n",
    "df2 = df2.withColumn(\"Year\", year(\"Date Local\")).drop(\"Date Local\")    # Converts YYYY-MM-DD date format in the column \"Date Local\" into just \"YYYY\" (year only)"
   ]
  },
  {
   "cell_type": "code",
   "execution_count": 12,
   "metadata": {},
   "outputs": [
    {
     "name": "stdout",
     "output_type": "stream",
     "text": [
      "+----------+-----------+-------+--------+---------+---------+-----------------+----------------+-------+--------+--------+----------------+---------------+------+---------+--------+-----------------+----------------+-------+--------+--------+----------------+---------------+------+-----+----+\n",
      "|State Code|County Code|  State|  County|NO2 Units| NO2 Mean|NO2 1st Max Value|NO2 1st Max Hour|NO2 AQI|O3 Units| O3 Mean|O3 1st Max Value|O3 1st Max Hour|O3 AQI|SO2 Units|SO2 Mean|SO2 1st Max Value|SO2 1st Max Hour|SO2 AQI|CO Units| CO Mean|CO 1st Max Value|CO 1st Max Hour|CO AQI| fips|Year|\n",
      "+----------+-----------+-------+--------+---------+---------+-----------------+----------------+-------+--------+--------+----------------+---------------+------+---------+--------+-----------------+----------------+-------+--------+--------+----------------+---------------+------+-----+----+\n",
      "|        04|        013|Arizona|Maricopa|      ppb|32.208333|             48.0|              18|     45|     ppm|0.013208|           0.034|             10|    29|      ppb|3.333333|              6.0|              23|    9.0|     ppm|  1.0375|             2.0|              4|  NULL|04013|2010|\n",
      "|        04|        013|Arizona|Maricopa|      ppb|32.208333|             48.0|              18|     45|     ppm|0.013208|           0.034|             10|    29|      ppb|3.333333|              6.0|              23|    9.0|     ppm|0.973684|             1.6|              5|  18.0|04013|2010|\n",
      "|        04|        013|Arizona|Maricopa|      ppb|32.208333|             48.0|              18|     45|     ppm|0.013208|           0.034|             10|    29|      ppb|  3.2875|              4.6|               2|   NULL|     ppm|  1.0375|             2.0|              4|  NULL|04013|2010|\n",
      "|        04|        013|Arizona|Maricopa|      ppb|32.208333|             48.0|              18|     45|     ppm|0.013208|           0.034|             10|    29|      ppb|  3.2875|              4.6|               2|   NULL|     ppm|0.973684|             1.6|              5|  18.0|04013|2010|\n",
      "|        04|        013|Arizona|Maricopa|      ppb|     35.5|             51.0|               9|     48|     ppm|    0.01|           0.025|             10|    21|      ppb|4.083333|              7.0|              22|   10.0|     ppm|  0.9875|             2.1|             22|  NULL|04013|2010|\n",
      "|        04|        013|Arizona|Maricopa|      ppb|     35.5|             51.0|               9|     48|     ppm|    0.01|           0.025|             10|    21|      ppb|4.083333|              7.0|              22|   10.0|     ppm|0.945833|             1.3|              3|  15.0|04013|2010|\n",
      "|        04|        013|Arizona|Maricopa|      ppb|     35.5|             51.0|               9|     48|     ppm|    0.01|           0.025|             10|    21|      ppb|    4.05|              6.3|              23|   NULL|     ppm|  0.9875|             2.1|             22|  NULL|04013|2010|\n",
      "|        04|        013|Arizona|Maricopa|      ppb|     35.5|             51.0|               9|     48|     ppm|    0.01|           0.025|             10|    21|      ppb|    4.05|              6.3|              23|   NULL|     ppm|0.945833|             1.3|              3|  15.0|04013|2010|\n",
      "|        04|        013|Arizona|Maricopa|      ppb|33.166667|             55.0|              19|     52|     ppm|0.011042|           0.028|             10|    24|      ppb|3.208333|              6.0|              20|    9.0|     ppm|    0.85|             1.9|             20|  NULL|04013|2010|\n",
      "|        04|        013|Arizona|Maricopa|      ppb|33.166667|             55.0|              19|     52|     ppm|0.011042|           0.028|             10|    24|      ppb|3.208333|              6.0|              20|    9.0|     ppm|0.895833|             1.4|              2|  16.0|04013|2010|\n",
      "|        04|        013|Arizona|Maricopa|      ppb|33.166667|             55.0|              19|     52|     ppm|0.011042|           0.028|             10|    24|      ppb|   3.175|              4.0|               8|   NULL|     ppm|    0.85|             1.9|             20|  NULL|04013|2010|\n",
      "|        04|        013|Arizona|Maricopa|      ppb|33.166667|             55.0|              19|     52|     ppm|0.011042|           0.028|             10|    24|      ppb|   3.175|              4.0|               8|   NULL|     ppm|0.895833|             1.4|              2|  16.0|04013|2010|\n",
      "|        04|        013|Arizona|Maricopa|      ppb|   35.625|             55.0|               7|     52|     ppm|0.013875|           0.036|              9|    31|      ppb|3.791667|              9.0|               7|   13.0|     ppm|0.841667|             2.2|              7|  NULL|04013|2010|\n",
      "|        04|        013|Arizona|Maricopa|      ppb|   35.625|             55.0|               7|     52|     ppm|0.013875|           0.036|              9|    31|      ppb|3.791667|              9.0|               7|   13.0|     ppm|0.879167|             1.3|              8|  15.0|04013|2010|\n",
      "|        04|        013|Arizona|Maricopa|      ppb|   35.625|             55.0|               7|     52|     ppm|0.013875|           0.036|              9|    31|      ppb|  3.7625|              7.3|               8|   NULL|     ppm|0.841667|             2.2|              7|  NULL|04013|2010|\n",
      "|        04|        013|Arizona|Maricopa|      ppb|   35.625|             55.0|               7|     52|     ppm|0.013875|           0.036|              9|    31|      ppb|  3.7625|              7.3|               8|   NULL|     ppm|0.879167|             1.3|              8|  15.0|04013|2010|\n",
      "|        04|        013|Arizona|Maricopa|      ppb|42.708333|             60.0|               9|     57|     ppm|0.011292|            0.03|             10|    25|      ppb|5.041667|              9.0|               7|   13.0|     ppm|1.008333|             2.1|             20|  NULL|04013|2010|\n",
      "|        04|        013|Arizona|Maricopa|      ppb|42.708333|             60.0|               9|     57|     ppm|0.011292|            0.03|             10|    25|      ppb|5.041667|              9.0|               7|   13.0|     ppm|   0.925|             1.3|             23|  15.0|04013|2010|\n",
      "|        04|        013|Arizona|Maricopa|      ppb|42.708333|             60.0|               9|     57|     ppm|0.011292|            0.03|             10|    25|      ppb|   5.025|              8.3|               8|   NULL|     ppm|1.008333|             2.1|             20|  NULL|04013|2010|\n",
      "|        04|        013|Arizona|Maricopa|      ppb|42.708333|             60.0|               9|     57|     ppm|0.011292|            0.03|             10|    25|      ppb|   5.025|              8.3|               8|   NULL|     ppm|   0.925|             1.3|             23|  15.0|04013|2010|\n",
      "+----------+-----------+-------+--------+---------+---------+-----------------+----------------+-------+--------+--------+----------------+---------------+------+---------+--------+-----------------+----------------+-------+--------+--------+----------------+---------------+------+-----+----+\n",
      "only showing top 20 rows\n",
      "\n"
     ]
    }
   ],
   "source": [
    "df2 = df2.filter((df2[\"Year\"] <= 2014) & (df2['Year'] >= 2010))        # Removes rows where 'Year' is greater than 2014 and less than 2010 (Keeps rows in Year interval [2010; 2014])\n",
    "df2 = df2.drop(\"_c0\", \"Site Num\", \"Address\", \"City\")                   # Drop the columns that are no longer necessary for df2\n",
    "\n",
    "# Replace \"Parts per billion\" with \"ppb\" in columns \"NO2 Units\", \"SO2 Units\"; Replace \"Parts per million\" with \"ppm\" in columns \"O2 Units\", \"CO Units\"\n",
    "colvalues_replace = {\n",
    "    \"NO2 Units\": \"ppb\",\n",
    "    \"SO2 Units\": \"ppb\",\n",
    "    \"O3 Units\": \"ppm\",\n",
    "    \"CO Units\": \"ppm\"\n",
    "}\n",
    "for col_name, replacement_value in colvalues_replace.items():\n",
    "    df2 = df2.withColumn(col_name, when(df2[col_name] == \"Parts per billion\", \"ppb\").otherwise(replacement_value))\n",
    "\n",
    "df2.show()"
   ]
  },
  {
   "cell_type": "code",
   "execution_count": 13,
   "metadata": {},
   "outputs": [
    {
     "name": "stdout",
     "output_type": "stream",
     "text": [
      "Rows before dropping duplicates: 627594\n",
      "+----------+-----------+----------+------------+---------+---------+-----------------+----------------+-------+--------+--------+----------------+---------------+------+---------+--------+-----------------+----------------+-------+--------+--------+----------------+---------------+------+-----+----+\n",
      "|State Code|County Code|     State|      County|NO2 Units| NO2 Mean|NO2 1st Max Value|NO2 1st Max Hour|NO2 AQI|O3 Units| O3 Mean|O3 1st Max Value|O3 1st Max Hour|O3 AQI|SO2 Units|SO2 Mean|SO2 1st Max Value|SO2 1st Max Hour|SO2 AQI|CO Units| CO Mean|CO 1st Max Value|CO 1st Max Hour|CO AQI| fips|Year|\n",
      "+----------+-----------+----------+------------+---------+---------+-----------------+----------------+-------+--------+--------+----------------+---------------+------+---------+--------+-----------------+----------------+-------+--------+--------+----------------+---------------+------+-----+----+\n",
      "|        04|        013|   Arizona|    Maricopa|      ppb|10.708333|             21.0|              19|     20|     ppm|0.030417|           0.041|             10|    35|      ppb|0.583333|              1.0|               7|    1.0|     ppm|     0.2|             0.2|              0|   2.0|04013|2010|\n",
      "|        04|        013|   Arizona|    Maricopa|      ppb|17.333333|             42.0|              21|     40|     ppm|0.021292|           0.043|             10|    36|      ppb|0.772727|              2.0|              22|    3.0|     ppm|0.158333|             0.4|             23|   5.0|04013|2010|\n",
      "|        04|        019|   Arizona|        Pima|      ppb| 5.833333|             13.0|              23|     12|     ppm| 0.03225|           0.046|             13|    39|      ppb|0.333333|              1.0|              11|    1.0|     ppm|0.129167|             0.2|              0|   2.0|04019|2010|\n",
      "|        04|        019|   Arizona|        Pima|      ppb|16.458333|             27.0|               7|     25|     ppm|0.011958|           0.025|              9|    21|      ppb|  0.4375|              0.6|               8|    0.0|     ppm|0.308333|             0.4|              0|   5.0|04019|2010|\n",
      "|        04|        019|   Arizona|        Pima|      ppb| 4.566667|             14.2|               0|     13|     ppm|0.027042|           0.034|             13|    29|      ppb|0.033333|              0.1|               0|    0.0|     ppm|0.129167|             0.2|              0|   2.0|04019|2010|\n",
      "|        04|        019|   Arizona|        Pima|      ppb|   16.725|             33.9|              22|     31|     ppm|   0.017|           0.039|             10|    33|      ppb|0.226087|              0.6|              21|    0.0|     ppm|0.229167|             0.4|             22|   5.0|04019|2010|\n",
      "|        05|        119|  Arkansas|     Pulaski|      ppb|   15.375|             27.0|               7|     25|     ppm| 0.02475|            0.04|             14|    34|      ppb|1.591667|              3.5|              15|    4.0|     ppm|  0.5375|             0.6|              7|   7.0|05119|2010|\n",
      "|        05|        119|  Arkansas|     Pulaski|      ppb| 9.041667|             22.0|              20|     21|     ppm|0.028583|           0.045|             10|    38|      ppb|0.491667|              0.7|              17|    0.0|     ppm|0.291667|             0.4|              8|   5.0|05119|2010|\n",
      "|        05|        119|  Arkansas|     Pulaski|      ppb| 7.166667|             13.0|              18|     12|     ppm|0.023125|           0.034|              0|    29|      ppb|1.083333|              3.0|              13|    4.0|     ppm|     0.5|             0.5|              0|   6.0|05119|2010|\n",
      "|        05|        119|  Arkansas|     Pulaski|      ppb| 9.416667|             21.0|               2|     20|     ppm|0.021708|           0.032|              9|    27|      ppb|0.870833|              2.0|               6|    3.0|     ppm|0.504167|             0.7|              4|   8.0|05119|2010|\n",
      "|        05|        119|  Arkansas|     Pulaski|      ppb| 7.291667|             16.0|               2|     15|     ppm|0.026917|           0.041|             10|    35|      ppb|1.416667|              3.0|               9|    4.0|     ppm|0.429167|             0.5|              0|   6.0|05119|2010|\n",
      "|        05|        119|  Arkansas|     Pulaski|      ppb|      8.0|             19.0|              21|     18|     ppm|0.033417|           0.056|              9|    47|      ppb|0.458333|              0.8|              22|    0.0|     ppm|0.366667|             0.4|              8|   5.0|05119|2010|\n",
      "|        05|        119|  Arkansas|     Pulaski|      ppb| 8.333333|             27.0|               6|     25|     ppm|0.041333|            0.06|              9|    51|      ppb|   2.125|              3.0|               8|    4.0|     ppm|0.366667|             0.4|              0|   5.0|05119|2010|\n",
      "|        06|        001|California|     Alameda|      ppb|18.434783|             29.0|               0|     27|     ppm|0.013208|            0.03|             11|    25|      ppb|1.136364|              2.0|              10|    3.0|     ppm|0.395833|             0.5|              0|   6.0|06001|2010|\n",
      "|        06|        001|California|     Alameda|      ppb|  9.03913|             15.6|               8|     14|     ppm|0.022917|           0.034|             21|    29|      ppb|0.740909|              1.4|              11|    1.0|     ppm|0.120833|             0.2|              0|   2.0|06001|2010|\n",
      "|        06|        013|California|Contra Costa|      ppb|  6.73913|             16.0|               0|     15|     ppm|0.028083|           0.038|             12|    32|      ppb|0.086957|              1.0|               8|    1.0|     ppm|0.420833|             0.6|              0|   7.0|06013|2010|\n",
      "|        06|        013|California|Contra Costa|      ppb|21.073913|             37.5|              17|     35|     ppm|0.008125|           0.022|              9|    19|      ppb|1.473913|              6.8|              11|    9.0|     ppm|0.683333|             1.0|              1|  11.0|06013|2010|\n",
      "|        06|        013|California|Contra Costa|      ppb| 2.217391|              4.0|              19|      4|     ppm|0.023333|           0.031|             10|    26|      ppb|1.727273|              3.0|              10|    4.0|     ppm|     0.3|             0.3|              0|   3.0|06013|2010|\n",
      "|        06|        013|California|Contra Costa|      ppb| 6.090909|             13.0|              20|     12|     ppm|0.016792|           0.021|             10|    18|      ppb|1.095238|              2.0|               9|    3.0|     ppm|0.279167|             0.3|              0|   3.0|06013|2010|\n",
      "|        06|        013|California|Contra Costa|      ppb|18.856522|             30.6|               9|     28|     ppm|0.013167|           0.034|             23|    29|      ppb|2.654545|              3.3|               9|    4.0|     ppm|0.683333|             0.8|              0|   9.0|06013|2010|\n",
      "+----------+-----------+----------+------------+---------+---------+-----------------+----------------+-------+--------+--------+----------------+---------------+------+---------+--------+-----------------+----------------+-------+--------+--------+----------------+---------------+------+-----+----+\n",
      "only showing top 20 rows\n",
      "\n",
      "Rows after dropping duplicates: 625301\n"
     ]
    }
   ],
   "source": [
    "print(f\"Rows before dropping duplicates: {df2.count()}\") # Rows we have before dropping duplicates\n",
    "\n",
    "# Drop duplicates from df2\n",
    "df2 = df2.dropDuplicates()\n",
    "df2.show()\n",
    "\n",
    "print(f\"Rows after dropping duplicates: {df2.count()}\") # Rows we have after dropping the duplicates"
   ]
  },
  {
   "cell_type": "markdown",
   "metadata": {},
   "source": [
    "# Final merging of our datasets and further pre-processing (if necessary): **\"df_final\"**"
   ]
  },
  {
   "cell_type": "code",
   "execution_count": 14,
   "metadata": {},
   "outputs": [
    {
     "name": "stdout",
     "output_type": "stream",
     "text": [
      "+-----+----+--------+-----------+------+------------------+-------------------+------------------+---------------+----------+----------+-----------+----------+--------+---------+--------+-----------------+----------------+-------+--------+--------+----------------+---------------+------+---------+--------+-----------------+----------------+-------+--------+--------+----------------+---------------+------+\n",
      "| fips|Year|cause_id|location_id|sex_id|              rate|              lower|             upper|  location_name|cause_name|State Code|County Code|     State|  County|NO2 Units|NO2 Mean|NO2 1st Max Value|NO2 1st Max Hour|NO2 AQI|O3 Units| O3 Mean|O3 1st Max Value|O3 1st Max Hour|O3 AQI|SO2 Units|SO2 Mean|SO2 1st Max Value|SO2 1st Max Hour|SO2 AQI|CO Units| CO Mean|CO 1st Max Value|CO 1st Max Hour|CO AQI|\n",
      "+-----+----+--------+-----------+------+------------------+-------------------+------------------+---------------+----------+----------+-----------+----------+--------+---------+--------+-----------------+----------------+-------+--------+--------+----------------+---------------+------+---------+--------+-----------------+----------------+-------+--------+--------+----------------+---------------+------+\n",
      "|06023|2014|     511|        761|     1|0.0114629347776297|0.00147249682585875|0.0421850185323055|Humboldt County| Silicosis|        06|        023|California|Humboldt|      ppb|0.154167|              0.6|              18|      0|     ppm|0.029333|            0.03|              0|    28|      ppb|    0.05|              0.1|               2|   NULL|     ppm|     0.1|             0.1|              0|  NULL|\n",
      "|06023|2014|     511|        761|     1|0.0114629347776297|0.00147249682585875|0.0421850185323055|Humboldt County| Silicosis|        06|        023|California|Humboldt|      ppb|1.695652|              4.0|               3|      4|     ppm|0.016542|           0.023|             10|    21|      ppb|0.429167|              0.6|              13|    0.0|     ppm|     0.1|             0.1|              0|   1.0|\n",
      "|06023|2014|     511|        761|     1|0.0114629347776297|0.00147249682585875|0.0421850185323055|Humboldt County| Silicosis|        06|        023|California|Humboldt|      ppb|2.170833|              6.1|               3|      6|     ppm|0.027042|            0.03|             12|    28|      ppb|  0.1875|              0.3|               3|    0.0|     ppm|     0.2|             0.2|              0|   2.0|\n",
      "|06023|2014|     511|        761|     1|0.0114629347776297|0.00147249682585875|0.0421850185323055|Humboldt County| Silicosis|        06|        023|California|Humboldt|      ppb|0.558333|              1.3|               5|      1|     ppm| 0.01825|            0.02|              7|    19|      ppb|   0.625|              0.7|              11|   NULL|     ppm|0.191667|             0.2|              0|  NULL|\n",
      "|06023|2014|     511|        761|     1|0.0114629347776297|0.00147249682585875|0.0421850185323055|Humboldt County| Silicosis|        06|        023|California|Humboldt|      ppb|0.558333|              1.3|               5|      1|     ppm| 0.01825|            0.02|              7|    19|      ppb|   0.625|              0.7|              11|   NULL|     ppm|     0.2|             0.2|              0|   2.0|\n",
      "|06023|2014|     511|        761|     1|0.0114629347776297|0.00147249682585875|0.0421850185323055|Humboldt County| Silicosis|        06|        023|California|Humboldt|      ppb|1.908333|             11.9|              19|     10|     ppm|0.020583|           0.033|              0|    31|      ppb|     0.0|              0.0|               2|   NULL|     ppm|0.208333|             0.3|             20|   3.0|\n",
      "|06023|2014|     511|        761|     1|0.0114629347776297|0.00147249682585875|0.0421850185323055|Humboldt County| Silicosis|        06|        023|California|Humboldt|      ppb| 0.18125|              0.6|              14|      0|     ppm|   0.027|           0.033|             23|    31|      ppb|     0.0|              0.2|               0|    0.0|     ppm|     0.3|             0.3|              0|   3.0|\n",
      "|06023|2014|     511|        761|     1|0.0114629347776297|0.00147249682585875|0.0421850185323055|Humboldt County| Silicosis|        06|        023|California|Humboldt|      ppb|2.045455|             11.4|               6|     10|     ppm|0.013667|           0.028|             23|    26|      ppb|0.636364|              0.9|               7|    0.0|     ppm|    0.25|             0.3|              0|   3.0|\n",
      "|06023|2014|     511|        761|     1|0.0114629347776297|0.00147249682585875|0.0421850185323055|Humboldt County| Silicosis|        06|        023|California|Humboldt|      ppb|     0.6|              3.1|              14|      3|     ppm|0.025458|            0.03|             15|    28|      ppb|  -0.325|             -0.3|               2|   NULL|     ppm|0.358333|             0.4|             17|   5.0|\n",
      "|06023|2014|     511|        761|     1|0.0114629347776297|0.00147249682585875|0.0421850185323055|Humboldt County| Silicosis|        06|        023|California|Humboldt|      ppb|0.705263|              3.2|              21|      3|     ppm|0.023952|            0.03|              6|    28|      ppb|0.268421|              0.3|               4|    0.0|     ppm|0.384211|             0.4|              4|  NULL|\n",
      "|06023|2014|     511|        761|     1|0.0114629347776297|0.00147249682585875|0.0421850185323055|Humboldt County| Silicosis|        06|        023|California|Humboldt|      ppb|  0.9875|              5.0|              16|      5|     ppm|0.030684|           0.038|              1|    35|      ppb|  0.6875|              0.7|               5|   NULL|     ppm|0.391667|             0.5|             21|  NULL|\n",
      "|06023|2014|     511|        761|     1|0.0114629347776297|0.00147249682585875|0.0421850185323055|Humboldt County| Silicosis|        06|        023|California|Humboldt|      ppb|3.258333|             14.5|               8|     13|     ppm|0.013833|           0.023|             10|    21|      ppb|   0.675|              0.8|               8|   NULL|     ppm|0.233333|             0.5|              7|  NULL|\n",
      "|06023|2014|     511|        761|     1|0.0114629347776297|0.00147249682585875|0.0421850185323055|Humboldt County| Silicosis|        06|        023|California|Humboldt|      ppb|   3.725|              8.5|              10|      8|     ppm|0.011583|           0.019|              8|    18|      ppb|    0.82|              0.9|              14|   NULL|     ppm|0.508333|             0.6|              0|   7.0|\n",
      "|06023|2014|     511|        761|     1|0.0114629347776297|0.00147249682585875|0.0421850185323055|Humboldt County| Silicosis|        06|        023|California|Humboldt|      ppb|6.579167|             18.4|              19|     17|     ppm|0.006292|           0.011|             14|    10|      ppb|    1.05|              1.2|               8|    1.0|     ppm|0.295833|             0.6|             19|  NULL|\n",
      "|06023|2014|     511|        761|     1|0.0114629347776297|0.00147249682585875|0.0421850185323055|Humboldt County| Silicosis|        06|        023|California|Humboldt|      ppb|0.313043|              1.6|              16|      1|     ppm|0.029667|           0.033|             18|    31|      ppb| -0.3625|             -0.3|              17|   NULL|     ppm|     0.2|             0.2|              0|   2.0|\n",
      "|06023|2014|     511|        761|     1|0.0114629347776297|0.00147249682585875|0.0421850185323055|Humboldt County| Silicosis|        06|        023|California|Humboldt|      ppb|    0.55|              1.3|               9|      1|     ppm|0.019542|           0.024|             10|    22|      ppb|0.008333|              0.1|               0|    0.0|     ppm|     0.3|             0.3|              0|   3.0|\n",
      "|06023|2014|     511|        761|     1|0.0114629347776297|0.00147249682585875|0.0421850185323055|Humboldt County| Silicosis|        06|        023|California|Humboldt|      ppb|   1.575|              3.3|               7|      3|     ppm|0.024375|           0.029|             10|    27|      ppb|  0.5875|              0.6|               0|    0.0|     ppm|     0.3|             0.3|              0|   3.0|\n",
      "|06023|2014|     511|        761|     1|0.0114629347776297|0.00147249682585875|0.0421850185323055|Humboldt County| Silicosis|        06|        023|California|Humboldt|      ppb|2.045455|             11.4|               6|     10|     ppm|0.013667|           0.028|             23|    26|      ppb|0.628571|              0.8|               8|   NULL|     ppm|    0.25|             0.3|              0|   3.0|\n",
      "|06023|2014|     511|        761|     1|0.0114629347776297|0.00147249682585875|0.0421850185323055|Humboldt County| Silicosis|        06|        023|California|Humboldt|      ppb|0.491667|              3.0|               0|      3|     ppm|0.032417|           0.036|             10|    33|      ppb|  0.8875|              0.9|               2|   NULL|     ppm|0.208333|             0.3|              0|  NULL|\n",
      "|06023|2014|     511|        761|     1|0.0114629347776297|0.00147249682585875|0.0421850185323055|Humboldt County| Silicosis|        06|        023|California|Humboldt|      ppb|    0.42|              2.2|              18|      2|     ppm|0.034167|           0.038|              1|    35|      ppb|   0.275|              1.1|               2|   NULL|     ppm|0.213333|             0.3|              7|  NULL|\n",
      "+-----+----+--------+-----------+------+------------------+-------------------+------------------+---------------+----------+----------+-----------+----------+--------+---------+--------+-----------------+----------------+-------+--------+--------+----------------+---------------+------+---------+--------+-----------------+----------------+-------+--------+--------+----------------+---------------+------+\n",
      "only showing top 20 rows\n",
      "\n"
     ]
    }
   ],
   "source": [
    "# Merge df1_merged and df2 on 'fips' and 'Year' columns\n",
    "df_final = df1_merged.join(df2, on=['fips', 'Year'], how='inner')\n",
    "df_final.show()"
   ]
  },
  {
   "cell_type": "code",
   "execution_count": 15,
   "metadata": {},
   "outputs": [
    {
     "name": "stdout",
     "output_type": "stream",
     "text": [
      "+----------+-----------+-------+--------+---------------+---------+-----------------+----------------+-------+---------+--------+----------------+---------------+------+--------+--------+-----------------+----------------+-------+---------+--------+----------------+---------------+------+--------+\n",
      "|State Code|County Code|  State|  County|  location_name| NO2 Mean|NO2 1st Max Value|NO2 1st Max Hour|NO2 AQI|NO2 Units| O3 Mean|O3 1st Max Value|O3 1st Max Hour|O3 AQI|O3 Units|SO2 Mean|SO2 1st Max Value|SO2 1st Max Hour|SO2 AQI|SO2 Units| CO Mean|CO 1st Max Value|CO 1st Max Hour|CO AQI|CO Units|\n",
      "+----------+-----------+-------+--------+---------------+---------+-----------------+----------------+-------+---------+--------+----------------+---------------+------+--------+--------+-----------------+----------------+-------+---------+--------+----------------+---------------+------+--------+\n",
      "|        04|        013|Arizona|Maricopa|Maricopa County|10.708333|             21.0|              19|     20|      ppb|0.030417|           0.041|             10|    35|     ppm|0.583333|              1.0|               7|    1.0|      ppb|     0.2|             0.2|              0|   2.0|     ppm|\n",
      "|        04|        013|Arizona|Maricopa|Maricopa County|17.333333|             42.0|              21|     40|      ppb|0.021292|           0.043|             10|    36|     ppm|0.772727|              2.0|              22|    3.0|      ppb|0.158333|             0.4|             23|   5.0|     ppm|\n",
      "|        04|        013|Arizona|Maricopa|Maricopa County|   22.875|             36.0|               0|     34|      ppb|0.013458|           0.031|             12|    26|     ppm|1.416667|              5.0|               9|    7.0|      ppb|   0.325|             0.6|              0|   7.0|     ppm|\n",
      "|        04|        013|Arizona|Maricopa|Maricopa County|12.583333|             35.0|              20|     33|      ppb|0.022792|            0.04|             10|    34|     ppm|    0.75|              2.0|              22|    3.0|      ppb|0.308333|             0.5|             23|   6.0|     ppm|\n",
      "|        04|        013|Arizona|Maricopa|Maricopa County|22.166667|             45.0|              21|     42|      ppb|0.025042|           0.053|             11|    45|     ppm|2.041667|              6.0|              10|    9.0|      ppb|0.433333|             0.7|              1|   8.0|     ppm|\n",
      "|        04|        013|Arizona|Maricopa|Maricopa County|   12.625|             26.0|              20|     25|      ppb|0.021958|           0.045|             10|    38|     ppm|   0.625|              2.0|               8|    3.0|      ppb|  0.1125|             0.2|              8|   2.0|     ppm|\n",
      "|        04|        013|Arizona|Maricopa|Maricopa County|14.083333|             45.0|               0|     42|      ppb|0.036625|           0.059|              9|    50|     ppm|1.291667|              3.0|               0|    4.0|      ppb|0.395833|             0.8|              3|   9.0|     ppm|\n",
      "|        04|        013|Arizona|Maricopa|Maricopa County| 6.708333|             21.0|               4|     20|      ppb|0.030833|           0.043|             10|    36|     ppm|1.041667|              2.0|               9|    3.0|      ppb|0.133333|             0.2|              6|   2.0|     ppm|\n",
      "|        04|        013|Arizona|Maricopa|Maricopa County|     16.6|             33.0|              22|     31|      ppb|0.028875|           0.056|             10|    47|     ppm|1.041667|              2.0|              23|    3.0|      ppb|0.191667|             0.3|              5|   3.0|     ppm|\n",
      "|        04|        013|Arizona|Maricopa|Maricopa County|12.833333|             37.0|              19|     35|      ppb|0.017375|           0.035|             10|    30|     ppm|1.166667|              2.0|               8|    3.0|      ppb|0.333333|             0.7|             23|   8.0|     ppm|\n",
      "|        04|        013|Arizona|Maricopa|Maricopa County|    12.25|             46.0|              20|     43|      ppb|0.030792|           0.055|             11|    47|     ppm|1.083333|              2.0|               7|    3.0|      ppb|0.483333|             0.7|             22|   8.0|     ppm|\n",
      "|        04|        013|Arizona|Maricopa|Maricopa County|29.409091|             66.0|              19|     64|      ppb|0.034625|           0.072|              9|    90|     ppm|1.695652|              4.0|              10|    6.0|      ppb|0.433333|             0.7|             23|   8.0|     ppm|\n",
      "|        04|        013|Arizona|Maricopa|Maricopa County|   25.625|             40.0|              18|     38|      ppb|0.010708|           0.028|             10|    24|     ppm|   1.875|              2.0|               0|    3.0|      ppb|0.895833|             1.4|              2|  16.0|     ppm|\n",
      "|        04|        013|Arizona|Maricopa|Maricopa County|18.347826|             52.0|              20|     49|      ppb|0.029917|           0.061|             11|    54|     ppm|1.583333|              2.0|               6|    3.0|      ppb|  0.4625|             0.6|              7|   7.0|     ppm|\n",
      "|        04|        013|Arizona|Maricopa|Maricopa County|13.708333|             38.0|              22|     36|      ppb|0.030375|           0.051|             10|    43|     ppm|0.291667|              2.0|               2|    3.0|      ppb|   0.275|             0.6|              2|   7.0|     ppm|\n",
      "|        04|        013|Arizona|Maricopa|Maricopa County|15.541667|             36.0|               0|     34|      ppb|0.027708|           0.048|             10|    41|     ppm|1.041667|              2.0|               0|    3.0|      ppb|0.479167|             0.9|              2|  10.0|     ppm|\n",
      "|        04|        013|Arizona|Maricopa|Maricopa County|19.421053|             41.0|              19|     39|      ppb|0.015958|           0.039|             10|    33|     ppm|1.478261|              2.0|               8|    3.0|      ppb|  0.4625|             0.7|              1|   8.0|     ppm|\n",
      "|        04|        013|Arizona|Maricopa|Maricopa County|    17.45|             43.0|              19|     41|      ppb|0.023792|           0.043|             10|    36|     ppm|1.173913|              2.0|               7|    3.0|      ppb|0.454167|             0.6|              1|   7.0|     ppm|\n",
      "|        04|        013|Arizona|Maricopa|Maricopa County|12.041667|             34.0|              19|     32|      ppb|0.025083|            0.04|             10|    34|     ppm|     1.0|              1.0|               0|    1.0|      ppb|0.245833|             0.4|             22|   5.0|     ppm|\n",
      "|        04|        013|Arizona|Maricopa|Maricopa County|14.541667|             25.0|               6|     24|      ppb|0.024708|           0.043|             11|    36|     ppm|1.458333|              3.0|              16|    4.0|      ppb|     0.2|             0.2|              0|   2.0|     ppm|\n",
      "+----------+-----------+-------+--------+---------------+---------+-----------------+----------------+-------+---------+--------+----------------+---------------+------+--------+--------+-----------------+----------------+-------+---------+--------+----------------+---------------+------+--------+\n",
      "only showing top 20 rows\n",
      "\n"
     ]
    }
   ],
   "source": [
    "# Reorganizing the columns so we have an easier time reading it (this function is defunct! However running it has no effect.)\n",
    "sortedcols = ['Year', 'fips', 'State Code', 'County Code', 'State', 'County', \n",
    "              'location_name', 'cause_name', 'rate', 'upper', 'lower',\n",
    "              'NO2 Mean', 'NO2 1st Max Value', 'NO2 1st Max Hour', 'NO2 AQI', 'NO2 Units', \n",
    "              'O3 Mean', 'O3 1st Max Value', 'O3 1st Max Hour', 'O3 AQI', 'O3 Units', \n",
    "              'SO2 Mean', 'SO2 1st Max Value', 'SO2 1st Max Hour', 'SO2 AQI', 'SO2 Units', \n",
    "              'CO Mean', 'CO 1st Max Value', 'CO 1st Max Hour', 'CO AQI', 'CO Units']\n",
    "\n",
    "# When trying to perform later steps with all the columns included, errors arise, possibly due to the size of the dataset or perhaps values in specific columns that don't do well together.\n",
    "# For this we will seperate our dataframe in two, export them to MongoDB separately and then join them together later in PowerBI.\n",
    "sortedcols_part1 = ['State Code', 'County Code', 'State', 'County', \n",
    "              'location_name',\n",
    "              'NO2 Mean', 'NO2 1st Max Value', 'NO2 1st Max Hour', 'NO2 AQI', 'NO2 Units', \n",
    "              'O3 Mean', 'O3 1st Max Value', 'O3 1st Max Hour', 'O3 AQI', 'O3 Units', \n",
    "              'SO2 Mean', 'SO2 1st Max Value', 'SO2 1st Max Hour', 'SO2 AQI', 'SO2 Units', \n",
    "              'CO Mean', 'CO 1st Max Value', 'CO 1st Max Hour', 'CO AQI', 'CO Units']\n",
    "\n",
    "sortedcols_part2 = ['Year', 'fips', 'cause_name', 'rate', 'upper', 'lower']\n",
    "\n",
    "df_final_part1 = df_final.select(sortedcols_part1)\n",
    "df_final_part2 = df_final.select(sortedcols_part2)\n",
    "df_final_part1 = df_final_part1.orderBy('Year', 'State Code', 'County Code') # Order the part 1 DataFrame by \"Year\", \"State Code\" and \"County Code\" columns\n",
    "df_final_part2 = df_final_part2.orderBy('Year', 'fips') # Order the part 2 DataFrame by \"Year\" and 'fips' columns\n",
    "\n",
    "df_final_part1.show()"
   ]
  },
  {
   "cell_type": "code",
   "execution_count": 16,
   "metadata": {},
   "outputs": [
    {
     "name": "stdout",
     "output_type": "stream",
     "text": [
      "+----+-----+--------------------+------------------+------------------+-------------------+\n",
      "|Year| fips|          cause_name|              rate|             upper|              lower|\n",
      "+----+-----+--------------------+------------------+------------------+-------------------+\n",
      "|2010|04013|Coal workers pneu...|0.0167426336938913|0.0360725876449854|0.00785913878447302|\n",
      "|2010|04013|Coal workers pneu...|0.0167426336938913|0.0360725876449854|0.00785913878447302|\n",
      "|2010|04013|Coal workers pneu...|0.0167426336938913|0.0360725876449854|0.00785913878447302|\n",
      "|2010|04013|Coal workers pneu...|0.0167426336938913|0.0360725876449854|0.00785913878447302|\n",
      "|2010|04013|Coal workers pneu...|0.0167426336938913|0.0360725876449854|0.00785913878447302|\n",
      "|2010|04013|Coal workers pneu...|0.0167426336938913|0.0360725876449854|0.00785913878447302|\n",
      "|2010|04013|Coal workers pneu...|0.0167426336938913|0.0360725876449854|0.00785913878447302|\n",
      "|2010|04013|Coal workers pneu...|0.0167426336938913|0.0360725876449854|0.00785913878447302|\n",
      "|2010|04013|Coal workers pneu...|0.0167426336938913|0.0360725876449854|0.00785913878447302|\n",
      "|2010|04013|Coal workers pneu...|0.0167426336938913|0.0360725876449854|0.00785913878447302|\n",
      "|2010|04013|Coal workers pneu...|0.0167426336938913|0.0360725876449854|0.00785913878447302|\n",
      "|2010|04013|Coal workers pneu...|0.0167426336938913|0.0360725876449854|0.00785913878447302|\n",
      "|2010|04013|Coal workers pneu...|0.0167426336938913|0.0360725876449854|0.00785913878447302|\n",
      "|2010|04013|Coal workers pneu...|0.0167426336938913|0.0360725876449854|0.00785913878447302|\n",
      "|2010|04013|Coal workers pneu...|0.0167426336938913|0.0360725876449854|0.00785913878447302|\n",
      "|2010|04013|Coal workers pneu...|0.0167426336938913|0.0360725876449854|0.00785913878447302|\n",
      "|2010|04013|Coal workers pneu...|0.0167426336938913|0.0360725876449854|0.00785913878447302|\n",
      "|2010|04013|Coal workers pneu...|0.0167426336938913|0.0360725876449854|0.00785913878447302|\n",
      "|2010|04013|Coal workers pneu...|0.0167426336938913|0.0360725876449854|0.00785913878447302|\n",
      "|2010|04013|Coal workers pneu...|0.0167426336938913|0.0360725876449854|0.00785913878447302|\n",
      "+----+-----+--------------------+------------------+------------------+-------------------+\n",
      "only showing top 20 rows\n",
      "\n"
     ]
    }
   ],
   "source": [
    "df_final_part2.show()"
   ]
  },
  {
   "cell_type": "code",
   "execution_count": 17,
   "metadata": {},
   "outputs": [
    {
     "name": "stdout",
     "output_type": "stream",
     "text": [
      "Rows before dropping duplicates (part 1): 17244900\n",
      "+----------+-----------+-----------+----------------+--------------------+---------+-----------------+----------------+-------+---------+--------+----------------+---------------+------+--------+--------+-----------------+----------------+-------+---------+--------+----------------+---------------+------+--------+\n",
      "|State Code|County Code|      State|          County|       location_name| NO2 Mean|NO2 1st Max Value|NO2 1st Max Hour|NO2 AQI|NO2 Units| O3 Mean|O3 1st Max Value|O3 1st Max Hour|O3 AQI|O3 Units|SO2 Mean|SO2 1st Max Value|SO2 1st Max Hour|SO2 AQI|SO2 Units| CO Mean|CO 1st Max Value|CO 1st Max Hour|CO AQI|CO Units|\n",
      "+----------+-----------+-----------+----------------+--------------------+---------+-----------------+----------------+-------+---------+--------+----------------+---------------+------+--------+--------+-----------------+----------------+-------+---------+--------+----------------+---------------+------+--------+\n",
      "|        06|        023| California|        Humboldt|     Humboldt County|   0.5625|              2.1|               8|      2|      ppb|0.027375|           0.033|             10|    31|     ppm|  0.0875|              0.1|               0|    0.0|      ppb|0.220833|             0.3|             10|   3.0|     ppm|\n",
      "|        06|        023| California|        Humboldt|     Humboldt County| 2.229167|              5.8|              20|      5|      ppb|0.020208|            0.03|             11|    28|     ppm|   0.175|              0.3|               1|    0.0|      ppb|     0.3|             0.3|              0|   3.0|     ppm|\n",
      "|        06|        023| California|        Humboldt|     Humboldt County| 6.908333|             15.6|              17|     14|      ppb|0.009208|           0.019|             11|    18|     ppm|0.158333|              0.3|               8|    0.0|      ppb|  0.3375|             0.4|              8|   5.0|     ppm|\n",
      "|        06|        059| California|          Orange|       Orange County|     6.85|             16.7|               7|     15|      ppb|0.033708|           0.046|              9|    43|     ppm|     0.0|              0.0|               0|    0.0|      ppb|0.038095|             0.1|              7|   1.0|     ppm|\n",
      "|        06|        059| California|          Orange|       Orange County| 8.863636|             29.3|               6|     27|      ppb|0.037875|           0.049|              9|    45|     ppm|0.995238|              1.0|               1|    1.0|      ppb|0.154167|             0.3|              6|   3.0|     ppm|\n",
      "|        06|        059| California|          Orange|       Orange County| 2.386364|              5.6|              23|      5|      ppb|0.039458|           0.046|             11|    43|     ppm|     0.0|              0.0|               0|    0.0|      ppb|0.108333|             0.2|              6|   2.0|     ppm|\n",
      "|        06|        071| California|  San Bernardino|San Bernardino Co...| 18.93913|             30.2|               7|     28|      ppb|0.015208|           0.027|              9|    23|     ppm| 0.06087|              0.9|               7|    0.0|      ppb|     0.1|             0.3|              8|   3.0|     ppm|\n",
      "|        06|        071| California|  San Bernardino|San Bernardino Co...| 9.869565|             15.0|               8|     14|      ppb|0.023292|           0.028|              9|    24|     ppm|     1.0|              1.0|               0|    1.0|      ppb|0.058333|             0.1|             10|   1.0|     ppm|\n",
      "|        06|        071| California|  San Bernardino|San Bernardino Co...|15.495652|             30.4|               0|     28|      ppb|0.043458|           0.077|             10|   104|     ppm|0.126087|              0.9|              16|    0.0|      ppb|   0.275|             0.4|              1|   5.0|     ppm|\n",
      "|        06|        071| California|  San Bernardino|San Bernardino Co...|17.173913|             40.0|               5|     38|      ppb| 0.05025|           0.084|             11|   122|     ppm|1.130435|              2.0|               5|    3.0|      ppb|0.354167|             0.5|              6|   6.0|     ppm|\n",
      "|        06|        073| California|       San Diego|    San Diego County| 2.363636|              6.0|              20|      6|      ppb|0.031333|           0.042|             10|    36|     ppm|0.109091|              0.2|              22|    0.0|      ppb|0.179167|             0.2|              0|   2.0|     ppm|\n",
      "|        08|        001|   Colorado|           Adams|        Adams County|27.913043|             40.0|               9|     38|      ppb|0.003167|           0.009|              9|     8|     ppm|3.458333|             12.0|              12|   17.0|      ppb|   0.475|             0.8|             12|   9.0|     ppm|\n",
      "|        08|        001|   Colorado|           Adams|        Adams County|25.217391|             39.0|               8|     37|      ppb|0.011375|           0.028|             10|    26|     ppm|2.043478|             11.0|              10|   16.0|      ppb|0.641667|             1.0|              3|  11.0|     ppm|\n",
      "|        08|        001|   Colorado|           Adams|        Adams County| 9.652174|             38.0|              23|     36|      ppb|0.037333|            0.04|              1|    37|     ppm|0.666667|              2.0|              22|    3.0|      ppb|0.316667|             0.6|             23|   7.0|     ppm|\n",
      "|        08|        001|   Colorado|           Adams|        Adams County| 4.782609|             19.0|              21|     18|      ppb|0.036583|           0.043|              9|    40|     ppm|0.086957|              1.0|              21|    1.0|      ppb|   0.175|             0.2|              0|   2.0|     ppm|\n",
      "|        08|        001|   Colorado|           Adams|        Adams County|15.956522|             36.0|              17|     34|      ppb|0.016833|           0.027|              0|    25|     ppm|0.166667|              1.0|               7|    1.0|      ppb|0.270833|             0.4|             19|   5.0|     ppm|\n",
      "|        09|        003|Connecticut|        Hartford|     Hartford County|     8.25|             18.0|               6|     17|      ppb|0.038083|           0.062|             11|    58|     ppm|1.073333|              1.8|              14|    1.0|      ppb|0.458824|             0.6|             17|   7.0|     ppm|\n",
      "|        13|        089|    Georgia|          DeKalb|       DeKalb County|   6.0625|             21.6|              23|     20|      ppb|0.020083|           0.029|             10|    25|     ppm|  0.1625|              0.7|               2|    0.0|      ppb|0.329167|             0.4|              0|   5.0|     ppm|\n",
      "|        13|        089|    Georgia|          DeKalb|       DeKalb County|  17.2875|             37.4|              20|     35|      ppb|   0.014|           0.038|             11|    32|     ppm|1.345833|              5.4|              15|    7.0|      ppb|    0.75|             1.1|              8|  13.0|     ppm|\n",
      "|        22|        033|  Louisiana|East Baton Rouge|East Baton Rouge ...| 5.416667|              9.0|              18|      8|      ppb|0.032083|           0.049|             17|    42|     ppm|0.083333|              0.8|              19|    0.0|      ppb|     0.2|             0.2|              0|   2.0|     ppm|\n",
      "+----------+-----------+-----------+----------------+--------------------+---------+-----------------+----------------+-------+---------+--------+----------------+---------------+------+--------+--------+-----------------+----------------+-------+---------+--------+----------------+---------------+------+--------+\n",
      "only showing top 20 rows\n",
      "\n",
      "Rows after dropping duplicates (part 1): 574830\n"
     ]
    }
   ],
   "source": [
    "print(f\"Rows before dropping duplicates (part 1): {df_final_part1.count()}\")\n",
    "\n",
    "df_final_part1 = df_final_part1.dropDuplicates() # Drop duplicates from part 1 of final dataset\n",
    "\n",
    "df_final_part1.show()\n",
    "\n",
    "print(f\"Rows after dropping duplicates (part 1): {df_final_part1.count()}\")"
   ]
  },
  {
   "cell_type": "code",
   "execution_count": 18,
   "metadata": {},
   "outputs": [
    {
     "name": "stdout",
     "output_type": "stream",
     "text": [
      "Rows before dropping duplicates (part 2): 17244900\n",
      "+----+-----+--------------------+-------------------+-------------------+-------------------+\n",
      "|Year| fips|          cause_name|               rate|              upper|              lower|\n",
      "+----+-----+--------------------+-------------------+-------------------+-------------------+\n",
      "|2014|06059|              Asthma|  0.870245919166218|   1.06000282122248|  0.722454689909877|\n",
      "|2014|06059|Other pneumoconiosis|0.00803429847535374| 0.0190733894903958|0.00256742309625321|\n",
      "|2014|06059|          Asbestosis|  0.105512502453222|  0.158662606624299| 0.0666304857620901|\n",
      "|2014|06059|      Pneumoconiosis|  0.128295085692602|  0.202719094601033| 0.0787452772885358|\n",
      "|2014|06059|          Asbestosis| 0.0059632390928067| 0.0147599597092064|0.00197678505620015|\n",
      "|2014|06059|Coal workers pneu...|0.00771522821964665| 0.0249861196038596|0.00191711937011116|\n",
      "|2014|06059|           Silicosis|0.00346589430711301|0.00736809548044226|0.00138352982029277|\n",
      "|2014|06059|      Pneumoconiosis|  0.154901954168218|  0.204285527599445|  0.120799107278462|\n",
      "|2014|06059|Chronic obstructi...|   29.1950317266321|   31.0242441399373|   27.7722411200097|\n",
      "|2014|06059|Other chronic res...|  0.532328610063717|  0.639054437680499|  0.448220607162663|\n",
      "|2014|06059|              Asthma|  0.589684183119919|  0.722030119538552|  0.474300585185419|\n",
      "|2014|06059|      Pneumoconiosis|  0.172656002356583|   0.23486485607044|  0.130430940202685|\n",
      "|2014|06059|Other pneumoconiosis|   0.16441644111221|  0.213213390224939|  0.127107601768483|\n",
      "|2014|06059|Coal workers pneu...| 0.0014298356728852|0.00444558368060929|3.01805626233467E-4|\n",
      "|2014|06059|Chronic respirato...|   32.3034008867579|   33.9485623659795|   30.7389672098316|\n",
      "|2014|06059|Other chronic res...|  0.334085978179444|  0.391350306725485|  0.288137009018029|\n",
      "|2014|06059|Chronic obstructi...|   27.0687520471126|   29.1503247542773|   25.2624722235456|\n",
      "|2014|06059|           Silicosis|0.00703305654438001| 0.0159782901012783|0.00265138426605048|\n",
      "|2014|06059|Chronic respirato...|   39.1626641129189|   41.0161087216371|   37.4203140619091|\n",
      "|2014|06059|Other chronic res...|  0.182646568047854|  0.244636631668015|  0.135999653672893|\n",
      "+----+-----+--------------------+-------------------+-------------------+-------------------+\n",
      "only showing top 20 rows\n",
      "\n",
      "Rows after dropping duplicates (part 2): 10590\n"
     ]
    }
   ],
   "source": [
    "print(f\"Rows before dropping duplicates (part 2): {df_final_part2.count()}\")\n",
    "\n",
    "df_final_part2 = df_final_part2.dropDuplicates() # Drop duplicates from part 2 of final dataset\n",
    "\n",
    "df_final_part2.show()\n",
    "\n",
    "print(f\"Rows after dropping duplicates (part 2): {df_final_part2.count()}\")"
   ]
  },
  {
   "cell_type": "markdown",
   "metadata": {},
   "source": [
    "# PySpark -> MongoDB Connection"
   ]
  },
  {
   "cell_type": "markdown",
   "metadata": {},
   "source": [
    "### PART 1 COLS (\"Respiratory_part1cols\")"
   ]
  },
  {
   "cell_type": "code",
   "execution_count": 22,
   "metadata": {},
   "outputs": [
    {
     "name": "stdout",
     "output_type": "stream",
     "text": [
      "['Respiratory_part1cols', 'Respiratory_df1cols', 'Respiratory']\n"
     ]
    }
   ],
   "source": [
    "import pandas as pd\n",
    "from pymongo import MongoClient\n",
    "\n",
    "# Convert PySpark DataFrame to RDD of dictionaries\n",
    "rdd_data = df_final_part1.rdd.map(lambda row: row.asDict()) # Part 1 of final dataframe\n",
    "\n",
    "# Initialize MongoDB client and select database/collection\n",
    "client = MongoClient(\"mongodb://localhost:27017\")\n",
    "\n",
    "db = client[\"BigData\"]\n",
    "\n",
    "print(db.list_collection_names()) # Checks what collections are present in MongoDB\n",
    "\n",
    "collection = db[\"Respiratory_part1cols\"] # Prepares collection for part 1"
   ]
  },
  {
   "cell_type": "code",
   "execution_count": 23,
   "metadata": {},
   "outputs": [],
   "source": [
    "spark = SparkSession.builder \\\n",
    "    .appName(\"merge_datasets\") \\\n",
    "    .config(\"spark.jars.packages\", \"org.mongodb.spark:mongo-spark-connector_2.12:3.0.1\") \\\n",
    "    .getOrCreate()"
   ]
  },
  {
   "cell_type": "code",
   "execution_count": 24,
   "metadata": {},
   "outputs": [],
   "source": [
    "# Writes part 1 of final dataframe into MongoDB\n",
    "df_final_part1.write \\\n",
    "    .format(\"com.mongodb.spark.sql.DefaultSource\") \\\n",
    "    .mode(\"overwrite\") \\\n",
    "    .option(\"uri\", \"mongodb://localhost:27017/BigData.Respiratory_part1cols\") \\\n",
    "    .save()"
   ]
  },
  {
   "cell_type": "code",
   "execution_count": 25,
   "metadata": {},
   "outputs": [],
   "source": [
    "# add 3 example columns from merged_dataset to TEST if it works\n",
    "#df_final.select('Year', 'fips', 'State Code', 'County Code', 'State', 'County').write \\\n",
    "#    .format(\"com.mongodb.spark.sql.DefaultSource\") \\\n",
    "#    .mode(\"overwrite\") \\\n",
    "#    .option(\"uri\", \"mongodb://localhost:27017/BigData.Respiratory\") \\\n",
    "#    .save()\n",
    "\n",
    "# Apache Spark and MongoDB Connector versions are compatible\n",
    "# Java version is JDK 17, compatible and properly configured with the JAVA_HOME environment \n",
    "# pyspark shell is installed and properly configured with the SPARK_HOME environment\n",
    "# mongo-spark-connector_2.12-3.0.1.jar file is in the C:\\SPARK\\jars directory\n",
    "# mongo-java-driver-3.12.14.jar file is in the C:\\SPARK\\jars directory"
   ]
  },
  {
   "cell_type": "markdown",
   "metadata": {},
   "source": [
    "### PART 2 COLS (\"Respiratory_part2cols\")"
   ]
  },
  {
   "cell_type": "code",
   "execution_count": 26,
   "metadata": {},
   "outputs": [
    {
     "name": "stdout",
     "output_type": "stream",
     "text": [
      "['Respiratory_df1cols', 'Respiratory', 'Respiratory_part1cols']\n"
     ]
    }
   ],
   "source": [
    "import pandas as pd\n",
    "from pymongo import MongoClient\n",
    "\n",
    "# Convert PySpark DataFrame to RDD of dictionaries\n",
    "rdd_data = df_final_part2.rdd.map(lambda row: row.asDict()) # Part 2 of final dataframe\n",
    "\n",
    "# Initialize MongoDB client and select database/collection\n",
    "client = MongoClient(\"mongodb://localhost:27017\")\n",
    "\n",
    "db = client[\"BigData\"]\n",
    "\n",
    "print(db.list_collection_names()) # Checks what collections are present in MongoDB\n",
    "\n",
    "collection = db[\"Respiratory_part2cols\"] # Prepares collection for part 2"
   ]
  },
  {
   "cell_type": "code",
   "execution_count": 27,
   "metadata": {},
   "outputs": [],
   "source": [
    "spark = SparkSession.builder \\\n",
    "    .appName(\"merge_datasets\") \\\n",
    "    .config(\"spark.jars.packages\", \"org.mongodb.spark:mongo-spark-connector_2.12:3.0.1\") \\\n",
    "    .getOrCreate()"
   ]
  },
  {
   "cell_type": "code",
   "execution_count": 28,
   "metadata": {},
   "outputs": [],
   "source": [
    "# Writes part 2 of final dataframe into MongoDB\n",
    "df_final_part2.write \\\n",
    "    .format(\"com.mongodb.spark.sql.DefaultSource\") \\\n",
    "    .mode(\"overwrite\") \\\n",
    "    .option(\"uri\", \"mongodb://localhost:27017/BigData.Respiratory_part2cols\") \\\n",
    "    .save()"
   ]
  },
  {
   "cell_type": "markdown",
   "metadata": {},
   "source": []
  }
 ],
 "metadata": {
  "kernelspec": {
   "display_name": "Python 3",
   "language": "python",
   "name": "python3"
  },
  "language_info": {
   "codemirror_mode": {
    "name": "ipython",
    "version": 3
   },
   "file_extension": ".py",
   "mimetype": "text/x-python",
   "name": "python",
   "nbconvert_exporter": "python",
   "pygments_lexer": "ipython3",
   "version": "3.12.2"
  }
 },
 "nbformat": 4,
 "nbformat_minor": 2
}
