{
 "cells": [
  {
   "cell_type": "markdown",
   "metadata": {},
   "source": [
    "# Initiating Spark session"
   ]
  },
  {
   "cell_type": "code",
   "execution_count": 1,
   "metadata": {},
   "outputs": [],
   "source": [
    "from pyspark.sql import SparkSession\n",
    "\n",
    "spark = SparkSession.builder.appName(\"merge_datasets\").getOrCreate()"
   ]
  },
  {
   "cell_type": "markdown",
   "metadata": {},
   "source": [
    "# Merging and pre-processing of our first dataset (df1, df1a and df1b): **\"df1_merged\"**"
   ]
  },
  {
   "cell_type": "code",
   "execution_count": 2,
   "metadata": {},
   "outputs": [],
   "source": [
    "# Reading all the .csv files from our first dataset (df1 and related)\n",
    "df1 = spark.read.csv(\"data1_US_Chronic_Respiratory_Disease_Mortality_Rates/data1/respiratory_disease_mortality_rate_usa.csv\", header = True, inferSchema = True)\n",
    "df1a = spark.read.csv(\"data1_US_Chronic_Respiratory_Disease_Mortality_Rates/data1/reference_location.csv\", header = True, inferSchema = True)\n",
    "df1b = spark.read.csv(\"data1_US_Chronic_Respiratory_Disease_Mortality_Rates/data1/reference_disease_name.csv\", header = True, inferSchema = True)"
   ]
  },
  {
   "cell_type": "code",
   "execution_count": 3,
   "metadata": {},
   "outputs": [
    {
     "name": "stdout",
     "output_type": "stream",
     "text": [
      "+-----------+----+--------+------+-------+----------------+----------------+----------------+\n",
      "|location_id|fips|cause_id|sex_id|year_id|            rate|           lower|           upper|\n",
      "+-----------+----+--------+------+-------+----------------+----------------+----------------+\n",
      "|        523|   1|     508|     1|   1980|78.8240143049003|76.0416535564831|81.2860330254077|\n",
      "|        523|   1|     508|     1|   1981|79.0443658945709|76.5087647940048|81.5276692567423|\n",
      "|        523|   1|     508|     1|   1982|78.8112586372187|76.2767652989869|81.1914708668052|\n",
      "|        523|   1|     508|     1|   1983|79.0766571203029|76.6822478099066|81.3736660066615|\n",
      "|        523|   1|     508|     1|   1984|80.5325242474845|78.1203554139586|82.8761094707397|\n",
      "|        523|   1|     508|     1|   1985|83.5481777042778|81.1573443449007|  85.70592128092|\n",
      "|        523|   1|     508|     1|   1986|83.5863221866442|81.3655694934226|85.8497713841107|\n",
      "|        523|   1|     508|     1|   1987|83.2647721314435|80.9130763330001|85.6339830614319|\n",
      "|        523|   1|     508|     1|   1988|84.9321467272413| 82.646892122221|87.3105556180656|\n",
      "|        523|   1|     508|     1|   1989|85.0575881028286| 82.870688349595| 87.518906258343|\n",
      "|        523|   1|     508|     1|   1990|84.5578786122007| 82.337469331016|87.1232480722065|\n",
      "|        523|   1|     508|     1|   1991|86.1153212011415|83.9664447594904|  88.69242553214|\n",
      "|        523|   1|     508|     1|   1992|83.6286130289506|81.4572144583538|86.0583872027892|\n",
      "|        523|   1|     508|     1|   1993|86.9022157802354|84.5399286539531| 89.452822266376|\n",
      "|        523|   1|     508|     1|   1994|88.3932486943737|86.0373374711576|90.9440141109616|\n",
      "|        523|   1|     508|     1|   1995|89.3318518702448|86.8896073173527|92.0857222843268|\n",
      "|        523|   1|     508|     1|   1996|89.3753099475722|86.7609234293919|92.1566373268059|\n",
      "|        523|   1|     508|     1|   1997|90.2862408276924|87.7660006914926|93.0264256798318|\n",
      "|        523|   1|     508|     1|   1998|92.0915688414459| 89.492799674043|94.8218585847009|\n",
      "|        523|   1|     508|     1|   1999|94.1928186174616|91.7476169850481|96.6914932518578|\n",
      "+-----------+----+--------+------+-------+----------------+----------------+----------------+\n",
      "only showing top 20 rows\n",
      "\n",
      "df1 has 3112200 rows\n"
     ]
    }
   ],
   "source": [
    "df1.show() # respiratory_disease_mortality_rate_usa\n",
    "print(f\"df1 has {df1.count()} rows\")"
   ]
  },
  {
   "cell_type": "code",
   "execution_count": 4,
   "metadata": {},
   "outputs": [
    {
     "name": "stdout",
     "output_type": "stream",
     "text": [
      "+-----------+----+--------+------+-------+---------+---------+---------+\n",
      "|location_id|fips|cause_id|sex_id|year_id|     rate|    lower|    upper|\n",
      "+-----------+----+--------+------+-------+---------+---------+---------+\n",
      "|        523|   1|     508|     1|   1980| 78.82401| 76.04166| 81.28603|\n",
      "|        523|   1|     508|     1|   1981|79.044365|76.508766| 81.52767|\n",
      "|        523|   1|     508|     1|   1982| 78.81126|76.276764| 81.19147|\n",
      "|        523|   1|     508|     1|   1983| 79.07666| 76.68225|81.373665|\n",
      "|        523|   1|     508|     1|   1984|80.532524| 78.12035| 82.87611|\n",
      "|        523|   1|     508|     1|   1985| 83.54818| 81.15734|85.705925|\n",
      "|        523|   1|     508|     1|   1986| 83.58632| 81.36557| 85.84977|\n",
      "|        523|   1|     508|     1|   1987| 83.26477| 80.91308| 85.63398|\n",
      "|        523|   1|     508|     1|   1988|84.932144| 82.64689|87.310555|\n",
      "|        523|   1|     508|     1|   1989| 85.05759| 82.87069|87.518906|\n",
      "|        523|   1|     508|     1|   1990| 84.55788| 82.33747|87.123245|\n",
      "|        523|   1|     508|     1|   1991| 86.11532|83.966446| 88.69243|\n",
      "|        523|   1|     508|     1|   1992| 83.62862|81.457214| 86.05839|\n",
      "|        523|   1|     508|     1|   1993|86.902214| 84.53993| 89.45282|\n",
      "|        523|   1|     508|     1|   1994| 88.39325| 86.03734|90.944016|\n",
      "|        523|   1|     508|     1|   1995| 89.33185| 86.88961|92.085724|\n",
      "|        523|   1|     508|     1|   1996| 89.37531|86.760925| 92.15664|\n",
      "|        523|   1|     508|     1|   1997| 90.28624|   87.766| 93.02643|\n",
      "|        523|   1|     508|     1|   1998| 92.09157|  89.4928| 94.82186|\n",
      "|        523|   1|     508|     1|   1999| 94.19282| 91.74762| 96.69149|\n",
      "+-----------+----+--------+------+-------+---------+---------+---------+\n",
      "only showing top 20 rows\n",
      "\n"
     ]
    }
   ],
   "source": [
    "from pyspark.sql.functions import col\n",
    "\n",
    "# The columns 'rate', 'lower' and 'upper' are defined as having 'double' type values, the creators of the dataframe did this in order to obtain values more previse than float values.\n",
    "# We're converting these values to float so it later matches with float values that may appear down the line\n",
    "\n",
    "# Convert column types from double to float\n",
    "df1 = df1.withColumn(\"rate\", col(\"rate\").cast(\"float\")) \\\n",
    "         .withColumn(\"lower\", col(\"lower\").cast(\"float\")) \\\n",
    "         .withColumn(\"upper\", col(\"upper\").cast(\"float\"))\n",
    "\n",
    "df1.show()"
   ]
  },
  {
   "cell_type": "code",
   "execution_count": 5,
   "metadata": {},
   "outputs": [
    {
     "name": "stdout",
     "output_type": "stream",
     "text": [
      "+-----------+----+--------------------+\n",
      "|location_id|fips|       location_name|\n",
      "+-----------+----+--------------------+\n",
      "|        102|  NA|       United States|\n",
      "|        523|   1|             Alabama|\n",
      "|        524|   2|              Alaska|\n",
      "|        525|   4|             Arizona|\n",
      "|        526|   5|            Arkansas|\n",
      "|        527|   6|          California|\n",
      "|        528|   8|            Colorado|\n",
      "|        529|   9|         Connecticut|\n",
      "|        530|  10|            Delaware|\n",
      "|        531|  11|District of Columbia|\n",
      "|        532|  12|             Florida|\n",
      "|        533|  13|             Georgia|\n",
      "|        534|  15|              Hawaii|\n",
      "|        535|  16|               Idaho|\n",
      "|        536|  17|            Illinois|\n",
      "|        537|  18|             Indiana|\n",
      "|        538|  19|                Iowa|\n",
      "|        539|  20|              Kansas|\n",
      "|        540|  21|            Kentucky|\n",
      "|        541|  22|           Louisiana|\n",
      "+-----------+----+--------------------+\n",
      "only showing top 20 rows\n",
      "\n",
      "df1a has 3194 rows\n"
     ]
    }
   ],
   "source": [
    "df1a.show() # reference_location\n",
    "print(f\"df1a has {df1a.count()} rows\")"
   ]
  },
  {
   "cell_type": "code",
   "execution_count": 6,
   "metadata": {},
   "outputs": [
    {
     "name": "stdout",
     "output_type": "stream",
     "text": [
      "+--------+--------------------+\n",
      "|cause_id|          cause_name|\n",
      "+--------+--------------------+\n",
      "|     508|Chronic respirato...|\n",
      "|     509|Chronic obstructi...|\n",
      "|     510|      Pneumoconiosis|\n",
      "|     511|           Silicosis|\n",
      "|     512|          Asbestosis|\n",
      "|     513|Coal workers pneu...|\n",
      "|     514|Other pneumoconiosis|\n",
      "|     515|              Asthma|\n",
      "|     516|Interstitial lung...|\n",
      "|     520|Other chronic res...|\n",
      "+--------+--------------------+\n",
      "\n",
      "df1b has 10 rows\n"
     ]
    }
   ],
   "source": [
    "df1b.show() # reference_disease_name\n",
    "print(f\"df1b has {df1b.count()} rows\")"
   ]
  },
  {
   "cell_type": "code",
   "execution_count": 7,
   "metadata": {},
   "outputs": [
    {
     "name": "stdout",
     "output_type": "stream",
     "text": [
      "+--------+-----------+----+------+----+---------+---------+---------+--------------+--------------------+\n",
      "|cause_id|location_id|fips|sex_id|Year|     rate|    lower|    upper| location_name|          cause_name|\n",
      "+--------+-----------+----+------+----+---------+---------+---------+--------------+--------------------+\n",
      "|     508|        523|   1|     1|2010| 91.02748| 88.46226| 93.55213|       Alabama|Chronic respirato...|\n",
      "|     508|        523|   1|     1|2011| 91.67503| 88.95623| 94.17292|       Alabama|Chronic respirato...|\n",
      "|     508|        523|   1|     1|2012| 91.48417| 88.74958| 94.22716|       Alabama|Chronic respirato...|\n",
      "|     508|        523|   1|     1|2013|92.234344|89.221306| 95.18036|       Alabama|Chronic respirato...|\n",
      "|     508|        523|   1|     1|2014|92.042435| 88.97468| 95.04819|       Alabama|Chronic respirato...|\n",
      "|     508|        523|   1|     2|2010| 57.94016|56.150833|59.768143|       Alabama|Chronic respirato...|\n",
      "|     508|        523|   1|     2|2011|58.940254|57.066906| 60.73228|       Alabama|Chronic respirato...|\n",
      "|     508|        523|   1|     2|2012|59.303375|57.391582|  61.3288|       Alabama|Chronic respirato...|\n",
      "|     508|        523|   1|     2|2013|59.673817|57.524017|  61.8346|       Alabama|Chronic respirato...|\n",
      "|     508|        523|   1|     2|2014|61.006992|58.756683|  63.3739|       Alabama|Chronic respirato...|\n",
      "|     508|        523|   1|     3|2010| 70.85819| 69.26899| 72.46336|       Alabama|Chronic respirato...|\n",
      "|     508|        523|   1|     3|2011|71.797966|70.135574| 73.44995|       Alabama|Chronic respirato...|\n",
      "|     508|        523|   1|     3|2012|  72.0337|70.300064|73.902016|       Alabama|Chronic respirato...|\n",
      "|     508|        523|   1|     3|2013|72.665794|70.861984| 74.66955|       Alabama|Chronic respirato...|\n",
      "|     508|        523|   1|     3|2014| 73.44227|71.539894|  75.4865|       Alabama|Chronic respirato...|\n",
      "|     508|        614|1001|     1|2010| 95.76898|89.471695|  102.695|Autauga County|Chronic respirato...|\n",
      "|     508|        614|1001|     1|2011| 95.83572|88.289894|103.04964|Autauga County|Chronic respirato...|\n",
      "|     508|        614|1001|     1|2012| 98.76378| 91.16536|106.14353|Autauga County|Chronic respirato...|\n",
      "|     508|        614|1001|     1|2013| 95.33873|  87.9291|102.75713|Autauga County|Chronic respirato...|\n",
      "|     508|        614|1001|     1|2014| 95.46123| 87.93561|102.96087|Autauga County|Chronic respirato...|\n",
      "+--------+-----------+----+------+----+---------+---------+---------+--------------+--------------------+\n",
      "only showing top 20 rows\n",
      "\n"
     ]
    }
   ],
   "source": [
    "# Merges datasets 'df1' with 'df1a', resulting in the dataset 'df1_merged'\n",
    "\n",
    "df1_merged = df1.join(df1a, on = \"location_id\", how = \"inner\")      # Merges datasets \"df1\" with \"df1a\" into a new dataset \"df1_merged\"\n",
    "df1_merged = df1_merged.filter(df1_merged['location_id'] != '102')  # Filter out rows where 'fips' column has the value '102'\n",
    "df1_merged = df1_merged.drop(df1a[\"fips\"])                          # Removes the \"fips\" column that came from df1a, keeping the \"fips\" column from df1\n",
    "df1_merged = df1_merged.join(df1b, on = \"cause_id\", how = \"inner\")  # Merges datasets \"df1_merged\" with \"df1b\"\n",
    "df1_merged = df1_merged.withColumnRenamed(\"year_id\", \"Year\")        # Renames column \"year_id\" to \"Year\"\n",
    "df1_merged = df1_merged.filter(df1_merged[\"Year\"] >= 2010)          # Removes all rows where values in the column \"year_id\" are less than 2010 \n",
    "\n",
    "df1_merged.show()"
   ]
  },
  {
   "cell_type": "code",
   "execution_count": 8,
   "metadata": {},
   "outputs": [
    {
     "name": "stdout",
     "output_type": "stream",
     "text": [
      "+--------+-----------+-----+------+----+---------+---------+---------+--------------+--------------------+\n",
      "|cause_id|location_id| fips|sex_id|Year|     rate|    lower|    upper| location_name|          cause_name|\n",
      "+--------+-----------+-----+------+----+---------+---------+---------+--------------+--------------------+\n",
      "|     508|        614|01001|     1|2010| 95.76898|89.471695|  102.695|Autauga County|Chronic respirato...|\n",
      "|     508|        614|01001|     1|2011| 95.83572|88.289894|103.04964|Autauga County|Chronic respirato...|\n",
      "|     508|        614|01001|     1|2012| 98.76378| 91.16536|106.14353|Autauga County|Chronic respirato...|\n",
      "|     508|        614|01001|     1|2013| 95.33873|  87.9291|102.75713|Autauga County|Chronic respirato...|\n",
      "|     508|        614|01001|     1|2014| 95.46123| 87.93561|102.96087|Autauga County|Chronic respirato...|\n",
      "|     508|        614|01001|     2|2010| 66.27883| 61.72828|   70.939|Autauga County|Chronic respirato...|\n",
      "|     508|        614|01001|     2|2011| 67.77411|62.800667|72.860306|Autauga County|Chronic respirato...|\n",
      "|     508|        614|01001|     2|2012| 70.60186|65.117714| 75.92503|Autauga County|Chronic respirato...|\n",
      "|     508|        614|01001|     2|2013| 70.91322|  65.5103|76.253365|Autauga County|Chronic respirato...|\n",
      "|     508|        614|01001|     2|2014| 72.34589| 66.72956|  78.3817|Autauga County|Chronic respirato...|\n",
      "|     508|        614|01001|     3|2010|  77.7515|73.633125| 81.84826|Autauga County|Chronic respirato...|\n",
      "|     508|        614|01001|     3|2011|78.970604| 74.67636| 82.96175|Autauga County|Chronic respirato...|\n",
      "|     508|        614|01001|     3|2012| 81.95516|  77.5818| 86.64344|Autauga County|Chronic respirato...|\n",
      "|     508|        614|01001|     3|2013|  80.8525| 76.50147| 85.42557|Autauga County|Chronic respirato...|\n",
      "|     508|        614|01001|     3|2014| 81.79426| 77.37058|86.771996|Autauga County|Chronic respirato...|\n",
      "|     508|        637|01003|     1|2010|67.073204| 63.37616| 70.85907|Baldwin County|Chronic respirato...|\n",
      "|     508|        637|01003|     1|2011| 67.10985|63.096203| 70.73647|Baldwin County|Chronic respirato...|\n",
      "|     508|        637|01003|     1|2012|  63.0728| 59.29505|66.735985|Baldwin County|Chronic respirato...|\n",
      "|     508|        637|01003|     1|2013| 67.03304|63.366505|71.005005|Baldwin County|Chronic respirato...|\n",
      "|     508|        637|01003|     1|2014|65.561035|61.855663| 69.37366|Baldwin County|Chronic respirato...|\n",
      "+--------+-----------+-----+------+----+---------+---------+---------+--------------+--------------------+\n",
      "only showing top 20 rows\n",
      "\n"
     ]
    }
   ],
   "source": [
    "from pyspark.sql.functions import when, concat, lit, length\n",
    "\n",
    "# Filter values with string length 4 using a mask with regex\n",
    "# Add a '0' to the beginning of the masked 'fips' column\n",
    "df1_merged = df1_merged.withColumn(\"fips\", \n",
    "                                   when(length(col(\"fips\")) == 4, concat(lit(\"0\"), col(\"fips\")))\n",
    "                                   .otherwise(col(\"fips\")))\n",
    "\n",
    "# Preserve only the rows which have a 5 digit fips\n",
    "df1_merged = df1_merged.filter(length(col(\"fips\")) == 5)\n",
    "\n",
    "df1_merged.show()"
   ]
  },
  {
   "cell_type": "code",
   "execution_count": 9,
   "metadata": {},
   "outputs": [
    {
     "name": "stdout",
     "output_type": "stream",
     "text": [
      "Rows before dropping duplicates: 437550\n",
      "Rows after dropping duplicates: 437550\n"
     ]
    }
   ],
   "source": [
    "print(\"Rows before dropping duplicates:\", df1_merged.count())\n",
    "\n",
    "# Drop potential duplicates from df1_merged\n",
    "df1_merged = df1_merged.dropDuplicates()\n",
    "\n",
    "print(\"Rows after dropping duplicates:\", df1_merged.count())"
   ]
  },
  {
   "cell_type": "markdown",
   "metadata": {},
   "source": [
    "# Pre-processing of **df2**"
   ]
  },
  {
   "cell_type": "code",
   "execution_count": 10,
   "metadata": {},
   "outputs": [
    {
     "name": "stdout",
     "output_type": "stream",
     "text": [
      "+---+----------+-----------+--------+--------------------+-------+--------+-------+----------+-----------------+---------+-----------------+----------------+-------+-----------------+--------+----------------+---------------+------+-----------------+--------+-----------------+----------------+-------+-----------------+--------+----------------+---------------+------+\n",
      "|_c0|State Code|County Code|Site Num|             Address|  State|  County|   City|Date Local|        NO2 Units| NO2 Mean|NO2 1st Max Value|NO2 1st Max Hour|NO2 AQI|         O3 Units| O3 Mean|O3 1st Max Value|O3 1st Max Hour|O3 AQI|        SO2 Units|SO2 Mean|SO2 1st Max Value|SO2 1st Max Hour|SO2 AQI|         CO Units| CO Mean|CO 1st Max Value|CO 1st Max Hour|CO AQI|\n",
      "+---+----------+-----------+--------+--------------------+-------+--------+-------+----------+-----------------+---------+-----------------+----------------+-------+-----------------+--------+----------------+---------------+------+-----------------+--------+-----------------+----------------+-------+-----------------+--------+----------------+---------------+------+\n",
      "|  0|         4|         13|    3002|1645 E ROOSEVELT ...|Arizona|Maricopa|Phoenix|2000-01-01|Parts per billion|19.041667|             49.0|              19|     46|Parts per million|  0.0225|            0.04|             10|    34|Parts per billion|     3.0|              9.0|              21|   13.0|Parts per million|1.145833|             4.2|             21|  NULL|\n",
      "|  1|         4|         13|    3002|1645 E ROOSEVELT ...|Arizona|Maricopa|Phoenix|2000-01-01|Parts per billion|19.041667|             49.0|              19|     46|Parts per million|  0.0225|            0.04|             10|    34|Parts per billion|     3.0|              9.0|              21|   13.0|Parts per million|0.878947|             2.2|             23|  25.0|\n",
      "|  2|         4|         13|    3002|1645 E ROOSEVELT ...|Arizona|Maricopa|Phoenix|2000-01-01|Parts per billion|19.041667|             49.0|              19|     46|Parts per million|  0.0225|            0.04|             10|    34|Parts per billion|   2.975|              6.6|              23|   NULL|Parts per million|1.145833|             4.2|             21|  NULL|\n",
      "|  3|         4|         13|    3002|1645 E ROOSEVELT ...|Arizona|Maricopa|Phoenix|2000-01-01|Parts per billion|19.041667|             49.0|              19|     46|Parts per million|  0.0225|            0.04|             10|    34|Parts per billion|   2.975|              6.6|              23|   NULL|Parts per million|0.878947|             2.2|             23|  25.0|\n",
      "|  4|         4|         13|    3002|1645 E ROOSEVELT ...|Arizona|Maricopa|Phoenix|2000-01-02|Parts per billion|22.958333|             36.0|              19|     34|Parts per million|0.013375|           0.032|             10|    27|Parts per billion|1.958333|              3.0|              22|    4.0|Parts per million|    0.85|             1.6|             23|  NULL|\n",
      "|  5|         4|         13|    3002|1645 E ROOSEVELT ...|Arizona|Maricopa|Phoenix|2000-01-02|Parts per billion|22.958333|             36.0|              19|     34|Parts per million|0.013375|           0.032|             10|    27|Parts per billion|1.958333|              3.0|              22|    4.0|Parts per million|1.066667|             2.3|              0|  26.0|\n",
      "|  6|         4|         13|    3002|1645 E ROOSEVELT ...|Arizona|Maricopa|Phoenix|2000-01-02|Parts per billion|22.958333|             36.0|              19|     34|Parts per million|0.013375|           0.032|             10|    27|Parts per billion|  1.9375|              2.6|              23|   NULL|Parts per million|    0.85|             1.6|             23|  NULL|\n",
      "|  7|         4|         13|    3002|1645 E ROOSEVELT ...|Arizona|Maricopa|Phoenix|2000-01-02|Parts per billion|22.958333|             36.0|              19|     34|Parts per million|0.013375|           0.032|             10|    27|Parts per billion|  1.9375|              2.6|              23|   NULL|Parts per million|1.066667|             2.3|              0|  26.0|\n",
      "|  8|         4|         13|    3002|1645 E ROOSEVELT ...|Arizona|Maricopa|Phoenix|2000-01-03|Parts per billion|   38.125|             51.0|               8|     48|Parts per million|0.007958|           0.016|              9|    14|Parts per billion|    5.25|             11.0|              19|   16.0|Parts per million|1.929167|             4.4|              8|  NULL|\n",
      "|  9|         4|         13|    3002|1645 E ROOSEVELT ...|Arizona|Maricopa|Phoenix|2000-01-03|Parts per billion|   38.125|             51.0|               8|     48|Parts per million|0.007958|           0.016|              9|    14|Parts per billion|    5.25|             11.0|              19|   16.0|Parts per million|  1.7625|             2.5|              8|  28.0|\n",
      "| 10|         4|         13|    3002|1645 E ROOSEVELT ...|Arizona|Maricopa|Phoenix|2000-01-03|Parts per billion|   38.125|             51.0|               8|     48|Parts per million|0.007958|           0.016|              9|    14|Parts per billion|     5.2|              8.3|              20|   NULL|Parts per million|1.929167|             4.4|              8|  NULL|\n",
      "| 11|         4|         13|    3002|1645 E ROOSEVELT ...|Arizona|Maricopa|Phoenix|2000-01-03|Parts per billion|   38.125|             51.0|               8|     48|Parts per million|0.007958|           0.016|              9|    14|Parts per billion|     5.2|              8.3|              20|   NULL|Parts per million|  1.7625|             2.5|              8|  28.0|\n",
      "| 12|         4|         13|    3002|1645 E ROOSEVELT ...|Arizona|Maricopa|Phoenix|2000-01-04|Parts per billion| 40.26087|             74.0|               8|     72|Parts per million|0.014167|           0.033|              9|    28|Parts per billion|7.083333|             16.0|               8|   23.0|Parts per million|1.991667|             5.1|             21|  NULL|\n",
      "| 13|         4|         13|    3002|1645 E ROOSEVELT ...|Arizona|Maricopa|Phoenix|2000-01-04|Parts per billion| 40.26087|             74.0|               8|     72|Parts per million|0.014167|           0.033|              9|    28|Parts per billion|7.083333|             16.0|               8|   23.0|Parts per million|1.829167|             3.0|             23|  34.0|\n",
      "| 14|         4|         13|    3002|1645 E ROOSEVELT ...|Arizona|Maricopa|Phoenix|2000-01-04|Parts per billion| 40.26087|             74.0|               8|     72|Parts per million|0.014167|           0.033|              9|    28|Parts per billion|    7.05|             12.6|               8|   NULL|Parts per million|1.991667|             5.1|             21|  NULL|\n",
      "| 15|         4|         13|    3002|1645 E ROOSEVELT ...|Arizona|Maricopa|Phoenix|2000-01-04|Parts per billion| 40.26087|             74.0|               8|     72|Parts per million|0.014167|           0.033|              9|    28|Parts per billion|    7.05|             12.6|               8|   NULL|Parts per million|1.829167|             3.0|             23|  34.0|\n",
      "| 16|         4|         13|    3002|1645 E ROOSEVELT ...|Arizona|Maricopa|Phoenix|2000-01-05|Parts per billion|    48.45|             61.0|              22|     58|Parts per million|0.006667|           0.012|              9|    10|Parts per billion|8.708333|             15.0|               7|   21.0|Parts per million|2.620833|             5.6|              7|  NULL|\n",
      "| 17|         4|         13|    3002|1645 E ROOSEVELT ...|Arizona|Maricopa|Phoenix|2000-01-05|Parts per billion|    48.45|             61.0|              22|     58|Parts per million|0.006667|           0.012|              9|    10|Parts per billion|8.708333|             15.0|               7|   21.0|Parts per million|     2.7|             3.7|              2|  42.0|\n",
      "| 18|         4|         13|    3002|1645 E ROOSEVELT ...|Arizona|Maricopa|Phoenix|2000-01-05|Parts per billion|    48.45|             61.0|              22|     58|Parts per million|0.006667|           0.012|              9|    10|Parts per billion|     8.7|             14.0|               8|   NULL|Parts per million|2.620833|             5.6|              7|  NULL|\n",
      "| 19|         4|         13|    3002|1645 E ROOSEVELT ...|Arizona|Maricopa|Phoenix|2000-01-05|Parts per billion|    48.45|             61.0|              22|     58|Parts per million|0.006667|           0.012|              9|    10|Parts per billion|     8.7|             14.0|               8|   NULL|Parts per million|     2.7|             3.7|              2|  42.0|\n",
      "+---+----------+-----------+--------+--------------------+-------+--------+-------+----------+-----------------+---------+-----------------+----------------+-------+-----------------+--------+----------------+---------------+------+-----------------+--------+-----------------+----------------+-------+-----------------+--------+----------------+---------------+------+\n",
      "only showing top 20 rows\n",
      "\n"
     ]
    }
   ],
   "source": [
    "# Reading the .csv file of our second dataset (df2)\n",
    "df2 = spark.read.csv(\"data2_US_Pollution_Data/data2/pollution_us_2000_2016.csv\", header = True, inferSchema = True)\n",
    "df2.show()"
   ]
  },
  {
   "cell_type": "code",
   "execution_count": 11,
   "metadata": {},
   "outputs": [
    {
     "name": "stdout",
     "output_type": "stream",
     "text": [
      "+---+----------+-----------+--------+--------------------+-------+--------+-------+----------+-----------------+---------+-----------------+----------------+-------+-----------------+--------+----------------+---------------+------+-----------------+--------+-----------------+----------------+-------+-----------------+--------+----------------+---------------+------+\n",
      "|_c0|State Code|County Code|Site Num|             Address|  State|  County|   City|Date Local|        NO2 Units| NO2 Mean|NO2 1st Max Value|NO2 1st Max Hour|NO2 AQI|         O3 Units| O3 Mean|O3 1st Max Value|O3 1st Max Hour|O3 AQI|        SO2 Units|SO2 Mean|SO2 1st Max Value|SO2 1st Max Hour|SO2 AQI|         CO Units| CO Mean|CO 1st Max Value|CO 1st Max Hour|CO AQI|\n",
      "+---+----------+-----------+--------+--------------------+-------+--------+-------+----------+-----------------+---------+-----------------+----------------+-------+-----------------+--------+----------------+---------------+------+-----------------+--------+-----------------+----------------+-------+-----------------+--------+----------------+---------------+------+\n",
      "|  0|         4|         13|    3002|1645 E ROOSEVELT ...|Arizona|Maricopa|Phoenix|2000-01-01|Parts per billion|19.041668|             49.0|              19|     46|Parts per million|  0.0225|            0.04|             10|    34|Parts per billion|     3.0|              9.0|              21|   13.0|Parts per million|1.145833|             4.2|             21|  NULL|\n",
      "|  1|         4|         13|    3002|1645 E ROOSEVELT ...|Arizona|Maricopa|Phoenix|2000-01-01|Parts per billion|19.041668|             49.0|              19|     46|Parts per million|  0.0225|            0.04|             10|    34|Parts per billion|     3.0|              9.0|              21|   13.0|Parts per million|0.878947|             2.2|             23|  25.0|\n",
      "|  2|         4|         13|    3002|1645 E ROOSEVELT ...|Arizona|Maricopa|Phoenix|2000-01-01|Parts per billion|19.041668|             49.0|              19|     46|Parts per million|  0.0225|            0.04|             10|    34|Parts per billion|   2.975|              6.6|              23|   NULL|Parts per million|1.145833|             4.2|             21|  NULL|\n",
      "|  3|         4|         13|    3002|1645 E ROOSEVELT ...|Arizona|Maricopa|Phoenix|2000-01-01|Parts per billion|19.041668|             49.0|              19|     46|Parts per million|  0.0225|            0.04|             10|    34|Parts per billion|   2.975|              6.6|              23|   NULL|Parts per million|0.878947|             2.2|             23|  25.0|\n",
      "|  4|         4|         13|    3002|1645 E ROOSEVELT ...|Arizona|Maricopa|Phoenix|2000-01-02|Parts per billion|22.958332|             36.0|              19|     34|Parts per million|0.013375|           0.032|             10|    27|Parts per billion|1.958333|              3.0|              22|    4.0|Parts per million|    0.85|             1.6|             23|  NULL|\n",
      "|  5|         4|         13|    3002|1645 E ROOSEVELT ...|Arizona|Maricopa|Phoenix|2000-01-02|Parts per billion|22.958332|             36.0|              19|     34|Parts per million|0.013375|           0.032|             10|    27|Parts per billion|1.958333|              3.0|              22|    4.0|Parts per million|1.066667|             2.3|              0|  26.0|\n",
      "|  6|         4|         13|    3002|1645 E ROOSEVELT ...|Arizona|Maricopa|Phoenix|2000-01-02|Parts per billion|22.958332|             36.0|              19|     34|Parts per million|0.013375|           0.032|             10|    27|Parts per billion|  1.9375|              2.6|              23|   NULL|Parts per million|    0.85|             1.6|             23|  NULL|\n",
      "|  7|         4|         13|    3002|1645 E ROOSEVELT ...|Arizona|Maricopa|Phoenix|2000-01-02|Parts per billion|22.958332|             36.0|              19|     34|Parts per million|0.013375|           0.032|             10|    27|Parts per billion|  1.9375|              2.6|              23|   NULL|Parts per million|1.066667|             2.3|              0|  26.0|\n",
      "|  8|         4|         13|    3002|1645 E ROOSEVELT ...|Arizona|Maricopa|Phoenix|2000-01-03|Parts per billion|   38.125|             51.0|               8|     48|Parts per million|0.007958|           0.016|              9|    14|Parts per billion|    5.25|             11.0|              19|   16.0|Parts per million|1.929167|             4.4|              8|  NULL|\n",
      "|  9|         4|         13|    3002|1645 E ROOSEVELT ...|Arizona|Maricopa|Phoenix|2000-01-03|Parts per billion|   38.125|             51.0|               8|     48|Parts per million|0.007958|           0.016|              9|    14|Parts per billion|    5.25|             11.0|              19|   16.0|Parts per million|  1.7625|             2.5|              8|  28.0|\n",
      "| 10|         4|         13|    3002|1645 E ROOSEVELT ...|Arizona|Maricopa|Phoenix|2000-01-03|Parts per billion|   38.125|             51.0|               8|     48|Parts per million|0.007958|           0.016|              9|    14|Parts per billion|     5.2|              8.3|              20|   NULL|Parts per million|1.929167|             4.4|              8|  NULL|\n",
      "| 11|         4|         13|    3002|1645 E ROOSEVELT ...|Arizona|Maricopa|Phoenix|2000-01-03|Parts per billion|   38.125|             51.0|               8|     48|Parts per million|0.007958|           0.016|              9|    14|Parts per billion|     5.2|              8.3|              20|   NULL|Parts per million|  1.7625|             2.5|              8|  28.0|\n",
      "| 12|         4|         13|    3002|1645 E ROOSEVELT ...|Arizona|Maricopa|Phoenix|2000-01-04|Parts per billion| 40.26087|             74.0|               8|     72|Parts per million|0.014167|           0.033|              9|    28|Parts per billion|7.083333|             16.0|               8|   23.0|Parts per million|1.991667|             5.1|             21|  NULL|\n",
      "| 13|         4|         13|    3002|1645 E ROOSEVELT ...|Arizona|Maricopa|Phoenix|2000-01-04|Parts per billion| 40.26087|             74.0|               8|     72|Parts per million|0.014167|           0.033|              9|    28|Parts per billion|7.083333|             16.0|               8|   23.0|Parts per million|1.829167|             3.0|             23|  34.0|\n",
      "| 14|         4|         13|    3002|1645 E ROOSEVELT ...|Arizona|Maricopa|Phoenix|2000-01-04|Parts per billion| 40.26087|             74.0|               8|     72|Parts per million|0.014167|           0.033|              9|    28|Parts per billion|    7.05|             12.6|               8|   NULL|Parts per million|1.991667|             5.1|             21|  NULL|\n",
      "| 15|         4|         13|    3002|1645 E ROOSEVELT ...|Arizona|Maricopa|Phoenix|2000-01-04|Parts per billion| 40.26087|             74.0|               8|     72|Parts per million|0.014167|           0.033|              9|    28|Parts per billion|    7.05|             12.6|               8|   NULL|Parts per million|1.829167|             3.0|             23|  34.0|\n",
      "| 16|         4|         13|    3002|1645 E ROOSEVELT ...|Arizona|Maricopa|Phoenix|2000-01-05|Parts per billion|    48.45|             61.0|              22|     58|Parts per million|0.006667|           0.012|              9|    10|Parts per billion|8.708333|             15.0|               7|   21.0|Parts per million|2.620833|             5.6|              7|  NULL|\n",
      "| 17|         4|         13|    3002|1645 E ROOSEVELT ...|Arizona|Maricopa|Phoenix|2000-01-05|Parts per billion|    48.45|             61.0|              22|     58|Parts per million|0.006667|           0.012|              9|    10|Parts per billion|8.708333|             15.0|               7|   21.0|Parts per million|     2.7|             3.7|              2|  42.0|\n",
      "| 18|         4|         13|    3002|1645 E ROOSEVELT ...|Arizona|Maricopa|Phoenix|2000-01-05|Parts per billion|    48.45|             61.0|              22|     58|Parts per million|0.006667|           0.012|              9|    10|Parts per billion|     8.7|             14.0|               8|   NULL|Parts per million|2.620833|             5.6|              7|  NULL|\n",
      "| 19|         4|         13|    3002|1645 E ROOSEVELT ...|Arizona|Maricopa|Phoenix|2000-01-05|Parts per billion|    48.45|             61.0|              22|     58|Parts per million|0.006667|           0.012|              9|    10|Parts per billion|     8.7|             14.0|               8|   NULL|Parts per million|     2.7|             3.7|              2|  42.0|\n",
      "+---+----------+-----------+--------+--------------------+-------+--------+-------+----------+-----------------+---------+-----------------+----------------+-------+-----------------+--------+----------------+---------------+------+-----------------+--------+-----------------+----------------+-------+-----------------+--------+----------------+---------------+------+\n",
      "only showing top 20 rows\n",
      "\n"
     ]
    }
   ],
   "source": [
    "from pyspark.sql.types import DoubleType\n",
    "\n",
    "# We have double type columns here in df2 again, lets convert them to float too\n",
    "# Identify double type columns and cast them to float\n",
    "double_columns = [field.name for field in df2.schema.fields if isinstance(field.dataType, DoubleType)]\n",
    "\n",
    "for col_name in double_columns:\n",
    "    df2 = df2.withColumn(col_name, col(col_name).cast(\"float\"))\n",
    "\n",
    "df2.show()"
   ]
  },
  {
   "cell_type": "code",
   "execution_count": 12,
   "metadata": {},
   "outputs": [
    {
     "name": "stdout",
     "output_type": "stream",
     "text": [
      "Rows before preprocessing: 1746661\n",
      "+---+----------+-----------+--------+--------------------+-------+--------+-------+----------+-----------------+---------+-----------------+----------------+-------+-----------------+--------+----------------+---------------+------+-----------------+--------+-----------------+----------------+-------+-----------------+--------+----------------+---------------+------+-----+\n",
      "|_c0|State Code|County Code|Site Num|             Address|  State|  County|   City|Date Local|        NO2 Units| NO2 Mean|NO2 1st Max Value|NO2 1st Max Hour|NO2 AQI|         O3 Units| O3 Mean|O3 1st Max Value|O3 1st Max Hour|O3 AQI|        SO2 Units|SO2 Mean|SO2 1st Max Value|SO2 1st Max Hour|SO2 AQI|         CO Units| CO Mean|CO 1st Max Value|CO 1st Max Hour|CO AQI| fips|\n",
      "+---+----------+-----------+--------+--------------------+-------+--------+-------+----------+-----------------+---------+-----------------+----------------+-------+-----------------+--------+----------------+---------------+------+-----------------+--------+-----------------+----------------+-------+-----------------+--------+----------------+---------------+------+-----+\n",
      "|  0|        04|        013|    3002|1645 E ROOSEVELT ...|Arizona|Maricopa|Phoenix|2000-01-01|Parts per billion|19.041668|             49.0|              19|     46|Parts per million|  0.0225|            0.04|             10|    34|Parts per billion|     3.0|              9.0|              21|   13.0|Parts per million|1.145833|             4.2|             21|  NULL|04013|\n",
      "|  1|        04|        013|    3002|1645 E ROOSEVELT ...|Arizona|Maricopa|Phoenix|2000-01-01|Parts per billion|19.041668|             49.0|              19|     46|Parts per million|  0.0225|            0.04|             10|    34|Parts per billion|     3.0|              9.0|              21|   13.0|Parts per million|0.878947|             2.2|             23|  25.0|04013|\n",
      "|  2|        04|        013|    3002|1645 E ROOSEVELT ...|Arizona|Maricopa|Phoenix|2000-01-01|Parts per billion|19.041668|             49.0|              19|     46|Parts per million|  0.0225|            0.04|             10|    34|Parts per billion|   2.975|              6.6|              23|   NULL|Parts per million|1.145833|             4.2|             21|  NULL|04013|\n",
      "|  3|        04|        013|    3002|1645 E ROOSEVELT ...|Arizona|Maricopa|Phoenix|2000-01-01|Parts per billion|19.041668|             49.0|              19|     46|Parts per million|  0.0225|            0.04|             10|    34|Parts per billion|   2.975|              6.6|              23|   NULL|Parts per million|0.878947|             2.2|             23|  25.0|04013|\n",
      "|  4|        04|        013|    3002|1645 E ROOSEVELT ...|Arizona|Maricopa|Phoenix|2000-01-02|Parts per billion|22.958332|             36.0|              19|     34|Parts per million|0.013375|           0.032|             10|    27|Parts per billion|1.958333|              3.0|              22|    4.0|Parts per million|    0.85|             1.6|             23|  NULL|04013|\n",
      "|  5|        04|        013|    3002|1645 E ROOSEVELT ...|Arizona|Maricopa|Phoenix|2000-01-02|Parts per billion|22.958332|             36.0|              19|     34|Parts per million|0.013375|           0.032|             10|    27|Parts per billion|1.958333|              3.0|              22|    4.0|Parts per million|1.066667|             2.3|              0|  26.0|04013|\n",
      "|  6|        04|        013|    3002|1645 E ROOSEVELT ...|Arizona|Maricopa|Phoenix|2000-01-02|Parts per billion|22.958332|             36.0|              19|     34|Parts per million|0.013375|           0.032|             10|    27|Parts per billion|  1.9375|              2.6|              23|   NULL|Parts per million|    0.85|             1.6|             23|  NULL|04013|\n",
      "|  7|        04|        013|    3002|1645 E ROOSEVELT ...|Arizona|Maricopa|Phoenix|2000-01-02|Parts per billion|22.958332|             36.0|              19|     34|Parts per million|0.013375|           0.032|             10|    27|Parts per billion|  1.9375|              2.6|              23|   NULL|Parts per million|1.066667|             2.3|              0|  26.0|04013|\n",
      "|  8|        04|        013|    3002|1645 E ROOSEVELT ...|Arizona|Maricopa|Phoenix|2000-01-03|Parts per billion|   38.125|             51.0|               8|     48|Parts per million|0.007958|           0.016|              9|    14|Parts per billion|    5.25|             11.0|              19|   16.0|Parts per million|1.929167|             4.4|              8|  NULL|04013|\n",
      "|  9|        04|        013|    3002|1645 E ROOSEVELT ...|Arizona|Maricopa|Phoenix|2000-01-03|Parts per billion|   38.125|             51.0|               8|     48|Parts per million|0.007958|           0.016|              9|    14|Parts per billion|    5.25|             11.0|              19|   16.0|Parts per million|  1.7625|             2.5|              8|  28.0|04013|\n",
      "| 10|        04|        013|    3002|1645 E ROOSEVELT ...|Arizona|Maricopa|Phoenix|2000-01-03|Parts per billion|   38.125|             51.0|               8|     48|Parts per million|0.007958|           0.016|              9|    14|Parts per billion|     5.2|              8.3|              20|   NULL|Parts per million|1.929167|             4.4|              8|  NULL|04013|\n",
      "| 11|        04|        013|    3002|1645 E ROOSEVELT ...|Arizona|Maricopa|Phoenix|2000-01-03|Parts per billion|   38.125|             51.0|               8|     48|Parts per million|0.007958|           0.016|              9|    14|Parts per billion|     5.2|              8.3|              20|   NULL|Parts per million|  1.7625|             2.5|              8|  28.0|04013|\n",
      "| 12|        04|        013|    3002|1645 E ROOSEVELT ...|Arizona|Maricopa|Phoenix|2000-01-04|Parts per billion| 40.26087|             74.0|               8|     72|Parts per million|0.014167|           0.033|              9|    28|Parts per billion|7.083333|             16.0|               8|   23.0|Parts per million|1.991667|             5.1|             21|  NULL|04013|\n",
      "| 13|        04|        013|    3002|1645 E ROOSEVELT ...|Arizona|Maricopa|Phoenix|2000-01-04|Parts per billion| 40.26087|             74.0|               8|     72|Parts per million|0.014167|           0.033|              9|    28|Parts per billion|7.083333|             16.0|               8|   23.0|Parts per million|1.829167|             3.0|             23|  34.0|04013|\n",
      "| 14|        04|        013|    3002|1645 E ROOSEVELT ...|Arizona|Maricopa|Phoenix|2000-01-04|Parts per billion| 40.26087|             74.0|               8|     72|Parts per million|0.014167|           0.033|              9|    28|Parts per billion|    7.05|             12.6|               8|   NULL|Parts per million|1.991667|             5.1|             21|  NULL|04013|\n",
      "| 15|        04|        013|    3002|1645 E ROOSEVELT ...|Arizona|Maricopa|Phoenix|2000-01-04|Parts per billion| 40.26087|             74.0|               8|     72|Parts per million|0.014167|           0.033|              9|    28|Parts per billion|    7.05|             12.6|               8|   NULL|Parts per million|1.829167|             3.0|             23|  34.0|04013|\n",
      "| 16|        04|        013|    3002|1645 E ROOSEVELT ...|Arizona|Maricopa|Phoenix|2000-01-05|Parts per billion|    48.45|             61.0|              22|     58|Parts per million|0.006667|           0.012|              9|    10|Parts per billion|8.708333|             15.0|               7|   21.0|Parts per million|2.620833|             5.6|              7|  NULL|04013|\n",
      "| 17|        04|        013|    3002|1645 E ROOSEVELT ...|Arizona|Maricopa|Phoenix|2000-01-05|Parts per billion|    48.45|             61.0|              22|     58|Parts per million|0.006667|           0.012|              9|    10|Parts per billion|8.708333|             15.0|               7|   21.0|Parts per million|     2.7|             3.7|              2|  42.0|04013|\n",
      "| 18|        04|        013|    3002|1645 E ROOSEVELT ...|Arizona|Maricopa|Phoenix|2000-01-05|Parts per billion|    48.45|             61.0|              22|     58|Parts per million|0.006667|           0.012|              9|    10|Parts per billion|     8.7|             14.0|               8|   NULL|Parts per million|2.620833|             5.6|              7|  NULL|04013|\n",
      "| 19|        04|        013|    3002|1645 E ROOSEVELT ...|Arizona|Maricopa|Phoenix|2000-01-05|Parts per billion|    48.45|             61.0|              22|     58|Parts per million|0.006667|           0.012|              9|    10|Parts per billion|     8.7|             14.0|               8|   NULL|Parts per million|     2.7|             3.7|              2|  42.0|04013|\n",
      "+---+----------+-----------+--------+--------------------+-------+--------+-------+----------+-----------------+---------+-----------------+----------------+-------+-----------------+--------+----------------+---------------+------+-----------------+--------+-----------------+----------------+-------+-----------------+--------+----------------+---------------+------+-----+\n",
      "only showing top 20 rows\n",
      "\n",
      "Rows after filtering out any existing (if any) fips values not equal to 5: 1746661\n"
     ]
    }
   ],
   "source": [
    "# Check the number of rows before preprocessing\n",
    "print(\"Rows before preprocessing:\", df2.count())\n",
    "\n",
    "# Modifying \"State Code\" and \"County Code\" values so they more closely match the US FIPS codes standard\n",
    "from pyspark.sql.functions import expr, concat_ws\n",
    "\n",
    "# Add leading zeros to \"State Code\" if it's a single digit\n",
    "df2 = df2.withColumn(\"State Code\", expr(\"LPAD(`State Code`, 2, '0')\"))\n",
    "\n",
    "# Add leading zeros to \"County Code\" based on the number of digits\n",
    "df2 = df2.withColumn(\"County Code\", \n",
    "                     expr(\"CASE WHEN length(`County Code`) = 1 THEN concat('00', `County Code`) \" + \n",
    "                          \"WHEN length(`County Code`) = 2 THEN concat('0', `County Code`) \" + \n",
    "                          \"ELSE `County Code` END\"))\n",
    "\n",
    "# Create a new column \"fips\" by concatenating \"State Code\" and \"County Code\"\n",
    "df2 = df2.withColumn(\"fips\", concat_ws(\"\", df2[\"State Code\"], df2[\"County Code\"]))\n",
    "\n",
    "# Preserve only the rows with 'fips' length == 5\n",
    "df2 = df2.filter(length(col(\"fips\")) == 5)\n",
    "\n",
    "# Show the DataFrame after preprocessing\n",
    "df2.show()\n",
    "\n",
    "# If you want to check the number of rows after preprocessing\n",
    "print(\"Rows after filtering out any existing (if any) fips values not equal to 5:\", df2.count())"
   ]
  },
  {
   "cell_type": "code",
   "execution_count": 13,
   "metadata": {},
   "outputs": [],
   "source": [
    "from pyspark.sql.functions import year\n",
    "\n",
    "df2 = df2.withColumn(\"Year\", year(\"Date Local\")).drop(\"Date Local\")    # Converts YYYY-MM-DD date format in the column \"Date Local\" into just \"YYYY\" (year only)"
   ]
  },
  {
   "cell_type": "code",
   "execution_count": 14,
   "metadata": {},
   "outputs": [
    {
     "name": "stdout",
     "output_type": "stream",
     "text": [
      "+----------+-----------+-------+--------+---------+---------+-----------------+----------------+-------+--------+--------+----------------+---------------+------+---------+--------+-----------------+----------------+-------+--------+--------+----------------+---------------+------+-----+----+\n",
      "|State Code|County Code|  State|  County|NO2 Units| NO2 Mean|NO2 1st Max Value|NO2 1st Max Hour|NO2 AQI|O3 Units| O3 Mean|O3 1st Max Value|O3 1st Max Hour|O3 AQI|SO2 Units|SO2 Mean|SO2 1st Max Value|SO2 1st Max Hour|SO2 AQI|CO Units| CO Mean|CO 1st Max Value|CO 1st Max Hour|CO AQI| fips|Year|\n",
      "+----------+-----------+-------+--------+---------+---------+-----------------+----------------+-------+--------+--------+----------------+---------------+------+---------+--------+-----------------+----------------+-------+--------+--------+----------------+---------------+------+-----+----+\n",
      "|        04|        013|Arizona|Maricopa|      ppb|32.208332|             48.0|              18|     45|     ppm|0.013208|           0.034|             10|    29|      ppb|3.333333|              6.0|              23|    9.0|     ppm|  1.0375|             2.0|              4|  NULL|04013|2010|\n",
      "|        04|        013|Arizona|Maricopa|      ppb|32.208332|             48.0|              18|     45|     ppm|0.013208|           0.034|             10|    29|      ppb|3.333333|              6.0|              23|    9.0|     ppm|0.973684|             1.6|              5|  18.0|04013|2010|\n",
      "|        04|        013|Arizona|Maricopa|      ppb|32.208332|             48.0|              18|     45|     ppm|0.013208|           0.034|             10|    29|      ppb|  3.2875|              4.6|               2|   NULL|     ppm|  1.0375|             2.0|              4|  NULL|04013|2010|\n",
      "|        04|        013|Arizona|Maricopa|      ppb|32.208332|             48.0|              18|     45|     ppm|0.013208|           0.034|             10|    29|      ppb|  3.2875|              4.6|               2|   NULL|     ppm|0.973684|             1.6|              5|  18.0|04013|2010|\n",
      "|        04|        013|Arizona|Maricopa|      ppb|     35.5|             51.0|               9|     48|     ppm|    0.01|           0.025|             10|    21|      ppb|4.083333|              7.0|              22|   10.0|     ppm|  0.9875|             2.1|             22|  NULL|04013|2010|\n",
      "|        04|        013|Arizona|Maricopa|      ppb|     35.5|             51.0|               9|     48|     ppm|    0.01|           0.025|             10|    21|      ppb|4.083333|              7.0|              22|   10.0|     ppm|0.945833|             1.3|              3|  15.0|04013|2010|\n",
      "|        04|        013|Arizona|Maricopa|      ppb|     35.5|             51.0|               9|     48|     ppm|    0.01|           0.025|             10|    21|      ppb|    4.05|              6.3|              23|   NULL|     ppm|  0.9875|             2.1|             22|  NULL|04013|2010|\n",
      "|        04|        013|Arizona|Maricopa|      ppb|     35.5|             51.0|               9|     48|     ppm|    0.01|           0.025|             10|    21|      ppb|    4.05|              6.3|              23|   NULL|     ppm|0.945833|             1.3|              3|  15.0|04013|2010|\n",
      "|        04|        013|Arizona|Maricopa|      ppb|33.166668|             55.0|              19|     52|     ppm|0.011042|           0.028|             10|    24|      ppb|3.208333|              6.0|              20|    9.0|     ppm|    0.85|             1.9|             20|  NULL|04013|2010|\n",
      "|        04|        013|Arizona|Maricopa|      ppb|33.166668|             55.0|              19|     52|     ppm|0.011042|           0.028|             10|    24|      ppb|3.208333|              6.0|              20|    9.0|     ppm|0.895833|             1.4|              2|  16.0|04013|2010|\n",
      "|        04|        013|Arizona|Maricopa|      ppb|33.166668|             55.0|              19|     52|     ppm|0.011042|           0.028|             10|    24|      ppb|   3.175|              4.0|               8|   NULL|     ppm|    0.85|             1.9|             20|  NULL|04013|2010|\n",
      "|        04|        013|Arizona|Maricopa|      ppb|33.166668|             55.0|              19|     52|     ppm|0.011042|           0.028|             10|    24|      ppb|   3.175|              4.0|               8|   NULL|     ppm|0.895833|             1.4|              2|  16.0|04013|2010|\n",
      "|        04|        013|Arizona|Maricopa|      ppb|   35.625|             55.0|               7|     52|     ppm|0.013875|           0.036|              9|    31|      ppb|3.791667|              9.0|               7|   13.0|     ppm|0.841667|             2.2|              7|  NULL|04013|2010|\n",
      "|        04|        013|Arizona|Maricopa|      ppb|   35.625|             55.0|               7|     52|     ppm|0.013875|           0.036|              9|    31|      ppb|3.791667|              9.0|               7|   13.0|     ppm|0.879167|             1.3|              8|  15.0|04013|2010|\n",
      "|        04|        013|Arizona|Maricopa|      ppb|   35.625|             55.0|               7|     52|     ppm|0.013875|           0.036|              9|    31|      ppb|  3.7625|              7.3|               8|   NULL|     ppm|0.841667|             2.2|              7|  NULL|04013|2010|\n",
      "|        04|        013|Arizona|Maricopa|      ppb|   35.625|             55.0|               7|     52|     ppm|0.013875|           0.036|              9|    31|      ppb|  3.7625|              7.3|               8|   NULL|     ppm|0.879167|             1.3|              8|  15.0|04013|2010|\n",
      "|        04|        013|Arizona|Maricopa|      ppb|42.708332|             60.0|               9|     57|     ppm|0.011292|            0.03|             10|    25|      ppb|5.041667|              9.0|               7|   13.0|     ppm|1.008333|             2.1|             20|  NULL|04013|2010|\n",
      "|        04|        013|Arizona|Maricopa|      ppb|42.708332|             60.0|               9|     57|     ppm|0.011292|            0.03|             10|    25|      ppb|5.041667|              9.0|               7|   13.0|     ppm|   0.925|             1.3|             23|  15.0|04013|2010|\n",
      "|        04|        013|Arizona|Maricopa|      ppb|42.708332|             60.0|               9|     57|     ppm|0.011292|            0.03|             10|    25|      ppb|   5.025|              8.3|               8|   NULL|     ppm|1.008333|             2.1|             20|  NULL|04013|2010|\n",
      "|        04|        013|Arizona|Maricopa|      ppb|42.708332|             60.0|               9|     57|     ppm|0.011292|            0.03|             10|    25|      ppb|   5.025|              8.3|               8|   NULL|     ppm|   0.925|             1.3|             23|  15.0|04013|2010|\n",
      "+----------+-----------+-------+--------+---------+---------+-----------------+----------------+-------+--------+--------+----------------+---------------+------+---------+--------+-----------------+----------------+-------+--------+--------+----------------+---------------+------+-----+----+\n",
      "only showing top 20 rows\n",
      "\n"
     ]
    }
   ],
   "source": [
    "df2 = df2.filter((df2[\"Year\"] <= 2014) & (df2['Year'] >= 2010))        # Removes rows where 'Year' is greater than 2014 and less than 2010 (Keeps rows in Year interval [2010; 2014])\n",
    "df2 = df2.drop(\"_c0\", \"Site Num\", \"Address\", \"City\")                   # Drop the columns that are no longer necessary for df2\n",
    "\n",
    "# Replace \"Parts per billion\" with \"ppb\" in columns \"NO2 Units\", \"SO2 Units\"; Replace \"Parts per million\" with \"ppm\" in columns \"O2 Units\", \"CO Units\"\n",
    "colvalues_replace = {\n",
    "    \"NO2 Units\": \"ppb\",\n",
    "    \"SO2 Units\": \"ppb\",\n",
    "    \"O3 Units\": \"ppm\",\n",
    "    \"CO Units\": \"ppm\"\n",
    "}\n",
    "for col_name, replacement_value in colvalues_replace.items():\n",
    "    df2 = df2.withColumn(col_name, when(df2[col_name] == \"Parts per billion\", \"ppb\").otherwise(replacement_value))\n",
    "\n",
    "df2.show()"
   ]
  },
  {
   "cell_type": "code",
   "execution_count": 15,
   "metadata": {},
   "outputs": [
    {
     "name": "stdout",
     "output_type": "stream",
     "text": [
      "Rows before dropping duplicates: 627594\n",
      "+----------+-----------+----------+------------+---------+---------+-----------------+----------------+-------+--------+--------+----------------+---------------+------+---------+--------+-----------------+----------------+-------+--------+--------+----------------+---------------+------+-----+----+\n",
      "|State Code|County Code|     State|      County|NO2 Units| NO2 Mean|NO2 1st Max Value|NO2 1st Max Hour|NO2 AQI|O3 Units| O3 Mean|O3 1st Max Value|O3 1st Max Hour|O3 AQI|SO2 Units|SO2 Mean|SO2 1st Max Value|SO2 1st Max Hour|SO2 AQI|CO Units| CO Mean|CO 1st Max Value|CO 1st Max Hour|CO AQI| fips|Year|\n",
      "+----------+-----------+----------+------------+---------+---------+-----------------+----------------+-------+--------+--------+----------------+---------------+------+---------+--------+-----------------+----------------+-------+--------+--------+----------------+---------------+------+-----+----+\n",
      "|        04|        013|   Arizona|    Maricopa|      ppb|10.333333|             24.0|               7|     23|     ppm|0.027208|           0.038|             11|    32|      ppb|1.083333|              2.0|               7|    3.0|     ppm|0.316667|             0.4|             14|   5.0|04013|2010|\n",
      "|        04|        013|   Arizona|    Maricopa|      ppb|    25.25|             47.0|              19|     44|     ppm|  0.0175|           0.047|             10|    40|      ppb|1.541667|              2.0|               0|    3.0|     ppm|0.695833|             1.0|              1|  11.0|04013|2010|\n",
      "|        04|        019|   Arizona|        Pima|      ppb|14.958333|             44.0|              21|     42|     ppm|0.032208|           0.052|             10|    44|      ppb|0.083333|              2.0|              10|    3.0|     ppm|  0.2625|             0.4|             22|   5.0|04019|2010|\n",
      "|        04|        019|   Arizona|        Pima|      ppb|     11.0|             29.0|               6|     27|     ppm|0.043833|            0.06|              9|    51|      ppb|1.083333|              3.0|              12|    4.0|     ppm|   0.275|             0.3|              1|   3.0|04019|2010|\n",
      "|        04|        019|   Arizona|        Pima|      ppb|     12.0|             22.0|               6|     21|     ppm|0.029708|           0.039|              9|    33|      ppb|  0.2375|              0.9|              23|    0.0|     ppm|  0.1875|             0.3|              0|   3.0|04019|2010|\n",
      "|        05|        119|  Arkansas|     Pulaski|      ppb|    8.625|             29.0|              14|     27|     ppm|0.031708|           0.038|             11|    32|      ppb|2.166667|              3.0|               8|    4.0|     ppm|     0.5|             0.5|              0|   6.0|05119|2010|\n",
      "|        05|        119|  Arkansas|     Pulaski|      ppb| 6.041667|             16.0|               6|     15|     ppm|0.031375|           0.037|             10|    31|      ppb|     1.5|              2.0|               0|    3.0|     ppm|0.395833|             0.4|              0|   5.0|05119|2010|\n",
      "|        05|        119|  Arkansas|     Pulaski|      ppb|   11.375|             30.0|              22|     28|     ppm|0.026583|           0.051|              9|    43|      ppb|0.716667|              1.6|               7|    1.0|     ppm|0.533333|             0.7|              3|   8.0|05119|2010|\n",
      "|        05|        119|  Arkansas|     Pulaski|      ppb| 6.083333|             10.0|               3|      9|     ppm|0.037917|           0.058|              9|    49|      ppb|0.816667|              1.6|               8|    1.0|     ppm|     0.4|             0.4|              0|   5.0|05119|2010|\n",
      "|        05|        119|  Arkansas|     Pulaski|      ppb|      4.5|             12.0|              23|     11|     ppm|0.034208|           0.045|             13|    38|      ppb|1.166667|              2.0|               0|    3.0|     ppm|0.270833|             0.3|              0|   3.0|05119|2010|\n",
      "|        05|        119|  Arkansas|     Pulaski|      ppb| 7.791667|             24.0|              19|     23|     ppm|0.039042|            0.05|             10|    42|      ppb|1.341667|              2.3|              19|    3.0|     ppm|     0.4|             0.4|              0|   5.0|05119|2010|\n",
      "|        05|        119|  Arkansas|     Pulaski|      ppb|   18.375|             40.0|               6|     38|     ppm|0.030542|           0.046|             11|    39|      ppb|3.166667|              5.0|              15|    7.0|     ppm|0.633333|             0.8|              5|   9.0|05119|2010|\n",
      "|        05|        119|  Arkansas|     Pulaski|      ppb|      6.5|             13.0|               8|     12|     ppm|0.017875|           0.026|             19|    22|      ppb|1.041667|              2.0|               0|    3.0|     ppm|  0.2375|             0.3|              8|   3.0|05119|2010|\n",
      "|        05|        119|  Arkansas|     Pulaski|      ppb|15.916667|             41.0|              20|     39|     ppm|0.019167|           0.028|             10|    24|      ppb|1.958333|              4.0|              15|    6.0|     ppm|0.454167|             0.6|              0|   7.0|05119|2010|\n",
      "|        06|        001|California|     Alameda|      ppb| 24.36087|             35.5|              17|     33|     ppm|  0.0045|           0.014|              9|    12|      ppb|1.595455|              2.9|              16|    3.0|     ppm|  0.5375|             1.2|             23|  14.0|06001|2010|\n",
      "|        06|        001|California|     Alameda|      ppb| 8.130435|             19.0|              19|     18|     ppm|0.027458|           0.036|              8|    31|      ppb|0.545455|              1.0|               0|    1.0|     ppm|0.245833|             0.3|              8|   3.0|06001|2010|\n",
      "|        06|        001|California|     Alameda|      ppb| 8.782609|             13.0|               7|     12|     ppm|0.022625|           0.026|             10|    22|      ppb|0.086957|              1.0|               0|    1.0|     ppm|   0.225|             0.3|              9|   3.0|06001|2010|\n",
      "|        06|        001|California|     Alameda|      ppb| 4.826087|              8.0|               6|      8|     ppm|0.010708|           0.013|             10|    11|      ppb|0.521739|              1.0|               7|    1.0|     ppm|0.204167|             0.3|              0|   3.0|06001|2010|\n",
      "|        06|        013|California|Contra Costa|      ppb| 9.130435|             20.0|               7|     19|     ppm|0.022708|            0.03|             10|    25|      ppb|     0.0|              0.0|               0|    0.0|     ppm|   0.375|             0.4|              0|   5.0|06013|2010|\n",
      "|        06|        013|California|Contra Costa|      ppb| 7.830435|             13.4|              14|     12|     ppm|   0.025|           0.027|             16|    23|      ppb|0.317391|              0.7|              23|    0.0|     ppm|0.408333|             0.5|              0|   6.0|06013|2010|\n",
      "+----------+-----------+----------+------------+---------+---------+-----------------+----------------+-------+--------+--------+----------------+---------------+------+---------+--------+-----------------+----------------+-------+--------+--------+----------------+---------------+------+-----+----+\n",
      "only showing top 20 rows\n",
      "\n",
      "Rows after dropping duplicates: 625301\n"
     ]
    }
   ],
   "source": [
    "print(f\"Rows before dropping duplicates: {df2.count()}\") # Rows we have before dropping duplicates\n",
    "\n",
    "# Drop duplicates from df2\n",
    "df2 = df2.dropDuplicates()\n",
    "df2.show()\n",
    "\n",
    "print(f\"Rows after dropping duplicates: {df2.count()}\") # Rows we have after dropping the duplicates"
   ]
  },
  {
   "cell_type": "markdown",
   "metadata": {},
   "source": [
    "# Final merging of our datasets and further pre-processing (if necessary): **\"df_final\"**"
   ]
  },
  {
   "cell_type": "code",
   "execution_count": 16,
   "metadata": {},
   "outputs": [
    {
     "name": "stdout",
     "output_type": "stream",
     "text": [
      "+-----+----+--------+-----------+------+-----------+------------+----------+---------------+--------------------+----------+-----------+----------+--------+---------+--------+-----------------+----------------+-------+--------+--------+----------------+---------------+------+---------+---------+-----------------+----------------+-------+--------+--------+----------------+---------------+------+\n",
      "| fips|Year|cause_id|location_id|sex_id|       rate|       lower|     upper|  location_name|          cause_name|State Code|County Code|     State|  County|NO2 Units|NO2 Mean|NO2 1st Max Value|NO2 1st Max Hour|NO2 AQI|O3 Units| O3 Mean|O3 1st Max Value|O3 1st Max Hour|O3 AQI|SO2 Units| SO2 Mean|SO2 1st Max Value|SO2 1st Max Hour|SO2 AQI|CO Units| CO Mean|CO 1st Max Value|CO 1st Max Hour|CO AQI|\n",
      "+-----+----+--------+-----------+------+-----------+------------+----------+---------------+--------------------+----------+-----------+----------+--------+---------+--------+-----------------+----------------+-------+--------+--------+----------------+---------------+------+---------+---------+-----------------+----------------+-------+--------+--------+----------------+---------------+------+\n",
      "|06023|2014|     514|        761|     1|0.022903742|0.0032131856|0.08383776|Humboldt County|Other pneumoconiosis|        06|        023|California|Humboldt|      ppb|1.695652|              4.0|               3|      4|     ppm|0.016542|           0.023|             10|    21|      ppb|   0.4125|              0.5|              14|   NULL|     ppm|     0.1|             0.1|              0|   1.0|\n",
      "|06023|2014|     514|        761|     1|0.022903742|0.0032131856|0.08383776|Humboldt County|Other pneumoconiosis|        06|        023|California|Humboldt|      ppb|0.416667|              1.9|               9|      1|     ppm|0.016083|           0.019|             11|    18|      ppb| 0.116667|              0.2|              10|    0.0|     ppm|     0.2|             0.2|              0|  NULL|\n",
      "|06023|2014|     514|        761|     1|0.022903742|0.0032131856|0.08383776|Humboldt County|Other pneumoconiosis|        06|        023|California|Humboldt|      ppb|     0.5|              0.8|              18|      0|     ppm| 0.02981|           0.032|             10|    30|      ppb|      0.3|              0.3|              11|   NULL|     ppm|     0.4|             0.4|              4|  NULL|\n",
      "|06023|2014|     514|        761|     1|0.022903742|0.0032131856|0.08383776|Humboldt County|Other pneumoconiosis|        06|        023|California|Humboldt|      ppb|5.409091|             10.9|               7|      9|     ppm|0.025375|           0.038|             11|    35|      ppb| 0.171429|              0.3|               8|   NULL|     ppm|0.254167|             0.4|              0|   5.0|\n",
      "|06023|2014|     514|        761|     1|0.022903742|0.0032131856|0.08383776|Humboldt County|Other pneumoconiosis|        06|        023|California|Humboldt|      ppb|0.679167|              1.3|               6|      1|     ppm|0.031263|           0.036|             12|    33|      ppb| 0.245833|              0.3|               0|    0.0|     ppm|  0.3625|             0.4|              0|   5.0|\n",
      "|06023|2014|     514|        761|     1|0.022903742|0.0032131856|0.08383776|Humboldt County|Other pneumoconiosis|        06|        023|California|Humboldt|      ppb|4.477273|              9.3|              17|      8|     ppm|0.011421|            0.02|             10|    19|      ppb|     -0.1|             -0.1|               2|   NULL|     ppm|0.422727|             0.7|             21|  NULL|\n",
      "|06023|2014|     514|        761|     1|0.022903742|0.0032131856|0.08383776|Humboldt County|Other pneumoconiosis|        06|        023|California|Humboldt|      ppb|0.220833|              0.7|              23|      0|     ppm|0.030727|           0.033|              9|    31|      ppb|      0.4|              0.4|               2|   NULL|     ppm|     0.1|             0.1|              0|   1.0|\n",
      "|06023|2014|     514|        761|     1|0.022903742|0.0032131856|0.08383776|Humboldt County|Other pneumoconiosis|        06|        023|California|Humboldt|      ppb|   0.475|              2.4|              17|      2|     ppm|0.029708|           0.032|              0|    30|      ppb|  -0.3375|             -0.3|               5|   NULL|     ppm|0.141667|             0.2|              0|   2.0|\n",
      "|06023|2014|     514|        761|     1|0.022903742|0.0032131856|0.08383776|Humboldt County|Other pneumoconiosis|        06|        023|California|Humboldt|      ppb|0.736364|              2.2|              19|      2|     ppm|0.021625|           0.031|             18|    29|      ppb|    -0.95|             -0.1|              20|   NULL|     ppm|     0.2|             0.2|              0|   2.0|\n",
      "|06023|2014|     514|        761|     1|0.022903742|0.0032131856|0.08383776|Humboldt County|Other pneumoconiosis|        06|        023|California|Humboldt|      ppb|   0.025|              0.4|               8|      0|     ppm|0.028292|           0.032|              9|    30|      ppb|-0.008333|              0.0|               0|    0.0|     ppm|     0.2|             0.2|              0|  NULL|\n",
      "|06023|2014|     514|        761|     1|0.022903742|0.0032131856|0.08383776|Humboldt County|Other pneumoconiosis|        06|        023|California|Humboldt|      ppb|0.936364|              2.7|               1|      2|     ppm|0.033583|           0.039|             11|    36|      ppb| 0.263636|              0.4|               1|    0.0|     ppm|     0.2|             0.2|              0|  NULL|\n",
      "|06023|2014|     514|        761|     1|0.022903742|0.0032131856|0.08383776|Humboldt County|Other pneumoconiosis|        06|        023|California|Humboldt|      ppb|  0.8875|              2.0|              11|      2|     ppm|0.018895|           0.021|              7|    19|      ppb| 0.491667|              0.6|              10|    0.0|     ppm|   0.125|             0.2|             11|  NULL|\n",
      "|06023|2014|     514|        761|     1|0.022903742|0.0032131856|0.08383776|Humboldt County|Other pneumoconiosis|        06|        023|California|Humboldt|      ppb|1.558333|              4.3|              19|      4|     ppm|0.015333|           0.025|             11|    23|      ppb|      0.6|              0.6|               2|   NULL|     ppm|     0.2|             0.2|              0|   2.0|\n",
      "|06023|2014|     514|        761|     1|0.022903742|0.0032131856|0.08383776|Humboldt County|Other pneumoconiosis|        06|        023|California|Humboldt|      ppb|     2.8|              9.0|               8|      8|     ppm|0.018208|           0.031|             11|    29|      ppb| 0.616667|              0.7|               8|   NULL|     ppm|  0.1875|             0.2|              0|   2.0|\n",
      "|06023|2014|     514|        761|     1|0.022903742|0.0032131856|0.08383776|Humboldt County|Other pneumoconiosis|        06|        023|California|Humboldt|      ppb|0.490476|              2.1|               7|      2|     ppm|   0.023|           0.026|             10|    24|      ppb| 0.666667|              0.8|              17|   NULL|     ppm|0.166667|             0.2|              0|   2.0|\n",
      "|06023|2014|     514|        761|     1|0.022903742|0.0032131856|0.08383776|Humboldt County|Other pneumoconiosis|        06|        023|California|Humboldt|      ppb|0.186364|              1.2|               7|      1|     ppm|0.032125|           0.036|             18|    33|      ppb| 0.918182|              1.0|               6|    1.0|     ppm|0.181818|             0.2|              0|  NULL|\n",
      "|06023|2014|     514|        761|     1|0.022903742|0.0032131856|0.08383776|Humboldt County|Other pneumoconiosis|        06|        023|California|Humboldt|      ppb|0.795833|              2.1|               7|      2|     ppm|0.031579|           0.037|              9|    34|      ppb|      0.3|              0.4|              23|   NULL|     ppm|     0.3|             0.3|              0|   3.0|\n",
      "|06023|2014|     514|        761|     1|0.022903742|0.0032131856|0.08383776|Humboldt County|Other pneumoconiosis|        06|        023|California|Humboldt|      ppb|1.183333|              2.2|              11|      2|     ppm|0.024542|           0.027|             11|    25|      ppb|-0.183333|             -0.1|               8|    0.0|     ppm|     0.4|             0.4|              0|   5.0|\n",
      "|06023|2014|     514|        761|     1|0.022903742|0.0032131856|0.08383776|Humboldt County|Other pneumoconiosis|        06|        023|California|Humboldt|      ppb|1.545455|              3.2|               7|      3|     ppm|  0.0245|            0.03|             10|    28|      ppb| 0.014286|              0.1|               5|   NULL|     ppm|0.316667|             0.4|              0|   5.0|\n",
      "|06023|2014|     514|        761|     1|0.022903742|0.0032131856|0.08383776|Humboldt County|Other pneumoconiosis|        06|        023|California|Humboldt|      ppb|3.127273|             10.5|               6|      9|     ppm|0.021708|           0.034|             11|    31|      ppb|     -0.3|             -0.2|              14|    0.0|     ppm|0.290909|             0.5|              8|  NULL|\n",
      "+-----+----+--------+-----------+------+-----------+------------+----------+---------------+--------------------+----------+-----------+----------+--------+---------+--------+-----------------+----------------+-------+--------+--------+----------------+---------------+------+---------+---------+-----------------+----------------+-------+--------+--------+----------------+---------------+------+\n",
      "only showing top 20 rows\n",
      "\n"
     ]
    }
   ],
   "source": [
    "# Merge df1_merged and df2 on 'fips' and 'Year' columns\n",
    "df_final = df1_merged.join(df2, on=['fips', 'Year'], how='inner')\n",
    "df_final.show()"
   ]
  },
  {
   "cell_type": "code",
   "execution_count": 17,
   "metadata": {},
   "outputs": [
    {
     "name": "stdout",
     "output_type": "stream",
     "text": [
      "Schema of df_final:\n",
      "root\n",
      " |-- fips: string (nullable = true)\n",
      " |-- Year: integer (nullable = true)\n",
      " |-- cause_id: integer (nullable = true)\n",
      " |-- location_id: integer (nullable = true)\n",
      " |-- sex_id: integer (nullable = true)\n",
      " |-- rate: float (nullable = true)\n",
      " |-- lower: float (nullable = true)\n",
      " |-- upper: float (nullable = true)\n",
      " |-- location_name: string (nullable = true)\n",
      " |-- cause_name: string (nullable = true)\n",
      " |-- State Code: string (nullable = true)\n",
      " |-- County Code: string (nullable = true)\n",
      " |-- State: string (nullable = true)\n",
      " |-- County: string (nullable = true)\n",
      " |-- NO2 Units: string (nullable = false)\n",
      " |-- NO2 Mean: float (nullable = true)\n",
      " |-- NO2 1st Max Value: float (nullable = true)\n",
      " |-- NO2 1st Max Hour: integer (nullable = true)\n",
      " |-- NO2 AQI: integer (nullable = true)\n",
      " |-- O3 Units: string (nullable = false)\n",
      " |-- O3 Mean: float (nullable = true)\n",
      " |-- O3 1st Max Value: float (nullable = true)\n",
      " |-- O3 1st Max Hour: integer (nullable = true)\n",
      " |-- O3 AQI: integer (nullable = true)\n",
      " |-- SO2 Units: string (nullable = false)\n",
      " |-- SO2 Mean: float (nullable = true)\n",
      " |-- SO2 1st Max Value: float (nullable = true)\n",
      " |-- SO2 1st Max Hour: integer (nullable = true)\n",
      " |-- SO2 AQI: float (nullable = true)\n",
      " |-- CO Units: string (nullable = false)\n",
      " |-- CO Mean: float (nullable = true)\n",
      " |-- CO 1st Max Value: float (nullable = true)\n",
      " |-- CO 1st Max Hour: integer (nullable = true)\n",
      " |-- CO AQI: float (nullable = true)\n",
      "\n"
     ]
    }
   ],
   "source": [
    "# Print schema of df_final to check column types\n",
    "print(\"Schema of df_final:\")\n",
    "df_final.printSchema()"
   ]
  },
  {
   "cell_type": "code",
   "execution_count": 18,
   "metadata": {},
   "outputs": [
    {
     "name": "stdout",
     "output_type": "stream",
     "text": [
      "+----------+-----------+-------+--------+---------------+---------+-----------------+----------------+-------+---------+--------+----------------+---------------+------+--------+--------+-----------------+----------------+-------+---------+--------+----------------+---------------+------+--------+\n",
      "|State Code|County Code|  State|  County|  location_name| NO2 Mean|NO2 1st Max Value|NO2 1st Max Hour|NO2 AQI|NO2 Units| O3 Mean|O3 1st Max Value|O3 1st Max Hour|O3 AQI|O3 Units|SO2 Mean|SO2 1st Max Value|SO2 1st Max Hour|SO2 AQI|SO2 Units| CO Mean|CO 1st Max Value|CO 1st Max Hour|CO AQI|CO Units|\n",
      "+----------+-----------+-------+--------+---------------+---------+-----------------+----------------+-------+---------+--------+----------------+---------------+------+--------+--------+-----------------+----------------+-------+---------+--------+----------------+---------------+------+--------+\n",
      "|        04|        013|Arizona|Maricopa|Maricopa County|10.333333|             24.0|               7|     23|      ppb|0.027208|           0.038|             11|    32|     ppm|1.083333|              2.0|               7|    3.0|      ppb|0.316667|             0.4|             14|   5.0|     ppm|\n",
      "|        04|        013|Arizona|Maricopa|Maricopa County|    25.25|             47.0|              19|     44|      ppb|  0.0175|           0.047|             10|    40|     ppm|1.541667|              2.0|               0|    3.0|      ppb|0.695833|             1.0|              1|  11.0|     ppm|\n",
      "|        04|        013|Arizona|Maricopa|Maricopa County| 8.083333|             14.0|              23|     13|      ppb|0.034792|           0.037|             14|    31|     ppm|     1.0|              1.0|               0|    1.0|      ppb|0.129167|             0.2|             17|   2.0|     ppm|\n",
      "|        04|        013|Arizona|Maricopa|Maricopa County| 8.833333|             15.0|              17|     14|      ppb|0.026208|           0.035|              9|    30|     ppm|   1.125|              3.0|               9|    4.0|      ppb|    0.15|             0.2|              0|   2.0|     ppm|\n",
      "|        04|        013|Arizona|Maricopa|Maricopa County|21.416668|             40.0|              20|     38|      ppb|0.016125|           0.039|             10|    33|     ppm|1.708333|              4.0|              11|    6.0|      ppb|0.491667|             0.8|              2|   9.0|     ppm|\n",
      "|        04|        013|Arizona|Maricopa|Maricopa County|   13.875|             33.0|              22|     31|      ppb|0.024708|           0.038|             11|    32|     ppm|    0.75|              1.0|               0|    1.0|      ppb|    0.35|             0.6|              1|   7.0|     ppm|\n",
      "|        04|        013|Arizona|Maricopa|Maricopa County|     17.0|             49.0|              22|     46|      ppb|0.036042|           0.068|             11|    77|     ppm|    1.25|              3.0|              23|    4.0|      ppb|0.245833|             0.4|              2|   5.0|     ppm|\n",
      "|        04|        013|Arizona|Maricopa|Maricopa County|20.409092|             42.0|               0|     40|      ppb|0.035083|           0.062|             11|    58|     ppm|3.217391|              8.0|              11|   11.0|      ppb|     0.4|             0.7|              1|   8.0|     ppm|\n",
      "|        04|        013|Arizona|Maricopa|Maricopa County| 9.916667|             29.0|              22|     27|      ppb|0.022042|           0.039|             11|    33|     ppm|1.166667|              2.0|               8|    3.0|      ppb|0.179167|             0.3|             11|   3.0|     ppm|\n",
      "|        04|        013|Arizona|Maricopa|Maricopa County|   25.625|             40.0|              18|     38|      ppb|0.010708|           0.028|             10|    24|     ppm|   1.875|              2.0|               0|    3.0|      ppb|0.895833|             1.4|              2|  16.0|     ppm|\n",
      "|        04|        013|Arizona|Maricopa|Maricopa County|24.791668|             44.0|              22|     42|      ppb|0.019333|           0.041|             10|    35|     ppm|   1.625|              2.0|               0|    3.0|      ppb|0.470833|             0.7|              2|   8.0|     ppm|\n",
      "|        04|        013|Arizona|Maricopa|Maricopa County|25.458332|             53.0|              19|     50|      ppb|0.023708|           0.058|             10|    49|     ppm|     1.5|              2.0|               0|    3.0|      ppb|0.616667|             1.0|              1|  11.0|     ppm|\n",
      "|        04|        013|Arizona|Maricopa|Maricopa County|19.208332|             41.0|               9|     39|      ppb|0.023083|           0.039|             12|    33|     ppm|     0.5|              2.0|               0|    3.0|      ppb|0.741667|             1.1|              1|  13.0|     ppm|\n",
      "|        04|        013|Arizona|Maricopa|Maricopa County|20.916668|             38.0|              22|     36|      ppb|0.026125|           0.054|             10|    46|     ppm|    1.75|              2.0|               3|    3.0|      ppb|0.279167|             0.4|              8|   5.0|     ppm|\n",
      "|        04|        013|Arizona|Maricopa|Maricopa County|14.333333|             40.0|              22|     38|      ppb|   0.027|           0.049|             10|    42|     ppm|2.666667|              5.0|               8|    7.0|      ppb|   0.325|             0.4|              0|   5.0|     ppm|\n",
      "|        04|        013|Arizona|Maricopa|Maricopa County|   16.125|             45.0|              20|     42|      ppb|   0.034|           0.053|             10|    45|     ppm|1.045455|              2.0|              20|    3.0|      ppb|  0.3375|             0.5|              6|   6.0|     ppm|\n",
      "|        04|        013|Arizona|Maricopa|Maricopa County| 8.291667|             24.0|               0|     23|      ppb|0.034458|           0.044|             10|    37|     ppm|    1.25|              2.0|               0|    3.0|      ppb|0.291667|             0.3|              0|   3.0|     ppm|\n",
      "|        04|        013|Arizona|Maricopa|Maricopa County|    5.625|             12.0|              19|     11|      ppb|0.028667|           0.035|              9|    30|     ppm|1.041667|              2.0|              19|    3.0|      ppb|0.208333|             0.7|              0|   8.0|     ppm|\n",
      "|        04|        013|Arizona|Maricopa|Maricopa County|18.173912|             35.0|               9|     33|      ppb|0.024125|           0.041|             11|    35|     ppm|1.217391|              2.0|               7|    3.0|      ppb|  0.5375|             0.8|             10|   9.0|     ppm|\n",
      "|        04|        013|Arizona|Maricopa|Maricopa County|19.958332|             45.0|               0|     42|      ppb|0.035458|           0.069|             10|    80|     ppm|1.291667|              2.0|               1|    3.0|      ppb|  0.5125|             0.8|              3|   9.0|     ppm|\n",
      "+----------+-----------+-------+--------+---------------+---------+-----------------+----------------+-------+---------+--------+----------------+---------------+------+--------+--------+-----------------+----------------+-------+---------+--------+----------------+---------------+------+--------+\n",
      "only showing top 20 rows\n",
      "\n"
     ]
    }
   ],
   "source": [
    "# # Reorganizing the columns so we have an easier time reading it (this function is defunct! However running it has no effect.)\n",
    "# sortedcols = ['Year', 'fips', 'State Code', 'County Code', 'State', 'County', \n",
    "#               'location_name', 'cause_name', 'rate', 'upper', 'lower',\n",
    "#               'NO2 Mean', 'NO2 1st Max Value', 'NO2 1st Max Hour', 'NO2 AQI', 'NO2 Units', \n",
    "#               'O3 Mean', 'O3 1st Max Value', 'O3 1st Max Hour', 'O3 AQI', 'O3 Units', \n",
    "#               'SO2 Mean', 'SO2 1st Max Value', 'SO2 1st Max Hour', 'SO2 AQI', 'SO2 Units', \n",
    "#               'CO Mean', 'CO 1st Max Value', 'CO 1st Max Hour', 'CO AQI', 'CO Units']\n",
    "\n",
    "# When trying to perform later steps with all the columns included, errors arise, possibly due to the size of the dataset or perhaps values in specific columns that don't do well together.\n",
    "# For this we will seperate our dataframe in two, export them to MongoDB separately and then join them together later in PowerBI.\n",
    "sortedcols_part1 = ['State Code', 'County Code', 'State', 'County', \n",
    "              'location_name',\n",
    "              'NO2 Mean', 'NO2 1st Max Value', 'NO2 1st Max Hour', 'NO2 AQI', 'NO2 Units', \n",
    "              'O3 Mean', 'O3 1st Max Value', 'O3 1st Max Hour', 'O3 AQI', 'O3 Units', \n",
    "              'SO2 Mean', 'SO2 1st Max Value', 'SO2 1st Max Hour', 'SO2 AQI', 'SO2 Units', \n",
    "              'CO Mean', 'CO 1st Max Value', 'CO 1st Max Hour', 'CO AQI', 'CO Units']\n",
    "\n",
    "sortedcols_part2 = ['Year', 'fips', 'cause_name', 'rate', 'upper', 'lower']\n",
    "\n",
    "df_final_part1 = df_final.select(sortedcols_part1)\n",
    "df_final_part2 = df_final.select(sortedcols_part2)\n",
    "df_final_part1 = df_final_part1.orderBy('Year', 'State Code', 'County Code') # Order the part 1 DataFrame by \"Year\", \"State Code\" and \"County Code\" columns\n",
    "df_final_part2 = df_final_part2.orderBy('Year', 'fips') # Order the part 2 DataFrame by \"Year\" and 'fips' columns\n",
    "\n",
    "df_final_part1.show()"
   ]
  },
  {
   "cell_type": "code",
   "execution_count": 19,
   "metadata": {},
   "outputs": [
    {
     "name": "stdout",
     "output_type": "stream",
     "text": [
      "+----+-----+----------+-----------+----------+----------+\n",
      "|Year| fips|cause_name|       rate|     upper|     lower|\n",
      "+----+-----+----------+-----------+----------+----------+\n",
      "|2010|04013|Asbestosis|0.102107264|0.13413076|0.07225539|\n",
      "|2010|04013|Asbestosis|0.102107264|0.13413076|0.07225539|\n",
      "|2010|04013|Asbestosis|0.102107264|0.13413076|0.07225539|\n",
      "|2010|04013|Asbestosis|0.102107264|0.13413076|0.07225539|\n",
      "|2010|04013|Asbestosis|0.102107264|0.13413076|0.07225539|\n",
      "|2010|04013|Asbestosis|0.102107264|0.13413076|0.07225539|\n",
      "|2010|04013|Asbestosis|0.102107264|0.13413076|0.07225539|\n",
      "|2010|04013|Asbestosis|0.102107264|0.13413076|0.07225539|\n",
      "|2010|04013|Asbestosis|0.102107264|0.13413076|0.07225539|\n",
      "|2010|04013|Asbestosis|0.102107264|0.13413076|0.07225539|\n",
      "|2010|04013|Asbestosis|0.102107264|0.13413076|0.07225539|\n",
      "|2010|04013|Asbestosis|0.102107264|0.13413076|0.07225539|\n",
      "|2010|04013|Asbestosis|0.102107264|0.13413076|0.07225539|\n",
      "|2010|04013|Asbestosis|0.102107264|0.13413076|0.07225539|\n",
      "|2010|04013|Asbestosis|0.102107264|0.13413076|0.07225539|\n",
      "|2010|04013|Asbestosis|0.102107264|0.13413076|0.07225539|\n",
      "|2010|04013|Asbestosis|0.102107264|0.13413076|0.07225539|\n",
      "|2010|04013|Asbestosis|0.102107264|0.13413076|0.07225539|\n",
      "|2010|04013|Asbestosis|0.102107264|0.13413076|0.07225539|\n",
      "|2010|04013|Asbestosis|0.102107264|0.13413076|0.07225539|\n",
      "+----+-----+----------+-----------+----------+----------+\n",
      "only showing top 20 rows\n",
      "\n"
     ]
    }
   ],
   "source": [
    "df_final_part2.show()"
   ]
  },
  {
   "cell_type": "code",
   "execution_count": 20,
   "metadata": {},
   "outputs": [
    {
     "name": "stdout",
     "output_type": "stream",
     "text": [
      "Rows before dropping duplicates (part 1): 17244900\n",
      "+----------+-----------+-----------+----------------+--------------------+---------+-----------------+----------------+-------+---------+--------+----------------+---------------+------+--------+---------+-----------------+----------------+-------+---------+--------+----------------+---------------+------+--------+\n",
      "|State Code|County Code|      State|          County|       location_name| NO2 Mean|NO2 1st Max Value|NO2 1st Max Hour|NO2 AQI|NO2 Units| O3 Mean|O3 1st Max Value|O3 1st Max Hour|O3 AQI|O3 Units| SO2 Mean|SO2 1st Max Value|SO2 1st Max Hour|SO2 AQI|SO2 Units| CO Mean|CO 1st Max Value|CO 1st Max Hour|CO AQI|CO Units|\n",
      "+----------+-----------+-----------+----------------+--------------------+---------+-----------------+----------------+-------+---------+--------+----------------+---------------+------+--------+---------+-----------------+----------------+-------+---------+--------+----------------+---------------+------+--------+\n",
      "|        06|        023| California|        Humboldt|     Humboldt County| 0.483333|              1.4|              12|      1|      ppb|0.026875|           0.029|             11|    27|     ppm|-0.079167|              0.0|               1|    0.0|      ppb|     0.2|             0.2|              0|   2.0|     ppm|\n",
      "|        06|        023| California|        Humboldt|     Humboldt County| 0.941667|              2.5|              19|      2|      ppb|0.022158|           0.025|              8|    23|     ppm|   0.4375|              0.5|               6|    0.0|      ppb|     0.4|             0.4|              0|   5.0|     ppm|\n",
      "|        06|        059| California|          Orange|       Orange County| 2.819048|              6.2|               9|      6|      ppb|  0.0314|           0.036|             10|    33|     ppm|      0.0|              0.0|               0|    0.0|      ppb|     0.0|             0.0|              0|   0.0|     ppm|\n",
      "|        06|        071| California|  San Bernardino|San Bernardino Co...|16.565216|             43.0|               0|     41|      ppb|0.041917|            0.06|              9|    51|     ppm|      1.0|              1.0|               0|    1.0|      ppb|0.383333|             0.5|              1|   6.0|     ppm|\n",
      "|        06|        073| California|       San Diego|    San Diego County| 3.458333|             11.0|              21|     10|      ppb|0.031583|           0.049|             10|    42|     ppm| 0.291667|              0.4|              13|    0.0|      ppb|     0.2|             0.2|              0|   2.0|     ppm|\n",
      "|        06|        073| California|       San Diego|    San Diego County|34.227272|             41.0|               7|     39|      ppb|0.005292|           0.014|              9|    12|     ppm| 1.681818|              3.0|               7|    4.0|      ppb|0.970833|             1.4|             10|  16.0|     ppm|\n",
      "|        08|        001|   Colorado|           Adams|        Adams County| 5.826087|             22.0|              23|     21|      ppb|0.034042|           0.058|             11|    61|     ppm| 0.708333|              1.0|               6|    1.0|      ppb|0.308333|             0.4|              0|   5.0|     ppm|\n",
      "|        08|        001|   Colorado|           Adams|        Adams County|16.304348|             35.0|               6|     33|      ppb|0.040333|           0.074|             10|   112|     ppm|  0.73913|              4.0|               7|    6.0|      ppb|0.416667|             0.5|              0|   6.0|     ppm|\n",
      "|        08|        001|   Colorado|           Adams|        Adams County|35.956524|             58.0|               9|     55|      ppb|0.005208|           0.016|              9|    15|     ppm|      3.5|              6.0|               9|    9.0|      ppb|0.804167|             1.1|             23|  13.0|     ppm|\n",
      "|        08|        001|   Colorado|           Adams|        Adams County| 0.714286|              2.0|              23|      2|      ppb|  0.0385|           0.047|             14|    44|     ppm|      0.0|              0.0|               0|    0.0|      ppb|     0.2|             0.2|              0|   2.0|     ppm|\n",
      "|        08|        001|   Colorado|           Adams|        Adams County|20.043478|             42.0|               6|     40|      ppb|0.030542|           0.055|             11|    51|     ppm|      1.5|              7.0|              23|   10.0|      ppb|0.291667|             0.4|              8|   5.0|     ppm|\n",
      "|        09|        003|Connecticut|        Hartford|     Hartford County|     4.25|             12.0|              22|     11|      ppb|0.020875|           0.031|             10|    26|     ppm| 0.308333|              0.4|               6|    0.0|      ppb|0.341667|             0.5|              0|   6.0|     ppm|\n",
      "|        13|        089|    Georgia|          DeKalb|       DeKalb County|14.904167|             22.7|               1|     21|      ppb| 0.01675|           0.041|             11|    35|     ppm|     0.45|              1.6|              15|    1.0|      ppb|0.333333|             0.4|              2|   5.0|     ppm|\n",
      "|        18|        097|    Indiana|          Marion|       Marion County|   4.0625|              5.0|              16|      5|      ppb|0.026375|            0.03|              0|    25|     ppm| 2.229167|              2.6|               2|    3.0|      ppb|     0.0|             0.0|              0|   0.0|     ppm|\n",
      "|        18|        097|    Indiana|          Marion|       Marion County| 8.818182|             20.1|              18|     19|      ppb| 0.02675|           0.037|              9|    31|     ppm| 4.029167|             14.0|               5|   20.0|      ppb|0.026667|             0.4|             23|   5.0|     ppm|\n",
      "|        22|        033|  Louisiana|East Baton Rouge|East Baton Rouge ...|   19.125|             50.0|              21|     47|      ppb|0.036333|           0.049|              9|    42|     ppm| 6.573913|             41.5|              19|   57.0|      ppb|0.179167|             0.2|              0|   2.0|     ppm|\n",
      "|        22|        033|  Louisiana|East Baton Rouge|East Baton Rouge ...|   15.375|             39.0|              20|     37|      ppb| 0.03225|            0.05|              9|    42|     ppm|   0.1375|              1.7|              10|    1.0|      ppb|0.229167|             0.4|             21|   5.0|     ppm|\n",
      "|        22|        033|  Louisiana|East Baton Rouge|East Baton Rouge ...|      6.0|             16.0|               1|     15|      ppb|0.034417|           0.042|             11|    36|     ppm| 0.141667|              0.8|               8|    0.0|      ppb|     0.2|             0.2|              0|   2.0|     ppm|\n",
      "|        22|        033|  Louisiana|East Baton Rouge|East Baton Rouge ...| 9.666667|             21.0|               5|     20|      ppb| 0.01775|           0.028|             10|    24|     ppm|      0.0|              0.0|               0|    0.0|      ppb|     0.2|             0.2|              0|   2.0|     ppm|\n",
      "|        29|        510|   Missouri|  St. Louis City|    Saint Louis City|22.058332|             42.4|               0|     40|      ppb|0.027875|           0.046|              9|    43|     ppm| 2.304545|              4.4|               9|    6.0|      ppb|  0.3375|             0.4|              3|   5.0|     ppm|\n",
      "+----------+-----------+-----------+----------------+--------------------+---------+-----------------+----------------+-------+---------+--------+----------------+---------------+------+--------+---------+-----------------+----------------+-------+---------+--------+----------------+---------------+------+--------+\n",
      "only showing top 20 rows\n",
      "\n",
      "Rows after dropping duplicates (part 1): 574830\n"
     ]
    }
   ],
   "source": [
    "print(f\"Rows before dropping duplicates (part 1): {df_final_part1.count()}\")\n",
    "\n",
    "df_final_part1 = df_final_part1.dropDuplicates() # Drop duplicates from part 1 of final dataset\n",
    "\n",
    "df_final_part1.show()\n",
    "\n",
    "print(f\"Rows after dropping duplicates (part 1): {df_final_part1.count()}\")"
   ]
  },
  {
   "cell_type": "code",
   "execution_count": 21,
   "metadata": {},
   "outputs": [
    {
     "name": "stdout",
     "output_type": "stream",
     "text": [
      "Rows before dropping duplicates (part 2): 17244900\n",
      "+----+-----+--------------------+------------+------------+------------+\n",
      "|Year| fips|          cause_name|        rate|       upper|       lower|\n",
      "+----+-----+--------------------+------------+------------+------------+\n",
      "|2014|06059|Chronic respirato...|    35.14851|   36.423782|   33.915813|\n",
      "|2014|06059|Other pneumoconiosis| 0.008034298|  0.01907339| 0.002567423|\n",
      "|2014|06059|      Pneumoconiosis|  0.12829508|  0.20271909| 0.078745276|\n",
      "|2014|06059|Interstitial lung...|    5.672771|   6.7352705|   3.3849025|\n",
      "|2014|06059|              Asthma|   0.7473926|   0.8759542|  0.65121347|\n",
      "|2014|06059|Interstitial lung...|   4.0091004|   4.8745923|   2.3248918|\n",
      "|2014|06059|Coal workers pneu...| 0.007715228|  0.02498612|0.0019171194|\n",
      "|2014|06059|          Asbestosis| 0.005963239|  0.01475996| 0.001976785|\n",
      "|2014|06059|Coal workers pneu...|0.0039601624| 0.010622047|0.0011987275|\n",
      "|2014|06059|      Pneumoconiosis|  0.15490195|  0.20428553|  0.12079911|\n",
      "|2014|06059|Chronic respirato...|   39.162663|    41.01611|   37.420315|\n",
      "|2014|06059|Chronic obstructi...|   32.239586|   34.848248|    30.26404|\n",
      "|2014|06059|Other pneumoconiosis|  0.16441645|  0.21321338|   0.1271076|\n",
      "|2014|06059|Other pneumoconiosis|  0.10071355|  0.13095604|  0.07824452|\n",
      "|2014|06059|           Silicosis| 8.464865E-4|0.0029137577|1.3228579E-4|\n",
      "|2014|06059|Coal workers pneu...|0.0014298357|0.0044455836|3.0180562E-4|\n",
      "|2014|06059|Other chronic res...|   0.5323286|   0.6390544|   0.4482206|\n",
      "|2014|06059|Chronic obstructi...|   29.195032|   31.024244|   27.772242|\n",
      "|2014|06059|           Silicosis|0.0034658944|0.0073680957|0.0013835299|\n",
      "|2014|06059|Chronic respirato...|   32.303402|   33.948563|   30.738968|\n",
      "+----+-----+--------------------+------------+------------+------------+\n",
      "only showing top 20 rows\n",
      "\n",
      "Rows after dropping duplicates (part 2): 10590\n"
     ]
    }
   ],
   "source": [
    "print(f\"Rows before dropping duplicates (part 2): {df_final_part2.count()}\")\n",
    "\n",
    "df_final_part2 = df_final_part2.dropDuplicates() # Drop duplicates from part 2 of final dataset\n",
    "\n",
    "df_final_part2.show()\n",
    "\n",
    "print(f\"Rows after dropping duplicates (part 2): {df_final_part2.count()}\")"
   ]
  },
  {
   "cell_type": "markdown",
   "metadata": {},
   "source": [
    "# Create .csv file\n",
    "We will convert the pyspark dataframes into pandas dataframes so we're able to create the .csv files."
   ]
  },
  {
   "cell_type": "code",
   "execution_count": 29,
   "metadata": {},
   "outputs": [],
   "source": [
    "import pandas as pd\n",
    "\n",
    "# Convert PySpark DataFrame to Pandas DataFrame\n",
    "df_final_part1_pd = df_final_part1.toPandas()\n",
    "df_final_part2_pd = df_final_part2.toPandas()\n",
    "\n",
    "# Write Pandas DataFrames to CSV files\n",
    "df_final_part1_pd.to_csv('bigdata_respiratory_part1.csv', index=False)\n",
    "df_final_part2_pd.to_csv('bigdata_respiratory_part2.csv', index=False)"
   ]
  },
  {
   "cell_type": "markdown",
   "metadata": {},
   "source": [
    "# PySpark -> MongoDB Connection"
   ]
  },
  {
   "cell_type": "markdown",
   "metadata": {},
   "source": [
    "### PART 1 COLS (\"Respiratory_part1cols\")"
   ]
  },
  {
   "cell_type": "code",
   "execution_count": 22,
   "metadata": {},
   "outputs": [
    {
     "name": "stdout",
     "output_type": "stream",
     "text": [
      "['Respiratory_df1cols', 'Respiratory_part2cols', 'Respiratory', 'Respiratory_part1cols']\n"
     ]
    }
   ],
   "source": [
    "import pandas as pd\n",
    "from pymongo import MongoClient\n",
    "\n",
    "# Convert PySpark DataFrame to RDD of dictionaries\n",
    "rdd_data = df_final_part1.rdd.map(lambda row: row.asDict()) # Part 1 of final dataframe\n",
    "\n",
    "# Initialize MongoDB client and select database/collection\n",
    "client = MongoClient(\"mongodb://localhost:27017\")\n",
    "\n",
    "db = client[\"BigData\"]\n",
    "\n",
    "print(db.list_collection_names()) # Checks what collections are present in MongoDB\n",
    "\n",
    "collection = db[\"Respiratory_part1cols\"] # Prepares collection for part 1"
   ]
  },
  {
   "cell_type": "code",
   "execution_count": 23,
   "metadata": {},
   "outputs": [],
   "source": [
    "spark = SparkSession.builder \\\n",
    "    .appName(\"merge_datasets\") \\\n",
    "    .config(\"spark.jars.packages\", \"org.mongodb.spark:mongo-spark-connector_2.12:3.0.1\") \\\n",
    "    .getOrCreate()"
   ]
  },
  {
   "cell_type": "code",
   "execution_count": 24,
   "metadata": {},
   "outputs": [],
   "source": [
    "# Writes part 1 of final dataframe into MongoDB\n",
    "df_final_part1.write \\\n",
    "    .format(\"com.mongodb.spark.sql.DefaultSource\") \\\n",
    "    .mode(\"overwrite\") \\\n",
    "    .option(\"uri\", \"mongodb://localhost:27017/BigData.Respiratory_part1cols\") \\\n",
    "    .save()"
   ]
  },
  {
   "cell_type": "code",
   "execution_count": 25,
   "metadata": {},
   "outputs": [],
   "source": [
    "# add 3 example columns from merged_dataset to TEST if it works\n",
    "#df_final.select('Year', 'fips', 'State Code', 'County Code', 'State', 'County').write \\\n",
    "#    .format(\"com.mongodb.spark.sql.DefaultSource\") \\\n",
    "#    .mode(\"overwrite\") \\\n",
    "#    .option(\"uri\", \"mongodb://localhost:27017/BigData.Respiratory\") \\\n",
    "#    .save()\n",
    "\n",
    "# Apache Spark and MongoDB Connector versions are compatible\n",
    "# Java version is JDK 17, compatible and properly configured with the JAVA_HOME environment \n",
    "# pyspark shell is installed and properly configured with the SPARK_HOME environment\n",
    "# mongo-spark-connector_2.12-3.0.1.jar file is in the C:\\SPARK\\jars directory\n",
    "# mongo-java-driver-3.12.14.jar file is in the C:\\SPARK\\jars directory"
   ]
  },
  {
   "cell_type": "markdown",
   "metadata": {},
   "source": [
    "### PART 2 COLS (\"Respiratory_part2cols\")"
   ]
  },
  {
   "cell_type": "code",
   "execution_count": 26,
   "metadata": {},
   "outputs": [
    {
     "name": "stdout",
     "output_type": "stream",
     "text": [
      "['Respiratory_df1cols', 'Respiratory_part2cols', 'Respiratory', 'Respiratory_part1cols']\n"
     ]
    }
   ],
   "source": [
    "import pandas as pd\n",
    "from pymongo import MongoClient\n",
    "\n",
    "# Convert PySpark DataFrame to RDD of dictionaries\n",
    "rdd_data = df_final_part2.rdd.map(lambda row: row.asDict()) # Part 2 of final dataframe\n",
    "\n",
    "# Initialize MongoDB client and select database/collection\n",
    "client = MongoClient(\"mongodb://localhost:27017\")\n",
    "\n",
    "db = client[\"BigData\"]\n",
    "\n",
    "print(db.list_collection_names()) # Checks what collections are present in MongoDB\n",
    "\n",
    "collection = db[\"Respiratory_part2cols\"] # Prepares collection for part 2"
   ]
  },
  {
   "cell_type": "code",
   "execution_count": 27,
   "metadata": {},
   "outputs": [],
   "source": [
    "spark = SparkSession.builder \\\n",
    "    .appName(\"merge_datasets\") \\\n",
    "    .config(\"spark.jars.packages\", \"org.mongodb.spark:mongo-spark-connector_2.12:3.0.1\") \\\n",
    "    .getOrCreate()"
   ]
  },
  {
   "cell_type": "code",
   "execution_count": 28,
   "metadata": {},
   "outputs": [],
   "source": [
    "# Writes part 2 of final dataframe into MongoDB\n",
    "df_final_part2.write \\\n",
    "    .format(\"com.mongodb.spark.sql.DefaultSource\") \\\n",
    "    .mode(\"overwrite\") \\\n",
    "    .option(\"uri\", \"mongodb://localhost:27017/BigData.Respiratory_part2cols\") \\\n",
    "    .save()"
   ]
  },
  {
   "cell_type": "markdown",
   "metadata": {},
   "source": []
  }
 ],
 "metadata": {
  "kernelspec": {
   "display_name": "Python 3",
   "language": "python",
   "name": "python3"
  },
  "language_info": {
   "codemirror_mode": {
    "name": "ipython",
    "version": 3
   },
   "file_extension": ".py",
   "mimetype": "text/x-python",
   "name": "python",
   "nbconvert_exporter": "python",
   "pygments_lexer": "ipython3",
   "version": "3.12.2"
  }
 },
 "nbformat": 4,
 "nbformat_minor": 2
}
