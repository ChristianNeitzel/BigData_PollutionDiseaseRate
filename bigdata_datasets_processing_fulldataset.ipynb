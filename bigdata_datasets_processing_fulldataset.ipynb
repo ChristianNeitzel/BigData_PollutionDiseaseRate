{
 "cells": [
  {
   "cell_type": "markdown",
   "metadata": {},
   "source": [
    "# **NOTA**: Este código tentar correr a conecção para MongoDB do dataset final completo todo junto, no entanto o PySpark cai ao tentar fazer essa conecção, vou manter este ficheiro aqui por agora para observarem (e caso consigam arranjar)"
   ]
  },
  {
   "cell_type": "markdown",
   "metadata": {},
   "source": [
    "# Initiating Spark session"
   ]
  },
  {
   "cell_type": "code",
   "execution_count": 1,
   "metadata": {},
   "outputs": [],
   "source": [
    "from pyspark.sql import SparkSession\n",
    "\n",
    "spark = SparkSession.builder.appName(\"merge_datasets\").getOrCreate()"
   ]
  },
  {
   "cell_type": "markdown",
   "metadata": {},
   "source": [
    "# Merging and pre-processing of our first dataset (df1, df1a and df1b): **\"df1_merged\"**"
   ]
  },
  {
   "cell_type": "code",
   "execution_count": 2,
   "metadata": {},
   "outputs": [],
   "source": [
    "# Reading all the .csv files from our first dataset (df1 and related)\n",
    "df1 = spark.read.csv(\"data1_US_Chronic_Respiratory_Disease_Mortality_Rates/data1/respiratory_disease_mortality_rate_usa.csv\", header = True, inferSchema = True)\n",
    "df1a = spark.read.csv(\"data1_US_Chronic_Respiratory_Disease_Mortality_Rates/data1/reference_location.csv\", header = True, inferSchema = True)\n",
    "df1b = spark.read.csv(\"data1_US_Chronic_Respiratory_Disease_Mortality_Rates/data1/reference_disease_name.csv\", header = True, inferSchema = True)"
   ]
  },
  {
   "cell_type": "code",
   "execution_count": 3,
   "metadata": {},
   "outputs": [
    {
     "name": "stdout",
     "output_type": "stream",
     "text": [
      "+-----------+----+--------+------+-------+----------------+----------------+----------------+\n",
      "|location_id|fips|cause_id|sex_id|year_id|            rate|           lower|           upper|\n",
      "+-----------+----+--------+------+-------+----------------+----------------+----------------+\n",
      "|        523|   1|     508|     1|   1980|78.8240143049003|76.0416535564831|81.2860330254077|\n",
      "|        523|   1|     508|     1|   1981|79.0443658945709|76.5087647940048|81.5276692567423|\n",
      "|        523|   1|     508|     1|   1982|78.8112586372187|76.2767652989869|81.1914708668052|\n",
      "|        523|   1|     508|     1|   1983|79.0766571203029|76.6822478099066|81.3736660066615|\n",
      "|        523|   1|     508|     1|   1984|80.5325242474845|78.1203554139586|82.8761094707397|\n",
      "|        523|   1|     508|     1|   1985|83.5481777042778|81.1573443449007|  85.70592128092|\n",
      "|        523|   1|     508|     1|   1986|83.5863221866442|81.3655694934226|85.8497713841107|\n",
      "|        523|   1|     508|     1|   1987|83.2647721314435|80.9130763330001|85.6339830614319|\n",
      "|        523|   1|     508|     1|   1988|84.9321467272413| 82.646892122221|87.3105556180656|\n",
      "|        523|   1|     508|     1|   1989|85.0575881028286| 82.870688349595| 87.518906258343|\n",
      "|        523|   1|     508|     1|   1990|84.5578786122007| 82.337469331016|87.1232480722065|\n",
      "|        523|   1|     508|     1|   1991|86.1153212011415|83.9664447594904|  88.69242553214|\n",
      "|        523|   1|     508|     1|   1992|83.6286130289506|81.4572144583538|86.0583872027892|\n",
      "|        523|   1|     508|     1|   1993|86.9022157802354|84.5399286539531| 89.452822266376|\n",
      "|        523|   1|     508|     1|   1994|88.3932486943737|86.0373374711576|90.9440141109616|\n",
      "|        523|   1|     508|     1|   1995|89.3318518702448|86.8896073173527|92.0857222843268|\n",
      "|        523|   1|     508|     1|   1996|89.3753099475722|86.7609234293919|92.1566373268059|\n",
      "|        523|   1|     508|     1|   1997|90.2862408276924|87.7660006914926|93.0264256798318|\n",
      "|        523|   1|     508|     1|   1998|92.0915688414459| 89.492799674043|94.8218585847009|\n",
      "|        523|   1|     508|     1|   1999|94.1928186174616|91.7476169850481|96.6914932518578|\n",
      "+-----------+----+--------+------+-------+----------------+----------------+----------------+\n",
      "only showing top 20 rows\n",
      "\n",
      "df1 has 3112200 rows\n"
     ]
    }
   ],
   "source": [
    "df1.show() # respiratory_disease_mortality_rate_usa\n",
    "print(f\"df1 has {df1.count()} rows\")"
   ]
  },
  {
   "cell_type": "code",
   "execution_count": 4,
   "metadata": {},
   "outputs": [
    {
     "name": "stdout",
     "output_type": "stream",
     "text": [
      "+-----------+----+--------+------+-------+---------+---------+---------+\n",
      "|location_id|fips|cause_id|sex_id|year_id|     rate|    lower|    upper|\n",
      "+-----------+----+--------+------+-------+---------+---------+---------+\n",
      "|        523|   1|     508|     1|   1980| 78.82401| 76.04166| 81.28603|\n",
      "|        523|   1|     508|     1|   1981|79.044365|76.508766| 81.52767|\n",
      "|        523|   1|     508|     1|   1982| 78.81126|76.276764| 81.19147|\n",
      "|        523|   1|     508|     1|   1983| 79.07666| 76.68225|81.373665|\n",
      "|        523|   1|     508|     1|   1984|80.532524| 78.12035| 82.87611|\n",
      "|        523|   1|     508|     1|   1985| 83.54818| 81.15734|85.705925|\n",
      "|        523|   1|     508|     1|   1986| 83.58632| 81.36557| 85.84977|\n",
      "|        523|   1|     508|     1|   1987| 83.26477| 80.91308| 85.63398|\n",
      "|        523|   1|     508|     1|   1988|84.932144| 82.64689|87.310555|\n",
      "|        523|   1|     508|     1|   1989| 85.05759| 82.87069|87.518906|\n",
      "|        523|   1|     508|     1|   1990| 84.55788| 82.33747|87.123245|\n",
      "|        523|   1|     508|     1|   1991| 86.11532|83.966446| 88.69243|\n",
      "|        523|   1|     508|     1|   1992| 83.62862|81.457214| 86.05839|\n",
      "|        523|   1|     508|     1|   1993|86.902214| 84.53993| 89.45282|\n",
      "|        523|   1|     508|     1|   1994| 88.39325| 86.03734|90.944016|\n",
      "|        523|   1|     508|     1|   1995| 89.33185| 86.88961|92.085724|\n",
      "|        523|   1|     508|     1|   1996| 89.37531|86.760925| 92.15664|\n",
      "|        523|   1|     508|     1|   1997| 90.28624|   87.766| 93.02643|\n",
      "|        523|   1|     508|     1|   1998| 92.09157|  89.4928| 94.82186|\n",
      "|        523|   1|     508|     1|   1999| 94.19282| 91.74762| 96.69149|\n",
      "+-----------+----+--------+------+-------+---------+---------+---------+\n",
      "only showing top 20 rows\n",
      "\n"
     ]
    }
   ],
   "source": [
    "from pyspark.sql.functions import col\n",
    "\n",
    "# The columns 'rate', 'lower' and 'upper' are defined as having 'double' type values, the creators of the dataframe did this in order to obtain values more previse than float values.\n",
    "# We're converting these values to float so it later matches with float values that may appear down the line\n",
    "\n",
    "# Convert column types from double to float\n",
    "df1 = df1.withColumn(\"rate\", col(\"rate\").cast(\"float\")) \\\n",
    "         .withColumn(\"lower\", col(\"lower\").cast(\"float\")) \\\n",
    "         .withColumn(\"upper\", col(\"upper\").cast(\"float\"))\n",
    "\n",
    "df1.show()"
   ]
  },
  {
   "cell_type": "code",
   "execution_count": 5,
   "metadata": {},
   "outputs": [
    {
     "name": "stdout",
     "output_type": "stream",
     "text": [
      "+-----------+----+--------------------+\n",
      "|location_id|fips|       location_name|\n",
      "+-----------+----+--------------------+\n",
      "|        102|  NA|       United States|\n",
      "|        523|   1|             Alabama|\n",
      "|        524|   2|              Alaska|\n",
      "|        525|   4|             Arizona|\n",
      "|        526|   5|            Arkansas|\n",
      "|        527|   6|          California|\n",
      "|        528|   8|            Colorado|\n",
      "|        529|   9|         Connecticut|\n",
      "|        530|  10|            Delaware|\n",
      "|        531|  11|District of Columbia|\n",
      "|        532|  12|             Florida|\n",
      "|        533|  13|             Georgia|\n",
      "|        534|  15|              Hawaii|\n",
      "|        535|  16|               Idaho|\n",
      "|        536|  17|            Illinois|\n",
      "|        537|  18|             Indiana|\n",
      "|        538|  19|                Iowa|\n",
      "|        539|  20|              Kansas|\n",
      "|        540|  21|            Kentucky|\n",
      "|        541|  22|           Louisiana|\n",
      "+-----------+----+--------------------+\n",
      "only showing top 20 rows\n",
      "\n",
      "df1a has 3194 rows\n"
     ]
    }
   ],
   "source": [
    "df1a.show() # reference_location\n",
    "print(f\"df1a has {df1a.count()} rows\")"
   ]
  },
  {
   "cell_type": "code",
   "execution_count": 6,
   "metadata": {},
   "outputs": [
    {
     "name": "stdout",
     "output_type": "stream",
     "text": [
      "+--------+--------------------+\n",
      "|cause_id|          cause_name|\n",
      "+--------+--------------------+\n",
      "|     508|Chronic respirato...|\n",
      "|     509|Chronic obstructi...|\n",
      "|     510|      Pneumoconiosis|\n",
      "|     511|           Silicosis|\n",
      "|     512|          Asbestosis|\n",
      "|     513|Coal workers pneu...|\n",
      "|     514|Other pneumoconiosis|\n",
      "|     515|              Asthma|\n",
      "|     516|Interstitial lung...|\n",
      "|     520|Other chronic res...|\n",
      "+--------+--------------------+\n",
      "\n",
      "df1b has 10 rows\n"
     ]
    }
   ],
   "source": [
    "df1b.show() # reference_disease_name\n",
    "print(f\"df1b has {df1b.count()} rows\")"
   ]
  },
  {
   "cell_type": "code",
   "execution_count": 7,
   "metadata": {},
   "outputs": [
    {
     "name": "stdout",
     "output_type": "stream",
     "text": [
      "+--------+-----------+----+------+----+---------+---------+---------+--------------+--------------------+\n",
      "|cause_id|location_id|fips|sex_id|Year|     rate|    lower|    upper| location_name|          cause_name|\n",
      "+--------+-----------+----+------+----+---------+---------+---------+--------------+--------------------+\n",
      "|     508|        523|   1|     1|2010| 91.02748| 88.46226| 93.55213|       Alabama|Chronic respirato...|\n",
      "|     508|        523|   1|     1|2011| 91.67503| 88.95623| 94.17292|       Alabama|Chronic respirato...|\n",
      "|     508|        523|   1|     1|2012| 91.48417| 88.74958| 94.22716|       Alabama|Chronic respirato...|\n",
      "|     508|        523|   1|     1|2013|92.234344|89.221306| 95.18036|       Alabama|Chronic respirato...|\n",
      "|     508|        523|   1|     1|2014|92.042435| 88.97468| 95.04819|       Alabama|Chronic respirato...|\n",
      "|     508|        523|   1|     2|2010| 57.94016|56.150833|59.768143|       Alabama|Chronic respirato...|\n",
      "|     508|        523|   1|     2|2011|58.940254|57.066906| 60.73228|       Alabama|Chronic respirato...|\n",
      "|     508|        523|   1|     2|2012|59.303375|57.391582|  61.3288|       Alabama|Chronic respirato...|\n",
      "|     508|        523|   1|     2|2013|59.673817|57.524017|  61.8346|       Alabama|Chronic respirato...|\n",
      "|     508|        523|   1|     2|2014|61.006992|58.756683|  63.3739|       Alabama|Chronic respirato...|\n",
      "|     508|        523|   1|     3|2010| 70.85819| 69.26899| 72.46336|       Alabama|Chronic respirato...|\n",
      "|     508|        523|   1|     3|2011|71.797966|70.135574| 73.44995|       Alabama|Chronic respirato...|\n",
      "|     508|        523|   1|     3|2012|  72.0337|70.300064|73.902016|       Alabama|Chronic respirato...|\n",
      "|     508|        523|   1|     3|2013|72.665794|70.861984| 74.66955|       Alabama|Chronic respirato...|\n",
      "|     508|        523|   1|     3|2014| 73.44227|71.539894|  75.4865|       Alabama|Chronic respirato...|\n",
      "|     508|        614|1001|     1|2010| 95.76898|89.471695|  102.695|Autauga County|Chronic respirato...|\n",
      "|     508|        614|1001|     1|2011| 95.83572|88.289894|103.04964|Autauga County|Chronic respirato...|\n",
      "|     508|        614|1001|     1|2012| 98.76378| 91.16536|106.14353|Autauga County|Chronic respirato...|\n",
      "|     508|        614|1001|     1|2013| 95.33873|  87.9291|102.75713|Autauga County|Chronic respirato...|\n",
      "|     508|        614|1001|     1|2014| 95.46123| 87.93561|102.96087|Autauga County|Chronic respirato...|\n",
      "+--------+-----------+----+------+----+---------+---------+---------+--------------+--------------------+\n",
      "only showing top 20 rows\n",
      "\n"
     ]
    }
   ],
   "source": [
    "# Merges datasets 'df1' with 'df1a', resulting in the dataset 'df1_merged'\n",
    "\n",
    "df1_merged = df1.join(df1a, on = \"location_id\", how = \"inner\")      # Merges datasets \"df1\" with \"df1a\" into a new dataset \"df1_merged\"\n",
    "df1_merged = df1_merged.filter(df1_merged['location_id'] != '102')  # Filter out rows where 'fips' column has the value '102'\n",
    "df1_merged = df1_merged.drop(df1a[\"fips\"])                          # Removes the \"fips\" column that came from df1a, keeping the \"fips\" column from df1\n",
    "df1_merged = df1_merged.join(df1b, on = \"cause_id\", how = \"inner\")  # Merges datasets \"df1_merged\" with \"df1b\"\n",
    "df1_merged = df1_merged.withColumnRenamed(\"year_id\", \"Year\")        # Renames column \"year_id\" to \"Year\"\n",
    "df1_merged = df1_merged.filter(df1_merged[\"Year\"] >= 2010)          # Removes all rows where values in the column \"year_id\" are less than 2010 \n",
    "\n",
    "df1_merged.show()"
   ]
  },
  {
   "cell_type": "code",
   "execution_count": 8,
   "metadata": {},
   "outputs": [
    {
     "name": "stdout",
     "output_type": "stream",
     "text": [
      "+--------+-----------+-----+------+----+---------+---------+---------+--------------+--------------------+\n",
      "|cause_id|location_id| fips|sex_id|Year|     rate|    lower|    upper| location_name|          cause_name|\n",
      "+--------+-----------+-----+------+----+---------+---------+---------+--------------+--------------------+\n",
      "|     508|        614|01001|     1|2010| 95.76898|89.471695|  102.695|Autauga County|Chronic respirato...|\n",
      "|     508|        614|01001|     1|2011| 95.83572|88.289894|103.04964|Autauga County|Chronic respirato...|\n",
      "|     508|        614|01001|     1|2012| 98.76378| 91.16536|106.14353|Autauga County|Chronic respirato...|\n",
      "|     508|        614|01001|     1|2013| 95.33873|  87.9291|102.75713|Autauga County|Chronic respirato...|\n",
      "|     508|        614|01001|     1|2014| 95.46123| 87.93561|102.96087|Autauga County|Chronic respirato...|\n",
      "|     508|        614|01001|     2|2010| 66.27883| 61.72828|   70.939|Autauga County|Chronic respirato...|\n",
      "|     508|        614|01001|     2|2011| 67.77411|62.800667|72.860306|Autauga County|Chronic respirato...|\n",
      "|     508|        614|01001|     2|2012| 70.60186|65.117714| 75.92503|Autauga County|Chronic respirato...|\n",
      "|     508|        614|01001|     2|2013| 70.91322|  65.5103|76.253365|Autauga County|Chronic respirato...|\n",
      "|     508|        614|01001|     2|2014| 72.34589| 66.72956|  78.3817|Autauga County|Chronic respirato...|\n",
      "|     508|        614|01001|     3|2010|  77.7515|73.633125| 81.84826|Autauga County|Chronic respirato...|\n",
      "|     508|        614|01001|     3|2011|78.970604| 74.67636| 82.96175|Autauga County|Chronic respirato...|\n",
      "|     508|        614|01001|     3|2012| 81.95516|  77.5818| 86.64344|Autauga County|Chronic respirato...|\n",
      "|     508|        614|01001|     3|2013|  80.8525| 76.50147| 85.42557|Autauga County|Chronic respirato...|\n",
      "|     508|        614|01001|     3|2014| 81.79426| 77.37058|86.771996|Autauga County|Chronic respirato...|\n",
      "|     508|        637|01003|     1|2010|67.073204| 63.37616| 70.85907|Baldwin County|Chronic respirato...|\n",
      "|     508|        637|01003|     1|2011| 67.10985|63.096203| 70.73647|Baldwin County|Chronic respirato...|\n",
      "|     508|        637|01003|     1|2012|  63.0728| 59.29505|66.735985|Baldwin County|Chronic respirato...|\n",
      "|     508|        637|01003|     1|2013| 67.03304|63.366505|71.005005|Baldwin County|Chronic respirato...|\n",
      "|     508|        637|01003|     1|2014|65.561035|61.855663| 69.37366|Baldwin County|Chronic respirato...|\n",
      "+--------+-----------+-----+------+----+---------+---------+---------+--------------+--------------------+\n",
      "only showing top 20 rows\n",
      "\n"
     ]
    }
   ],
   "source": [
    "from pyspark.sql.functions import when, concat, lit, length\n",
    "\n",
    "# Filter values with string length 4 using a mask with regex\n",
    "# Add a '0' to the beginning of the masked 'fips' column\n",
    "df1_merged = df1_merged.withColumn(\"fips\", \n",
    "                                   when(length(col(\"fips\")) == 4, concat(lit(\"0\"), col(\"fips\")))\n",
    "                                   .otherwise(col(\"fips\")))\n",
    "\n",
    "# Preserve only the rows which have a 5 digit fips\n",
    "df1_merged = df1_merged.filter(length(col(\"fips\")) == 5)\n",
    "\n",
    "df1_merged.show()"
   ]
  },
  {
   "cell_type": "code",
   "execution_count": 9,
   "metadata": {},
   "outputs": [
    {
     "name": "stdout",
     "output_type": "stream",
     "text": [
      "Rows before dropping duplicates: 437550\n",
      "Rows after dropping duplicates: 437550\n"
     ]
    }
   ],
   "source": [
    "print(\"Rows before dropping duplicates:\", df1_merged.count())\n",
    "\n",
    "# Drop potential duplicates from df1_merged\n",
    "df1_merged = df1_merged.dropDuplicates()\n",
    "\n",
    "print(\"Rows after dropping duplicates:\", df1_merged.count())"
   ]
  },
  {
   "cell_type": "markdown",
   "metadata": {},
   "source": [
    "# Pre-processing of **df2**"
   ]
  },
  {
   "cell_type": "code",
   "execution_count": 10,
   "metadata": {},
   "outputs": [
    {
     "name": "stdout",
     "output_type": "stream",
     "text": [
      "+---+----------+-----------+--------+--------------------+-------+--------+-------+----------+-----------------+---------+-----------------+----------------+-------+-----------------+--------+----------------+---------------+------+-----------------+--------+-----------------+----------------+-------+-----------------+--------+----------------+---------------+------+\n",
      "|_c0|State Code|County Code|Site Num|             Address|  State|  County|   City|Date Local|        NO2 Units| NO2 Mean|NO2 1st Max Value|NO2 1st Max Hour|NO2 AQI|         O3 Units| O3 Mean|O3 1st Max Value|O3 1st Max Hour|O3 AQI|        SO2 Units|SO2 Mean|SO2 1st Max Value|SO2 1st Max Hour|SO2 AQI|         CO Units| CO Mean|CO 1st Max Value|CO 1st Max Hour|CO AQI|\n",
      "+---+----------+-----------+--------+--------------------+-------+--------+-------+----------+-----------------+---------+-----------------+----------------+-------+-----------------+--------+----------------+---------------+------+-----------------+--------+-----------------+----------------+-------+-----------------+--------+----------------+---------------+------+\n",
      "|  0|         4|         13|    3002|1645 E ROOSEVELT ...|Arizona|Maricopa|Phoenix|2000-01-01|Parts per billion|19.041667|             49.0|              19|     46|Parts per million|  0.0225|            0.04|             10|    34|Parts per billion|     3.0|              9.0|              21|   13.0|Parts per million|1.145833|             4.2|             21|  NULL|\n",
      "|  1|         4|         13|    3002|1645 E ROOSEVELT ...|Arizona|Maricopa|Phoenix|2000-01-01|Parts per billion|19.041667|             49.0|              19|     46|Parts per million|  0.0225|            0.04|             10|    34|Parts per billion|     3.0|              9.0|              21|   13.0|Parts per million|0.878947|             2.2|             23|  25.0|\n",
      "|  2|         4|         13|    3002|1645 E ROOSEVELT ...|Arizona|Maricopa|Phoenix|2000-01-01|Parts per billion|19.041667|             49.0|              19|     46|Parts per million|  0.0225|            0.04|             10|    34|Parts per billion|   2.975|              6.6|              23|   NULL|Parts per million|1.145833|             4.2|             21|  NULL|\n",
      "|  3|         4|         13|    3002|1645 E ROOSEVELT ...|Arizona|Maricopa|Phoenix|2000-01-01|Parts per billion|19.041667|             49.0|              19|     46|Parts per million|  0.0225|            0.04|             10|    34|Parts per billion|   2.975|              6.6|              23|   NULL|Parts per million|0.878947|             2.2|             23|  25.0|\n",
      "|  4|         4|         13|    3002|1645 E ROOSEVELT ...|Arizona|Maricopa|Phoenix|2000-01-02|Parts per billion|22.958333|             36.0|              19|     34|Parts per million|0.013375|           0.032|             10|    27|Parts per billion|1.958333|              3.0|              22|    4.0|Parts per million|    0.85|             1.6|             23|  NULL|\n",
      "|  5|         4|         13|    3002|1645 E ROOSEVELT ...|Arizona|Maricopa|Phoenix|2000-01-02|Parts per billion|22.958333|             36.0|              19|     34|Parts per million|0.013375|           0.032|             10|    27|Parts per billion|1.958333|              3.0|              22|    4.0|Parts per million|1.066667|             2.3|              0|  26.0|\n",
      "|  6|         4|         13|    3002|1645 E ROOSEVELT ...|Arizona|Maricopa|Phoenix|2000-01-02|Parts per billion|22.958333|             36.0|              19|     34|Parts per million|0.013375|           0.032|             10|    27|Parts per billion|  1.9375|              2.6|              23|   NULL|Parts per million|    0.85|             1.6|             23|  NULL|\n",
      "|  7|         4|         13|    3002|1645 E ROOSEVELT ...|Arizona|Maricopa|Phoenix|2000-01-02|Parts per billion|22.958333|             36.0|              19|     34|Parts per million|0.013375|           0.032|             10|    27|Parts per billion|  1.9375|              2.6|              23|   NULL|Parts per million|1.066667|             2.3|              0|  26.0|\n",
      "|  8|         4|         13|    3002|1645 E ROOSEVELT ...|Arizona|Maricopa|Phoenix|2000-01-03|Parts per billion|   38.125|             51.0|               8|     48|Parts per million|0.007958|           0.016|              9|    14|Parts per billion|    5.25|             11.0|              19|   16.0|Parts per million|1.929167|             4.4|              8|  NULL|\n",
      "|  9|         4|         13|    3002|1645 E ROOSEVELT ...|Arizona|Maricopa|Phoenix|2000-01-03|Parts per billion|   38.125|             51.0|               8|     48|Parts per million|0.007958|           0.016|              9|    14|Parts per billion|    5.25|             11.0|              19|   16.0|Parts per million|  1.7625|             2.5|              8|  28.0|\n",
      "| 10|         4|         13|    3002|1645 E ROOSEVELT ...|Arizona|Maricopa|Phoenix|2000-01-03|Parts per billion|   38.125|             51.0|               8|     48|Parts per million|0.007958|           0.016|              9|    14|Parts per billion|     5.2|              8.3|              20|   NULL|Parts per million|1.929167|             4.4|              8|  NULL|\n",
      "| 11|         4|         13|    3002|1645 E ROOSEVELT ...|Arizona|Maricopa|Phoenix|2000-01-03|Parts per billion|   38.125|             51.0|               8|     48|Parts per million|0.007958|           0.016|              9|    14|Parts per billion|     5.2|              8.3|              20|   NULL|Parts per million|  1.7625|             2.5|              8|  28.0|\n",
      "| 12|         4|         13|    3002|1645 E ROOSEVELT ...|Arizona|Maricopa|Phoenix|2000-01-04|Parts per billion| 40.26087|             74.0|               8|     72|Parts per million|0.014167|           0.033|              9|    28|Parts per billion|7.083333|             16.0|               8|   23.0|Parts per million|1.991667|             5.1|             21|  NULL|\n",
      "| 13|         4|         13|    3002|1645 E ROOSEVELT ...|Arizona|Maricopa|Phoenix|2000-01-04|Parts per billion| 40.26087|             74.0|               8|     72|Parts per million|0.014167|           0.033|              9|    28|Parts per billion|7.083333|             16.0|               8|   23.0|Parts per million|1.829167|             3.0|             23|  34.0|\n",
      "| 14|         4|         13|    3002|1645 E ROOSEVELT ...|Arizona|Maricopa|Phoenix|2000-01-04|Parts per billion| 40.26087|             74.0|               8|     72|Parts per million|0.014167|           0.033|              9|    28|Parts per billion|    7.05|             12.6|               8|   NULL|Parts per million|1.991667|             5.1|             21|  NULL|\n",
      "| 15|         4|         13|    3002|1645 E ROOSEVELT ...|Arizona|Maricopa|Phoenix|2000-01-04|Parts per billion| 40.26087|             74.0|               8|     72|Parts per million|0.014167|           0.033|              9|    28|Parts per billion|    7.05|             12.6|               8|   NULL|Parts per million|1.829167|             3.0|             23|  34.0|\n",
      "| 16|         4|         13|    3002|1645 E ROOSEVELT ...|Arizona|Maricopa|Phoenix|2000-01-05|Parts per billion|    48.45|             61.0|              22|     58|Parts per million|0.006667|           0.012|              9|    10|Parts per billion|8.708333|             15.0|               7|   21.0|Parts per million|2.620833|             5.6|              7|  NULL|\n",
      "| 17|         4|         13|    3002|1645 E ROOSEVELT ...|Arizona|Maricopa|Phoenix|2000-01-05|Parts per billion|    48.45|             61.0|              22|     58|Parts per million|0.006667|           0.012|              9|    10|Parts per billion|8.708333|             15.0|               7|   21.0|Parts per million|     2.7|             3.7|              2|  42.0|\n",
      "| 18|         4|         13|    3002|1645 E ROOSEVELT ...|Arizona|Maricopa|Phoenix|2000-01-05|Parts per billion|    48.45|             61.0|              22|     58|Parts per million|0.006667|           0.012|              9|    10|Parts per billion|     8.7|             14.0|               8|   NULL|Parts per million|2.620833|             5.6|              7|  NULL|\n",
      "| 19|         4|         13|    3002|1645 E ROOSEVELT ...|Arizona|Maricopa|Phoenix|2000-01-05|Parts per billion|    48.45|             61.0|              22|     58|Parts per million|0.006667|           0.012|              9|    10|Parts per billion|     8.7|             14.0|               8|   NULL|Parts per million|     2.7|             3.7|              2|  42.0|\n",
      "+---+----------+-----------+--------+--------------------+-------+--------+-------+----------+-----------------+---------+-----------------+----------------+-------+-----------------+--------+----------------+---------------+------+-----------------+--------+-----------------+----------------+-------+-----------------+--------+----------------+---------------+------+\n",
      "only showing top 20 rows\n",
      "\n"
     ]
    }
   ],
   "source": [
    "# Reading the .csv file of our second dataset (df2)\n",
    "df2 = spark.read.csv(\"data2_US_Pollution_Data/data2/pollution_us_2000_2016.csv\", header = True, inferSchema = True)\n",
    "df2.show()"
   ]
  },
  {
   "cell_type": "code",
   "execution_count": 11,
   "metadata": {},
   "outputs": [
    {
     "name": "stdout",
     "output_type": "stream",
     "text": [
      "+---+----------+-----------+--------+--------------------+-------+--------+-------+----------+-----------------+---------+-----------------+----------------+-------+-----------------+--------+----------------+---------------+------+-----------------+--------+-----------------+----------------+-------+-----------------+--------+----------------+---------------+------+\n",
      "|_c0|State Code|County Code|Site Num|             Address|  State|  County|   City|Date Local|        NO2 Units| NO2 Mean|NO2 1st Max Value|NO2 1st Max Hour|NO2 AQI|         O3 Units| O3 Mean|O3 1st Max Value|O3 1st Max Hour|O3 AQI|        SO2 Units|SO2 Mean|SO2 1st Max Value|SO2 1st Max Hour|SO2 AQI|         CO Units| CO Mean|CO 1st Max Value|CO 1st Max Hour|CO AQI|\n",
      "+---+----------+-----------+--------+--------------------+-------+--------+-------+----------+-----------------+---------+-----------------+----------------+-------+-----------------+--------+----------------+---------------+------+-----------------+--------+-----------------+----------------+-------+-----------------+--------+----------------+---------------+------+\n",
      "|  0|         4|         13|    3002|1645 E ROOSEVELT ...|Arizona|Maricopa|Phoenix|2000-01-01|Parts per billion|19.041668|             49.0|              19|     46|Parts per million|  0.0225|            0.04|             10|    34|Parts per billion|     3.0|              9.0|              21|   13.0|Parts per million|1.145833|             4.2|             21|  NULL|\n",
      "|  1|         4|         13|    3002|1645 E ROOSEVELT ...|Arizona|Maricopa|Phoenix|2000-01-01|Parts per billion|19.041668|             49.0|              19|     46|Parts per million|  0.0225|            0.04|             10|    34|Parts per billion|     3.0|              9.0|              21|   13.0|Parts per million|0.878947|             2.2|             23|  25.0|\n",
      "|  2|         4|         13|    3002|1645 E ROOSEVELT ...|Arizona|Maricopa|Phoenix|2000-01-01|Parts per billion|19.041668|             49.0|              19|     46|Parts per million|  0.0225|            0.04|             10|    34|Parts per billion|   2.975|              6.6|              23|   NULL|Parts per million|1.145833|             4.2|             21|  NULL|\n",
      "|  3|         4|         13|    3002|1645 E ROOSEVELT ...|Arizona|Maricopa|Phoenix|2000-01-01|Parts per billion|19.041668|             49.0|              19|     46|Parts per million|  0.0225|            0.04|             10|    34|Parts per billion|   2.975|              6.6|              23|   NULL|Parts per million|0.878947|             2.2|             23|  25.0|\n",
      "|  4|         4|         13|    3002|1645 E ROOSEVELT ...|Arizona|Maricopa|Phoenix|2000-01-02|Parts per billion|22.958332|             36.0|              19|     34|Parts per million|0.013375|           0.032|             10|    27|Parts per billion|1.958333|              3.0|              22|    4.0|Parts per million|    0.85|             1.6|             23|  NULL|\n",
      "|  5|         4|         13|    3002|1645 E ROOSEVELT ...|Arizona|Maricopa|Phoenix|2000-01-02|Parts per billion|22.958332|             36.0|              19|     34|Parts per million|0.013375|           0.032|             10|    27|Parts per billion|1.958333|              3.0|              22|    4.0|Parts per million|1.066667|             2.3|              0|  26.0|\n",
      "|  6|         4|         13|    3002|1645 E ROOSEVELT ...|Arizona|Maricopa|Phoenix|2000-01-02|Parts per billion|22.958332|             36.0|              19|     34|Parts per million|0.013375|           0.032|             10|    27|Parts per billion|  1.9375|              2.6|              23|   NULL|Parts per million|    0.85|             1.6|             23|  NULL|\n",
      "|  7|         4|         13|    3002|1645 E ROOSEVELT ...|Arizona|Maricopa|Phoenix|2000-01-02|Parts per billion|22.958332|             36.0|              19|     34|Parts per million|0.013375|           0.032|             10|    27|Parts per billion|  1.9375|              2.6|              23|   NULL|Parts per million|1.066667|             2.3|              0|  26.0|\n",
      "|  8|         4|         13|    3002|1645 E ROOSEVELT ...|Arizona|Maricopa|Phoenix|2000-01-03|Parts per billion|   38.125|             51.0|               8|     48|Parts per million|0.007958|           0.016|              9|    14|Parts per billion|    5.25|             11.0|              19|   16.0|Parts per million|1.929167|             4.4|              8|  NULL|\n",
      "|  9|         4|         13|    3002|1645 E ROOSEVELT ...|Arizona|Maricopa|Phoenix|2000-01-03|Parts per billion|   38.125|             51.0|               8|     48|Parts per million|0.007958|           0.016|              9|    14|Parts per billion|    5.25|             11.0|              19|   16.0|Parts per million|  1.7625|             2.5|              8|  28.0|\n",
      "| 10|         4|         13|    3002|1645 E ROOSEVELT ...|Arizona|Maricopa|Phoenix|2000-01-03|Parts per billion|   38.125|             51.0|               8|     48|Parts per million|0.007958|           0.016|              9|    14|Parts per billion|     5.2|              8.3|              20|   NULL|Parts per million|1.929167|             4.4|              8|  NULL|\n",
      "| 11|         4|         13|    3002|1645 E ROOSEVELT ...|Arizona|Maricopa|Phoenix|2000-01-03|Parts per billion|   38.125|             51.0|               8|     48|Parts per million|0.007958|           0.016|              9|    14|Parts per billion|     5.2|              8.3|              20|   NULL|Parts per million|  1.7625|             2.5|              8|  28.0|\n",
      "| 12|         4|         13|    3002|1645 E ROOSEVELT ...|Arizona|Maricopa|Phoenix|2000-01-04|Parts per billion| 40.26087|             74.0|               8|     72|Parts per million|0.014167|           0.033|              9|    28|Parts per billion|7.083333|             16.0|               8|   23.0|Parts per million|1.991667|             5.1|             21|  NULL|\n",
      "| 13|         4|         13|    3002|1645 E ROOSEVELT ...|Arizona|Maricopa|Phoenix|2000-01-04|Parts per billion| 40.26087|             74.0|               8|     72|Parts per million|0.014167|           0.033|              9|    28|Parts per billion|7.083333|             16.0|               8|   23.0|Parts per million|1.829167|             3.0|             23|  34.0|\n",
      "| 14|         4|         13|    3002|1645 E ROOSEVELT ...|Arizona|Maricopa|Phoenix|2000-01-04|Parts per billion| 40.26087|             74.0|               8|     72|Parts per million|0.014167|           0.033|              9|    28|Parts per billion|    7.05|             12.6|               8|   NULL|Parts per million|1.991667|             5.1|             21|  NULL|\n",
      "| 15|         4|         13|    3002|1645 E ROOSEVELT ...|Arizona|Maricopa|Phoenix|2000-01-04|Parts per billion| 40.26087|             74.0|               8|     72|Parts per million|0.014167|           0.033|              9|    28|Parts per billion|    7.05|             12.6|               8|   NULL|Parts per million|1.829167|             3.0|             23|  34.0|\n",
      "| 16|         4|         13|    3002|1645 E ROOSEVELT ...|Arizona|Maricopa|Phoenix|2000-01-05|Parts per billion|    48.45|             61.0|              22|     58|Parts per million|0.006667|           0.012|              9|    10|Parts per billion|8.708333|             15.0|               7|   21.0|Parts per million|2.620833|             5.6|              7|  NULL|\n",
      "| 17|         4|         13|    3002|1645 E ROOSEVELT ...|Arizona|Maricopa|Phoenix|2000-01-05|Parts per billion|    48.45|             61.0|              22|     58|Parts per million|0.006667|           0.012|              9|    10|Parts per billion|8.708333|             15.0|               7|   21.0|Parts per million|     2.7|             3.7|              2|  42.0|\n",
      "| 18|         4|         13|    3002|1645 E ROOSEVELT ...|Arizona|Maricopa|Phoenix|2000-01-05|Parts per billion|    48.45|             61.0|              22|     58|Parts per million|0.006667|           0.012|              9|    10|Parts per billion|     8.7|             14.0|               8|   NULL|Parts per million|2.620833|             5.6|              7|  NULL|\n",
      "| 19|         4|         13|    3002|1645 E ROOSEVELT ...|Arizona|Maricopa|Phoenix|2000-01-05|Parts per billion|    48.45|             61.0|              22|     58|Parts per million|0.006667|           0.012|              9|    10|Parts per billion|     8.7|             14.0|               8|   NULL|Parts per million|     2.7|             3.7|              2|  42.0|\n",
      "+---+----------+-----------+--------+--------------------+-------+--------+-------+----------+-----------------+---------+-----------------+----------------+-------+-----------------+--------+----------------+---------------+------+-----------------+--------+-----------------+----------------+-------+-----------------+--------+----------------+---------------+------+\n",
      "only showing top 20 rows\n",
      "\n"
     ]
    }
   ],
   "source": [
    "from pyspark.sql.types import DoubleType\n",
    "\n",
    "# We have double type columns here in df2 again, lets convert them to float too\n",
    "# Identify double type columns and cast them to float\n",
    "double_columns = [field.name for field in df2.schema.fields if isinstance(field.dataType, DoubleType)]\n",
    "\n",
    "for col_name in double_columns:\n",
    "    df2 = df2.withColumn(col_name, col(col_name).cast(\"float\"))\n",
    "\n",
    "df2.show()"
   ]
  },
  {
   "cell_type": "code",
   "execution_count": 12,
   "metadata": {},
   "outputs": [
    {
     "name": "stdout",
     "output_type": "stream",
     "text": [
      "Rows before preprocessing: 1746661\n",
      "+---+----------+-----------+--------+--------------------+-------+--------+-------+----------+-----------------+---------+-----------------+----------------+-------+-----------------+--------+----------------+---------------+------+-----------------+--------+-----------------+----------------+-------+-----------------+--------+----------------+---------------+------+-----+\n",
      "|_c0|State Code|County Code|Site Num|             Address|  State|  County|   City|Date Local|        NO2 Units| NO2 Mean|NO2 1st Max Value|NO2 1st Max Hour|NO2 AQI|         O3 Units| O3 Mean|O3 1st Max Value|O3 1st Max Hour|O3 AQI|        SO2 Units|SO2 Mean|SO2 1st Max Value|SO2 1st Max Hour|SO2 AQI|         CO Units| CO Mean|CO 1st Max Value|CO 1st Max Hour|CO AQI| fips|\n",
      "+---+----------+-----------+--------+--------------------+-------+--------+-------+----------+-----------------+---------+-----------------+----------------+-------+-----------------+--------+----------------+---------------+------+-----------------+--------+-----------------+----------------+-------+-----------------+--------+----------------+---------------+------+-----+\n",
      "|  0|        04|        013|    3002|1645 E ROOSEVELT ...|Arizona|Maricopa|Phoenix|2000-01-01|Parts per billion|19.041668|             49.0|              19|     46|Parts per million|  0.0225|            0.04|             10|    34|Parts per billion|     3.0|              9.0|              21|   13.0|Parts per million|1.145833|             4.2|             21|  NULL|04013|\n",
      "|  1|        04|        013|    3002|1645 E ROOSEVELT ...|Arizona|Maricopa|Phoenix|2000-01-01|Parts per billion|19.041668|             49.0|              19|     46|Parts per million|  0.0225|            0.04|             10|    34|Parts per billion|     3.0|              9.0|              21|   13.0|Parts per million|0.878947|             2.2|             23|  25.0|04013|\n",
      "|  2|        04|        013|    3002|1645 E ROOSEVELT ...|Arizona|Maricopa|Phoenix|2000-01-01|Parts per billion|19.041668|             49.0|              19|     46|Parts per million|  0.0225|            0.04|             10|    34|Parts per billion|   2.975|              6.6|              23|   NULL|Parts per million|1.145833|             4.2|             21|  NULL|04013|\n",
      "|  3|        04|        013|    3002|1645 E ROOSEVELT ...|Arizona|Maricopa|Phoenix|2000-01-01|Parts per billion|19.041668|             49.0|              19|     46|Parts per million|  0.0225|            0.04|             10|    34|Parts per billion|   2.975|              6.6|              23|   NULL|Parts per million|0.878947|             2.2|             23|  25.0|04013|\n",
      "|  4|        04|        013|    3002|1645 E ROOSEVELT ...|Arizona|Maricopa|Phoenix|2000-01-02|Parts per billion|22.958332|             36.0|              19|     34|Parts per million|0.013375|           0.032|             10|    27|Parts per billion|1.958333|              3.0|              22|    4.0|Parts per million|    0.85|             1.6|             23|  NULL|04013|\n",
      "|  5|        04|        013|    3002|1645 E ROOSEVELT ...|Arizona|Maricopa|Phoenix|2000-01-02|Parts per billion|22.958332|             36.0|              19|     34|Parts per million|0.013375|           0.032|             10|    27|Parts per billion|1.958333|              3.0|              22|    4.0|Parts per million|1.066667|             2.3|              0|  26.0|04013|\n",
      "|  6|        04|        013|    3002|1645 E ROOSEVELT ...|Arizona|Maricopa|Phoenix|2000-01-02|Parts per billion|22.958332|             36.0|              19|     34|Parts per million|0.013375|           0.032|             10|    27|Parts per billion|  1.9375|              2.6|              23|   NULL|Parts per million|    0.85|             1.6|             23|  NULL|04013|\n",
      "|  7|        04|        013|    3002|1645 E ROOSEVELT ...|Arizona|Maricopa|Phoenix|2000-01-02|Parts per billion|22.958332|             36.0|              19|     34|Parts per million|0.013375|           0.032|             10|    27|Parts per billion|  1.9375|              2.6|              23|   NULL|Parts per million|1.066667|             2.3|              0|  26.0|04013|\n",
      "|  8|        04|        013|    3002|1645 E ROOSEVELT ...|Arizona|Maricopa|Phoenix|2000-01-03|Parts per billion|   38.125|             51.0|               8|     48|Parts per million|0.007958|           0.016|              9|    14|Parts per billion|    5.25|             11.0|              19|   16.0|Parts per million|1.929167|             4.4|              8|  NULL|04013|\n",
      "|  9|        04|        013|    3002|1645 E ROOSEVELT ...|Arizona|Maricopa|Phoenix|2000-01-03|Parts per billion|   38.125|             51.0|               8|     48|Parts per million|0.007958|           0.016|              9|    14|Parts per billion|    5.25|             11.0|              19|   16.0|Parts per million|  1.7625|             2.5|              8|  28.0|04013|\n",
      "| 10|        04|        013|    3002|1645 E ROOSEVELT ...|Arizona|Maricopa|Phoenix|2000-01-03|Parts per billion|   38.125|             51.0|               8|     48|Parts per million|0.007958|           0.016|              9|    14|Parts per billion|     5.2|              8.3|              20|   NULL|Parts per million|1.929167|             4.4|              8|  NULL|04013|\n",
      "| 11|        04|        013|    3002|1645 E ROOSEVELT ...|Arizona|Maricopa|Phoenix|2000-01-03|Parts per billion|   38.125|             51.0|               8|     48|Parts per million|0.007958|           0.016|              9|    14|Parts per billion|     5.2|              8.3|              20|   NULL|Parts per million|  1.7625|             2.5|              8|  28.0|04013|\n",
      "| 12|        04|        013|    3002|1645 E ROOSEVELT ...|Arizona|Maricopa|Phoenix|2000-01-04|Parts per billion| 40.26087|             74.0|               8|     72|Parts per million|0.014167|           0.033|              9|    28|Parts per billion|7.083333|             16.0|               8|   23.0|Parts per million|1.991667|             5.1|             21|  NULL|04013|\n",
      "| 13|        04|        013|    3002|1645 E ROOSEVELT ...|Arizona|Maricopa|Phoenix|2000-01-04|Parts per billion| 40.26087|             74.0|               8|     72|Parts per million|0.014167|           0.033|              9|    28|Parts per billion|7.083333|             16.0|               8|   23.0|Parts per million|1.829167|             3.0|             23|  34.0|04013|\n",
      "| 14|        04|        013|    3002|1645 E ROOSEVELT ...|Arizona|Maricopa|Phoenix|2000-01-04|Parts per billion| 40.26087|             74.0|               8|     72|Parts per million|0.014167|           0.033|              9|    28|Parts per billion|    7.05|             12.6|               8|   NULL|Parts per million|1.991667|             5.1|             21|  NULL|04013|\n",
      "| 15|        04|        013|    3002|1645 E ROOSEVELT ...|Arizona|Maricopa|Phoenix|2000-01-04|Parts per billion| 40.26087|             74.0|               8|     72|Parts per million|0.014167|           0.033|              9|    28|Parts per billion|    7.05|             12.6|               8|   NULL|Parts per million|1.829167|             3.0|             23|  34.0|04013|\n",
      "| 16|        04|        013|    3002|1645 E ROOSEVELT ...|Arizona|Maricopa|Phoenix|2000-01-05|Parts per billion|    48.45|             61.0|              22|     58|Parts per million|0.006667|           0.012|              9|    10|Parts per billion|8.708333|             15.0|               7|   21.0|Parts per million|2.620833|             5.6|              7|  NULL|04013|\n",
      "| 17|        04|        013|    3002|1645 E ROOSEVELT ...|Arizona|Maricopa|Phoenix|2000-01-05|Parts per billion|    48.45|             61.0|              22|     58|Parts per million|0.006667|           0.012|              9|    10|Parts per billion|8.708333|             15.0|               7|   21.0|Parts per million|     2.7|             3.7|              2|  42.0|04013|\n",
      "| 18|        04|        013|    3002|1645 E ROOSEVELT ...|Arizona|Maricopa|Phoenix|2000-01-05|Parts per billion|    48.45|             61.0|              22|     58|Parts per million|0.006667|           0.012|              9|    10|Parts per billion|     8.7|             14.0|               8|   NULL|Parts per million|2.620833|             5.6|              7|  NULL|04013|\n",
      "| 19|        04|        013|    3002|1645 E ROOSEVELT ...|Arizona|Maricopa|Phoenix|2000-01-05|Parts per billion|    48.45|             61.0|              22|     58|Parts per million|0.006667|           0.012|              9|    10|Parts per billion|     8.7|             14.0|               8|   NULL|Parts per million|     2.7|             3.7|              2|  42.0|04013|\n",
      "+---+----------+-----------+--------+--------------------+-------+--------+-------+----------+-----------------+---------+-----------------+----------------+-------+-----------------+--------+----------------+---------------+------+-----------------+--------+-----------------+----------------+-------+-----------------+--------+----------------+---------------+------+-----+\n",
      "only showing top 20 rows\n",
      "\n",
      "Rows after filtering out any existing (if any) fips values not equal to 5: 1746661\n"
     ]
    }
   ],
   "source": [
    "# Check the number of rows before preprocessing\n",
    "print(\"Rows before preprocessing:\", df2.count())\n",
    "\n",
    "# Modifying \"State Code\" and \"County Code\" values so they more closely match the US FIPS codes standard\n",
    "from pyspark.sql.functions import expr, concat_ws\n",
    "\n",
    "# Add leading zeros to \"State Code\" if it's a single digit\n",
    "df2 = df2.withColumn(\"State Code\", expr(\"LPAD(`State Code`, 2, '0')\"))\n",
    "\n",
    "# Add leading zeros to \"County Code\" based on the number of digits\n",
    "df2 = df2.withColumn(\"County Code\", \n",
    "                     expr(\"CASE WHEN length(`County Code`) = 1 THEN concat('00', `County Code`) \" + \n",
    "                          \"WHEN length(`County Code`) = 2 THEN concat('0', `County Code`) \" + \n",
    "                          \"ELSE `County Code` END\"))\n",
    "\n",
    "# Create a new column \"fips\" by concatenating \"State Code\" and \"County Code\"\n",
    "df2 = df2.withColumn(\"fips\", concat_ws(\"\", df2[\"State Code\"], df2[\"County Code\"]))\n",
    "\n",
    "# Preserve only the rows with 'fips' length == 5\n",
    "df2 = df2.filter(length(col(\"fips\")) == 5)\n",
    "\n",
    "# Show the DataFrame after preprocessing\n",
    "df2.show()\n",
    "\n",
    "# If you want to check the number of rows after preprocessing\n",
    "print(\"Rows after filtering out any existing (if any) fips values not equal to 5:\", df2.count())"
   ]
  },
  {
   "cell_type": "code",
   "execution_count": 13,
   "metadata": {},
   "outputs": [],
   "source": [
    "from pyspark.sql.functions import year\n",
    "\n",
    "df2 = df2.withColumn(\"Year\", year(\"Date Local\")).drop(\"Date Local\")    # Converts YYYY-MM-DD date format in the column \"Date Local\" into just \"YYYY\" (year only)"
   ]
  },
  {
   "cell_type": "code",
   "execution_count": 14,
   "metadata": {},
   "outputs": [
    {
     "name": "stdout",
     "output_type": "stream",
     "text": [
      "+----------+-----------+-------+--------+---------+---------+-----------------+----------------+-------+--------+--------+----------------+---------------+------+---------+--------+-----------------+----------------+-------+--------+--------+----------------+---------------+------+-----+----+\n",
      "|State Code|County Code|  State|  County|NO2 Units| NO2 Mean|NO2 1st Max Value|NO2 1st Max Hour|NO2 AQI|O3 Units| O3 Mean|O3 1st Max Value|O3 1st Max Hour|O3 AQI|SO2 Units|SO2 Mean|SO2 1st Max Value|SO2 1st Max Hour|SO2 AQI|CO Units| CO Mean|CO 1st Max Value|CO 1st Max Hour|CO AQI| fips|Year|\n",
      "+----------+-----------+-------+--------+---------+---------+-----------------+----------------+-------+--------+--------+----------------+---------------+------+---------+--------+-----------------+----------------+-------+--------+--------+----------------+---------------+------+-----+----+\n",
      "|        04|        013|Arizona|Maricopa|      ppb|32.208332|             48.0|              18|     45|     ppm|0.013208|           0.034|             10|    29|      ppb|3.333333|              6.0|              23|    9.0|     ppm|  1.0375|             2.0|              4|  NULL|04013|2010|\n",
      "|        04|        013|Arizona|Maricopa|      ppb|32.208332|             48.0|              18|     45|     ppm|0.013208|           0.034|             10|    29|      ppb|3.333333|              6.0|              23|    9.0|     ppm|0.973684|             1.6|              5|  18.0|04013|2010|\n",
      "|        04|        013|Arizona|Maricopa|      ppb|32.208332|             48.0|              18|     45|     ppm|0.013208|           0.034|             10|    29|      ppb|  3.2875|              4.6|               2|   NULL|     ppm|  1.0375|             2.0|              4|  NULL|04013|2010|\n",
      "|        04|        013|Arizona|Maricopa|      ppb|32.208332|             48.0|              18|     45|     ppm|0.013208|           0.034|             10|    29|      ppb|  3.2875|              4.6|               2|   NULL|     ppm|0.973684|             1.6|              5|  18.0|04013|2010|\n",
      "|        04|        013|Arizona|Maricopa|      ppb|     35.5|             51.0|               9|     48|     ppm|    0.01|           0.025|             10|    21|      ppb|4.083333|              7.0|              22|   10.0|     ppm|  0.9875|             2.1|             22|  NULL|04013|2010|\n",
      "|        04|        013|Arizona|Maricopa|      ppb|     35.5|             51.0|               9|     48|     ppm|    0.01|           0.025|             10|    21|      ppb|4.083333|              7.0|              22|   10.0|     ppm|0.945833|             1.3|              3|  15.0|04013|2010|\n",
      "|        04|        013|Arizona|Maricopa|      ppb|     35.5|             51.0|               9|     48|     ppm|    0.01|           0.025|             10|    21|      ppb|    4.05|              6.3|              23|   NULL|     ppm|  0.9875|             2.1|             22|  NULL|04013|2010|\n",
      "|        04|        013|Arizona|Maricopa|      ppb|     35.5|             51.0|               9|     48|     ppm|    0.01|           0.025|             10|    21|      ppb|    4.05|              6.3|              23|   NULL|     ppm|0.945833|             1.3|              3|  15.0|04013|2010|\n",
      "|        04|        013|Arizona|Maricopa|      ppb|33.166668|             55.0|              19|     52|     ppm|0.011042|           0.028|             10|    24|      ppb|3.208333|              6.0|              20|    9.0|     ppm|    0.85|             1.9|             20|  NULL|04013|2010|\n",
      "|        04|        013|Arizona|Maricopa|      ppb|33.166668|             55.0|              19|     52|     ppm|0.011042|           0.028|             10|    24|      ppb|3.208333|              6.0|              20|    9.0|     ppm|0.895833|             1.4|              2|  16.0|04013|2010|\n",
      "|        04|        013|Arizona|Maricopa|      ppb|33.166668|             55.0|              19|     52|     ppm|0.011042|           0.028|             10|    24|      ppb|   3.175|              4.0|               8|   NULL|     ppm|    0.85|             1.9|             20|  NULL|04013|2010|\n",
      "|        04|        013|Arizona|Maricopa|      ppb|33.166668|             55.0|              19|     52|     ppm|0.011042|           0.028|             10|    24|      ppb|   3.175|              4.0|               8|   NULL|     ppm|0.895833|             1.4|              2|  16.0|04013|2010|\n",
      "|        04|        013|Arizona|Maricopa|      ppb|   35.625|             55.0|               7|     52|     ppm|0.013875|           0.036|              9|    31|      ppb|3.791667|              9.0|               7|   13.0|     ppm|0.841667|             2.2|              7|  NULL|04013|2010|\n",
      "|        04|        013|Arizona|Maricopa|      ppb|   35.625|             55.0|               7|     52|     ppm|0.013875|           0.036|              9|    31|      ppb|3.791667|              9.0|               7|   13.0|     ppm|0.879167|             1.3|              8|  15.0|04013|2010|\n",
      "|        04|        013|Arizona|Maricopa|      ppb|   35.625|             55.0|               7|     52|     ppm|0.013875|           0.036|              9|    31|      ppb|  3.7625|              7.3|               8|   NULL|     ppm|0.841667|             2.2|              7|  NULL|04013|2010|\n",
      "|        04|        013|Arizona|Maricopa|      ppb|   35.625|             55.0|               7|     52|     ppm|0.013875|           0.036|              9|    31|      ppb|  3.7625|              7.3|               8|   NULL|     ppm|0.879167|             1.3|              8|  15.0|04013|2010|\n",
      "|        04|        013|Arizona|Maricopa|      ppb|42.708332|             60.0|               9|     57|     ppm|0.011292|            0.03|             10|    25|      ppb|5.041667|              9.0|               7|   13.0|     ppm|1.008333|             2.1|             20|  NULL|04013|2010|\n",
      "|        04|        013|Arizona|Maricopa|      ppb|42.708332|             60.0|               9|     57|     ppm|0.011292|            0.03|             10|    25|      ppb|5.041667|              9.0|               7|   13.0|     ppm|   0.925|             1.3|             23|  15.0|04013|2010|\n",
      "|        04|        013|Arizona|Maricopa|      ppb|42.708332|             60.0|               9|     57|     ppm|0.011292|            0.03|             10|    25|      ppb|   5.025|              8.3|               8|   NULL|     ppm|1.008333|             2.1|             20|  NULL|04013|2010|\n",
      "|        04|        013|Arizona|Maricopa|      ppb|42.708332|             60.0|               9|     57|     ppm|0.011292|            0.03|             10|    25|      ppb|   5.025|              8.3|               8|   NULL|     ppm|   0.925|             1.3|             23|  15.0|04013|2010|\n",
      "+----------+-----------+-------+--------+---------+---------+-----------------+----------------+-------+--------+--------+----------------+---------------+------+---------+--------+-----------------+----------------+-------+--------+--------+----------------+---------------+------+-----+----+\n",
      "only showing top 20 rows\n",
      "\n"
     ]
    }
   ],
   "source": [
    "df2 = df2.filter((df2[\"Year\"] <= 2014) & (df2['Year'] >= 2010))        # Removes rows where 'Year' is greater than 2014 and less than 2010 (Keeps rows in Year interval [2010; 2014])\n",
    "df2 = df2.drop(\"_c0\", \"Site Num\", \"Address\", \"City\")                   # Drop the columns that are no longer necessary for df2\n",
    "\n",
    "# Replace \"Parts per billion\" with \"ppb\" in columns \"NO2 Units\", \"SO2 Units\"; Replace \"Parts per million\" with \"ppm\" in columns \"O2 Units\", \"CO Units\"\n",
    "colvalues_replace = {\n",
    "    \"NO2 Units\": \"ppb\",\n",
    "    \"SO2 Units\": \"ppb\",\n",
    "    \"O3 Units\": \"ppm\",\n",
    "    \"CO Units\": \"ppm\"\n",
    "}\n",
    "for col_name, replacement_value in colvalues_replace.items():\n",
    "    df2 = df2.withColumn(col_name, when(df2[col_name] == \"Parts per billion\", \"ppb\").otherwise(replacement_value))\n",
    "\n",
    "df2.show()"
   ]
  },
  {
   "cell_type": "code",
   "execution_count": 15,
   "metadata": {},
   "outputs": [
    {
     "name": "stdout",
     "output_type": "stream",
     "text": [
      "Rows before dropping duplicates: 627594\n",
      "+----------+-----------+----------+------------+---------+---------+-----------------+----------------+-------+--------+--------+----------------+---------------+------+---------+--------+-----------------+----------------+-------+--------+--------+----------------+---------------+------+-----+----+\n",
      "|State Code|County Code|     State|      County|NO2 Units| NO2 Mean|NO2 1st Max Value|NO2 1st Max Hour|NO2 AQI|O3 Units| O3 Mean|O3 1st Max Value|O3 1st Max Hour|O3 AQI|SO2 Units|SO2 Mean|SO2 1st Max Value|SO2 1st Max Hour|SO2 AQI|CO Units| CO Mean|CO 1st Max Value|CO 1st Max Hour|CO AQI| fips|Year|\n",
      "+----------+-----------+----------+------------+---------+---------+-----------------+----------------+-------+--------+--------+----------------+---------------+------+---------+--------+-----------------+----------------+-------+--------+--------+----------------+---------------+------+-----+----+\n",
      "|        04|        013|   Arizona|    Maricopa|      ppb|10.333333|             24.0|               7|     23|     ppm|0.027208|           0.038|             11|    32|      ppb|1.083333|              2.0|               7|    3.0|     ppm|0.316667|             0.4|             14|   5.0|04013|2010|\n",
      "|        04|        013|   Arizona|    Maricopa|      ppb|    25.25|             47.0|              19|     44|     ppm|  0.0175|           0.047|             10|    40|      ppb|1.541667|              2.0|               0|    3.0|     ppm|0.695833|             1.0|              1|  11.0|04013|2010|\n",
      "|        04|        019|   Arizona|        Pima|      ppb|14.958333|             44.0|              21|     42|     ppm|0.032208|           0.052|             10|    44|      ppb|0.083333|              2.0|              10|    3.0|     ppm|  0.2625|             0.4|             22|   5.0|04019|2010|\n",
      "|        04|        019|   Arizona|        Pima|      ppb|     11.0|             29.0|               6|     27|     ppm|0.043833|            0.06|              9|    51|      ppb|1.083333|              3.0|              12|    4.0|     ppm|   0.275|             0.3|              1|   3.0|04019|2010|\n",
      "|        04|        019|   Arizona|        Pima|      ppb|     12.0|             22.0|               6|     21|     ppm|0.029708|           0.039|              9|    33|      ppb|  0.2375|              0.9|              23|    0.0|     ppm|  0.1875|             0.3|              0|   3.0|04019|2010|\n",
      "|        05|        119|  Arkansas|     Pulaski|      ppb|    8.625|             29.0|              14|     27|     ppm|0.031708|           0.038|             11|    32|      ppb|2.166667|              3.0|               8|    4.0|     ppm|     0.5|             0.5|              0|   6.0|05119|2010|\n",
      "|        05|        119|  Arkansas|     Pulaski|      ppb| 6.041667|             16.0|               6|     15|     ppm|0.031375|           0.037|             10|    31|      ppb|     1.5|              2.0|               0|    3.0|     ppm|0.395833|             0.4|              0|   5.0|05119|2010|\n",
      "|        05|        119|  Arkansas|     Pulaski|      ppb|   11.375|             30.0|              22|     28|     ppm|0.026583|           0.051|              9|    43|      ppb|0.716667|              1.6|               7|    1.0|     ppm|0.533333|             0.7|              3|   8.0|05119|2010|\n",
      "|        05|        119|  Arkansas|     Pulaski|      ppb| 6.083333|             10.0|               3|      9|     ppm|0.037917|           0.058|              9|    49|      ppb|0.816667|              1.6|               8|    1.0|     ppm|     0.4|             0.4|              0|   5.0|05119|2010|\n",
      "|        05|        119|  Arkansas|     Pulaski|      ppb|      4.5|             12.0|              23|     11|     ppm|0.034208|           0.045|             13|    38|      ppb|1.166667|              2.0|               0|    3.0|     ppm|0.270833|             0.3|              0|   3.0|05119|2010|\n",
      "|        05|        119|  Arkansas|     Pulaski|      ppb| 7.791667|             24.0|              19|     23|     ppm|0.039042|            0.05|             10|    42|      ppb|1.341667|              2.3|              19|    3.0|     ppm|     0.4|             0.4|              0|   5.0|05119|2010|\n",
      "|        05|        119|  Arkansas|     Pulaski|      ppb|   18.375|             40.0|               6|     38|     ppm|0.030542|           0.046|             11|    39|      ppb|3.166667|              5.0|              15|    7.0|     ppm|0.633333|             0.8|              5|   9.0|05119|2010|\n",
      "|        05|        119|  Arkansas|     Pulaski|      ppb|      6.5|             13.0|               8|     12|     ppm|0.017875|           0.026|             19|    22|      ppb|1.041667|              2.0|               0|    3.0|     ppm|  0.2375|             0.3|              8|   3.0|05119|2010|\n",
      "|        05|        119|  Arkansas|     Pulaski|      ppb|15.916667|             41.0|              20|     39|     ppm|0.019167|           0.028|             10|    24|      ppb|1.958333|              4.0|              15|    6.0|     ppm|0.454167|             0.6|              0|   7.0|05119|2010|\n",
      "|        06|        001|California|     Alameda|      ppb| 24.36087|             35.5|              17|     33|     ppm|  0.0045|           0.014|              9|    12|      ppb|1.595455|              2.9|              16|    3.0|     ppm|  0.5375|             1.2|             23|  14.0|06001|2010|\n",
      "|        06|        001|California|     Alameda|      ppb| 8.130435|             19.0|              19|     18|     ppm|0.027458|           0.036|              8|    31|      ppb|0.545455|              1.0|               0|    1.0|     ppm|0.245833|             0.3|              8|   3.0|06001|2010|\n",
      "|        06|        001|California|     Alameda|      ppb| 8.782609|             13.0|               7|     12|     ppm|0.022625|           0.026|             10|    22|      ppb|0.086957|              1.0|               0|    1.0|     ppm|   0.225|             0.3|              9|   3.0|06001|2010|\n",
      "|        06|        001|California|     Alameda|      ppb| 4.826087|              8.0|               6|      8|     ppm|0.010708|           0.013|             10|    11|      ppb|0.521739|              1.0|               7|    1.0|     ppm|0.204167|             0.3|              0|   3.0|06001|2010|\n",
      "|        06|        013|California|Contra Costa|      ppb| 9.130435|             20.0|               7|     19|     ppm|0.022708|            0.03|             10|    25|      ppb|     0.0|              0.0|               0|    0.0|     ppm|   0.375|             0.4|              0|   5.0|06013|2010|\n",
      "|        06|        013|California|Contra Costa|      ppb| 7.830435|             13.4|              14|     12|     ppm|   0.025|           0.027|             16|    23|      ppb|0.317391|              0.7|              23|    0.0|     ppm|0.408333|             0.5|              0|   6.0|06013|2010|\n",
      "+----------+-----------+----------+------------+---------+---------+-----------------+----------------+-------+--------+--------+----------------+---------------+------+---------+--------+-----------------+----------------+-------+--------+--------+----------------+---------------+------+-----+----+\n",
      "only showing top 20 rows\n",
      "\n",
      "Rows after dropping duplicates: 625301\n"
     ]
    }
   ],
   "source": [
    "print(f\"Rows before dropping duplicates: {df2.count()}\") # Rows we have before dropping duplicates\n",
    "\n",
    "# Drop duplicates from df2\n",
    "df2 = df2.dropDuplicates()\n",
    "df2.show()\n",
    "\n",
    "print(f\"Rows after dropping duplicates: {df2.count()}\") # Rows we have after dropping the duplicates"
   ]
  },
  {
   "cell_type": "markdown",
   "metadata": {},
   "source": [
    "# Final merging of our datasets and further pre-processing (if necessary): **\"df_final\"**"
   ]
  },
  {
   "cell_type": "code",
   "execution_count": 16,
   "metadata": {},
   "outputs": [
    {
     "name": "stdout",
     "output_type": "stream",
     "text": [
      "+-----+----+--------+-----------+------+-----------+------------+----------+---------------+--------------------+----------+-----------+----------+--------+---------+--------+-----------------+----------------+-------+--------+--------+----------------+---------------+------+---------+---------+-----------------+----------------+-------+--------+--------+----------------+---------------+------+\n",
      "| fips|Year|cause_id|location_id|sex_id|       rate|       lower|     upper|  location_name|          cause_name|State Code|County Code|     State|  County|NO2 Units|NO2 Mean|NO2 1st Max Value|NO2 1st Max Hour|NO2 AQI|O3 Units| O3 Mean|O3 1st Max Value|O3 1st Max Hour|O3 AQI|SO2 Units| SO2 Mean|SO2 1st Max Value|SO2 1st Max Hour|SO2 AQI|CO Units| CO Mean|CO 1st Max Value|CO 1st Max Hour|CO AQI|\n",
      "+-----+----+--------+-----------+------+-----------+------------+----------+---------------+--------------------+----------+-----------+----------+--------+---------+--------+-----------------+----------------+-------+--------+--------+----------------+---------------+------+---------+---------+-----------------+----------------+-------+--------+--------+----------------+---------------+------+\n",
      "|06023|2014|     514|        761|     1|0.022903742|0.0032131856|0.08383776|Humboldt County|Other pneumoconiosis|        06|        023|California|Humboldt|      ppb|1.695652|              4.0|               3|      4|     ppm|0.016542|           0.023|             10|    21|      ppb|   0.4125|              0.5|              14|   NULL|     ppm|     0.1|             0.1|              0|   1.0|\n",
      "|06023|2014|     514|        761|     1|0.022903742|0.0032131856|0.08383776|Humboldt County|Other pneumoconiosis|        06|        023|California|Humboldt|      ppb|0.416667|              1.9|               9|      1|     ppm|0.016083|           0.019|             11|    18|      ppb| 0.116667|              0.2|              10|    0.0|     ppm|     0.2|             0.2|              0|  NULL|\n",
      "|06023|2014|     514|        761|     1|0.022903742|0.0032131856|0.08383776|Humboldt County|Other pneumoconiosis|        06|        023|California|Humboldt|      ppb|     0.5|              0.8|              18|      0|     ppm| 0.02981|           0.032|             10|    30|      ppb|      0.3|              0.3|              11|   NULL|     ppm|     0.4|             0.4|              4|  NULL|\n",
      "|06023|2014|     514|        761|     1|0.022903742|0.0032131856|0.08383776|Humboldt County|Other pneumoconiosis|        06|        023|California|Humboldt|      ppb|5.409091|             10.9|               7|      9|     ppm|0.025375|           0.038|             11|    35|      ppb| 0.171429|              0.3|               8|   NULL|     ppm|0.254167|             0.4|              0|   5.0|\n",
      "|06023|2014|     514|        761|     1|0.022903742|0.0032131856|0.08383776|Humboldt County|Other pneumoconiosis|        06|        023|California|Humboldt|      ppb|0.679167|              1.3|               6|      1|     ppm|0.031263|           0.036|             12|    33|      ppb| 0.245833|              0.3|               0|    0.0|     ppm|  0.3625|             0.4|              0|   5.0|\n",
      "|06023|2014|     514|        761|     1|0.022903742|0.0032131856|0.08383776|Humboldt County|Other pneumoconiosis|        06|        023|California|Humboldt|      ppb|4.477273|              9.3|              17|      8|     ppm|0.011421|            0.02|             10|    19|      ppb|     -0.1|             -0.1|               2|   NULL|     ppm|0.422727|             0.7|             21|  NULL|\n",
      "|06023|2014|     514|        761|     1|0.022903742|0.0032131856|0.08383776|Humboldt County|Other pneumoconiosis|        06|        023|California|Humboldt|      ppb|0.220833|              0.7|              23|      0|     ppm|0.030727|           0.033|              9|    31|      ppb|      0.4|              0.4|               2|   NULL|     ppm|     0.1|             0.1|              0|   1.0|\n",
      "|06023|2014|     514|        761|     1|0.022903742|0.0032131856|0.08383776|Humboldt County|Other pneumoconiosis|        06|        023|California|Humboldt|      ppb|   0.475|              2.4|              17|      2|     ppm|0.029708|           0.032|              0|    30|      ppb|  -0.3375|             -0.3|               5|   NULL|     ppm|0.141667|             0.2|              0|   2.0|\n",
      "|06023|2014|     514|        761|     1|0.022903742|0.0032131856|0.08383776|Humboldt County|Other pneumoconiosis|        06|        023|California|Humboldt|      ppb|0.736364|              2.2|              19|      2|     ppm|0.021625|           0.031|             18|    29|      ppb|    -0.95|             -0.1|              20|   NULL|     ppm|     0.2|             0.2|              0|   2.0|\n",
      "|06023|2014|     514|        761|     1|0.022903742|0.0032131856|0.08383776|Humboldt County|Other pneumoconiosis|        06|        023|California|Humboldt|      ppb|   0.025|              0.4|               8|      0|     ppm|0.028292|           0.032|              9|    30|      ppb|-0.008333|              0.0|               0|    0.0|     ppm|     0.2|             0.2|              0|  NULL|\n",
      "|06023|2014|     514|        761|     1|0.022903742|0.0032131856|0.08383776|Humboldt County|Other pneumoconiosis|        06|        023|California|Humboldt|      ppb|0.936364|              2.7|               1|      2|     ppm|0.033583|           0.039|             11|    36|      ppb| 0.263636|              0.4|               1|    0.0|     ppm|     0.2|             0.2|              0|  NULL|\n",
      "|06023|2014|     514|        761|     1|0.022903742|0.0032131856|0.08383776|Humboldt County|Other pneumoconiosis|        06|        023|California|Humboldt|      ppb|  0.8875|              2.0|              11|      2|     ppm|0.018895|           0.021|              7|    19|      ppb| 0.491667|              0.6|              10|    0.0|     ppm|   0.125|             0.2|             11|  NULL|\n",
      "|06023|2014|     514|        761|     1|0.022903742|0.0032131856|0.08383776|Humboldt County|Other pneumoconiosis|        06|        023|California|Humboldt|      ppb|1.558333|              4.3|              19|      4|     ppm|0.015333|           0.025|             11|    23|      ppb|      0.6|              0.6|               2|   NULL|     ppm|     0.2|             0.2|              0|   2.0|\n",
      "|06023|2014|     514|        761|     1|0.022903742|0.0032131856|0.08383776|Humboldt County|Other pneumoconiosis|        06|        023|California|Humboldt|      ppb|     2.8|              9.0|               8|      8|     ppm|0.018208|           0.031|             11|    29|      ppb| 0.616667|              0.7|               8|   NULL|     ppm|  0.1875|             0.2|              0|   2.0|\n",
      "|06023|2014|     514|        761|     1|0.022903742|0.0032131856|0.08383776|Humboldt County|Other pneumoconiosis|        06|        023|California|Humboldt|      ppb|0.490476|              2.1|               7|      2|     ppm|   0.023|           0.026|             10|    24|      ppb| 0.666667|              0.8|              17|   NULL|     ppm|0.166667|             0.2|              0|   2.0|\n",
      "|06023|2014|     514|        761|     1|0.022903742|0.0032131856|0.08383776|Humboldt County|Other pneumoconiosis|        06|        023|California|Humboldt|      ppb|0.186364|              1.2|               7|      1|     ppm|0.032125|           0.036|             18|    33|      ppb| 0.918182|              1.0|               6|    1.0|     ppm|0.181818|             0.2|              0|  NULL|\n",
      "|06023|2014|     514|        761|     1|0.022903742|0.0032131856|0.08383776|Humboldt County|Other pneumoconiosis|        06|        023|California|Humboldt|      ppb|0.795833|              2.1|               7|      2|     ppm|0.031579|           0.037|              9|    34|      ppb|      0.3|              0.4|              23|   NULL|     ppm|     0.3|             0.3|              0|   3.0|\n",
      "|06023|2014|     514|        761|     1|0.022903742|0.0032131856|0.08383776|Humboldt County|Other pneumoconiosis|        06|        023|California|Humboldt|      ppb|1.183333|              2.2|              11|      2|     ppm|0.024542|           0.027|             11|    25|      ppb|-0.183333|             -0.1|               8|    0.0|     ppm|     0.4|             0.4|              0|   5.0|\n",
      "|06023|2014|     514|        761|     1|0.022903742|0.0032131856|0.08383776|Humboldt County|Other pneumoconiosis|        06|        023|California|Humboldt|      ppb|1.545455|              3.2|               7|      3|     ppm|  0.0245|            0.03|             10|    28|      ppb| 0.014286|              0.1|               5|   NULL|     ppm|0.316667|             0.4|              0|   5.0|\n",
      "|06023|2014|     514|        761|     1|0.022903742|0.0032131856|0.08383776|Humboldt County|Other pneumoconiosis|        06|        023|California|Humboldt|      ppb|3.127273|             10.5|               6|      9|     ppm|0.021708|           0.034|             11|    31|      ppb|     -0.3|             -0.2|              14|    0.0|     ppm|0.290909|             0.5|              8|  NULL|\n",
      "+-----+----+--------+-----------+------+-----------+------------+----------+---------------+--------------------+----------+-----------+----------+--------+---------+--------+-----------------+----------------+-------+--------+--------+----------------+---------------+------+---------+---------+-----------------+----------------+-------+--------+--------+----------------+---------------+------+\n",
      "only showing top 20 rows\n",
      "\n"
     ]
    }
   ],
   "source": [
    "# Merge df1_merged and df2 on 'fips' and 'Year' columns\n",
    "df_final = df1_merged.join(df2, on=['fips', 'Year'], how='inner')\n",
    "df_final.show()"
   ]
  },
  {
   "cell_type": "code",
   "execution_count": 17,
   "metadata": {},
   "outputs": [
    {
     "name": "stdout",
     "output_type": "stream",
     "text": [
      "Schema of df_final:\n",
      "root\n",
      " |-- fips: string (nullable = true)\n",
      " |-- Year: integer (nullable = true)\n",
      " |-- cause_id: integer (nullable = true)\n",
      " |-- location_id: integer (nullable = true)\n",
      " |-- sex_id: integer (nullable = true)\n",
      " |-- rate: float (nullable = true)\n",
      " |-- lower: float (nullable = true)\n",
      " |-- upper: float (nullable = true)\n",
      " |-- location_name: string (nullable = true)\n",
      " |-- cause_name: string (nullable = true)\n",
      " |-- State Code: string (nullable = true)\n",
      " |-- County Code: string (nullable = true)\n",
      " |-- State: string (nullable = true)\n",
      " |-- County: string (nullable = true)\n",
      " |-- NO2 Units: string (nullable = false)\n",
      " |-- NO2 Mean: float (nullable = true)\n",
      " |-- NO2 1st Max Value: float (nullable = true)\n",
      " |-- NO2 1st Max Hour: integer (nullable = true)\n",
      " |-- NO2 AQI: integer (nullable = true)\n",
      " |-- O3 Units: string (nullable = false)\n",
      " |-- O3 Mean: float (nullable = true)\n",
      " |-- O3 1st Max Value: float (nullable = true)\n",
      " |-- O3 1st Max Hour: integer (nullable = true)\n",
      " |-- O3 AQI: integer (nullable = true)\n",
      " |-- SO2 Units: string (nullable = false)\n",
      " |-- SO2 Mean: float (nullable = true)\n",
      " |-- SO2 1st Max Value: float (nullable = true)\n",
      " |-- SO2 1st Max Hour: integer (nullable = true)\n",
      " |-- SO2 AQI: float (nullable = true)\n",
      " |-- CO Units: string (nullable = false)\n",
      " |-- CO Mean: float (nullable = true)\n",
      " |-- CO 1st Max Value: float (nullable = true)\n",
      " |-- CO 1st Max Hour: integer (nullable = true)\n",
      " |-- CO AQI: float (nullable = true)\n",
      "\n"
     ]
    }
   ],
   "source": [
    "# Print schema of df_final to check column types\n",
    "print(\"Schema of df_final:\")\n",
    "df_final.printSchema()"
   ]
  },
  {
   "cell_type": "code",
   "execution_count": 18,
   "metadata": {},
   "outputs": [
    {
     "name": "stdout",
     "output_type": "stream",
     "text": [
      "Rows before dropping duplicates: 17244900\n",
      "+-----+----+--------+-----------+------+-----------+------------+----------+---------------+--------------------+----------+-----------+----------+--------+---------+--------+-----------------+----------------+-------+--------+--------+----------------+---------------+------+---------+---------+-----------------+----------------+-------+--------+--------+----------------+---------------+------+\n",
      "| fips|Year|cause_id|location_id|sex_id|       rate|       lower|     upper|  location_name|          cause_name|State Code|County Code|     State|  County|NO2 Units|NO2 Mean|NO2 1st Max Value|NO2 1st Max Hour|NO2 AQI|O3 Units| O3 Mean|O3 1st Max Value|O3 1st Max Hour|O3 AQI|SO2 Units| SO2 Mean|SO2 1st Max Value|SO2 1st Max Hour|SO2 AQI|CO Units| CO Mean|CO 1st Max Value|CO 1st Max Hour|CO AQI|\n",
      "+-----+----+--------+-----------+------+-----------+------------+----------+---------------+--------------------+----------+-----------+----------+--------+---------+--------+-----------------+----------------+-------+--------+--------+----------------+---------------+------+---------+---------+-----------------+----------------+-------+--------+--------+----------------+---------------+------+\n",
      "|06023|2014|     514|        761|     1|0.022903742|0.0032131856|0.08383776|Humboldt County|Other pneumoconiosis|        06|        023|California|Humboldt|      ppb|0.679167|              1.3|               6|      1|     ppm|0.031263|           0.036|             12|    33|      ppb| 0.245833|              0.3|               0|    0.0|     ppm|  0.3625|             0.4|              0|   5.0|\n",
      "|06023|2014|     514|        761|     1|0.022903742|0.0032131856|0.08383776|Humboldt County|Other pneumoconiosis|        06|        023|California|Humboldt|      ppb|1.183333|              2.2|              11|      2|     ppm|0.024542|           0.027|             11|    25|      ppb|-0.183333|             -0.1|               8|    0.0|     ppm|     0.4|             0.4|              0|   5.0|\n",
      "|06023|2014|     514|        761|     1|0.022903742|0.0032131856|0.08383776|Humboldt County|Other pneumoconiosis|        06|        023|California|Humboldt|      ppb|0.371429|              1.8|              20|      1|     ppm|0.015889|           0.017|              0|    16|      ppb| 0.340909|              0.4|               1|    0.0|     ppm|0.158333|             0.2|              0|   2.0|\n",
      "|06023|2014|     514|        761|     1|0.022903742|0.0032131856|0.08383776|Humboldt County|Other pneumoconiosis|        06|        023|California|Humboldt|      ppb|   1.225|              2.8|               2|      2|     ppm|0.023458|           0.031|             13|    29|      ppb| 0.645833|              0.7|               1|    0.0|     ppm|0.229167|             0.3|              0|   3.0|\n",
      "|06023|2014|     514|        761|     1|0.022903742|0.0032131856|0.08383776|Humboldt County|Other pneumoconiosis|        06|        023|California|Humboldt|      ppb|4.964706|              8.4|              13|      8|     ppm|0.013211|           0.021|             12|    19|      ppb| 0.135294|              0.2|               9|    0.0|     ppm|0.314286|             0.4|              0|   5.0|\n",
      "|06023|2014|     514|        761|     1|0.022903742|0.0032131856|0.08383776|Humboldt County|Other pneumoconiosis|        06|        023|California|Humboldt|      ppb| 1.58125|              3.6|               4|      3|     ppm|0.012692|           0.022|             13|    20|      ppb|    0.475|              0.5|               3|    0.0|     ppm|     0.4|             0.4|              0|   5.0|\n",
      "|06023|2014|     514|        761|     1|0.022903742|0.0032131856|0.08383776|Humboldt County|Other pneumoconiosis|        06|        023|California|Humboldt|      ppb|0.566667|              2.2|               6|      2|     ppm|0.013042|           0.015|              9|    14|      ppb|   -0.025|              0.0|               1|    0.0|     ppm|     0.2|             0.2|              0|   2.0|\n",
      "|06023|2014|     514|        761|     1|0.022903742|0.0032131856|0.08383776|Humboldt County|Other pneumoconiosis|        06|        023|California|Humboldt|      ppb|1.195833|              7.3|              17|      7|     ppm|0.026208|            0.03|              0|    28|      ppb|-0.445833|             -0.4|               0|    0.0|     ppm|0.241667|             0.3|             14|   3.0|\n",
      "|06023|2014|     514|        761|     1|0.022903742|0.0032131856|0.08383776|Humboldt County|Other pneumoconiosis|        06|        023|California|Humboldt|      ppb|1.663636|              5.3|               7|      5|     ppm|0.012792|           0.016|              9|    15|      ppb| 0.404545|              0.5|               5|    0.0|     ppm|0.216667|             0.3|             11|   3.0|\n",
      "|06023|2014|     514|        761|     1|0.022903742|0.0032131856|0.08383776|Humboldt County|Other pneumoconiosis|        06|        023|California|Humboldt|      ppb|3.258333|             14.5|               8|     13|     ppm|0.013833|           0.023|             10|    21|      ppb|      0.7|              0.8|               6|    0.0|     ppm|  0.2375|             0.3|              7|   3.0|\n",
      "|06023|2014|     514|        761|     1|0.022903742|0.0032131856|0.08383776|Humboldt County|Other pneumoconiosis|        06|        023|California|Humboldt|      ppb|0.986364|              4.1|              20|      4|     ppm|0.021917|           0.026|              7|    24|      ppb|-0.329167|             -0.2|              13|    0.0|     ppm|0.316667|             0.4|             20|   5.0|\n",
      "|06023|2014|     514|        761|     1|0.022903742|0.0032131856|0.08383776|Humboldt County|Other pneumoconiosis|        06|        023|California|Humboldt|      ppb|1.209091|              7.3|               6|      7|     ppm| 0.03175|           0.036|              8|    33|      ppb| 0.127273|              0.2|               3|    0.0|     ppm|     0.2|             0.2|              0|   2.0|\n",
      "|06023|2014|     514|        761|     1|0.022903742|0.0032131856|0.08383776|Humboldt County|Other pneumoconiosis|        06|        023|California|Humboldt|      ppb|0.718182|              3.6|               8|      3|     ppm| 0.02775|           0.034|             23|    31|      ppb|   0.0875|              0.2|               0|    0.0|     ppm|     0.2|             0.2|              0|   2.0|\n",
      "|06023|2014|     514|        761|     1|0.022903742|0.0032131856|0.08383776|Humboldt County|Other pneumoconiosis|        06|        023|California|Humboldt|      ppb|   1.575|              3.3|               7|      3|     ppm|0.024375|           0.029|             10|    27|      ppb|   0.5875|              0.6|               0|    0.0|     ppm|     0.3|             0.3|              0|   3.0|\n",
      "|06023|2014|     514|        761|     1|0.022903742|0.0032131856|0.08383776|Humboldt County|Other pneumoconiosis|        06|        023|California|Humboldt|      ppb|8.695833|             22.9|              19|     21|     ppm|0.016583|           0.028|             11|    26|      ppb| 0.204167|              0.4|              10|    0.0|     ppm|0.391667|             0.5|              2|   6.0|\n",
      "|06023|2014|     514|        761|     1|0.022903742|0.0032131856|0.08383776|Humboldt County|Other pneumoconiosis|        06|        023|California|Humboldt|      ppb|0.466667|              1.3|              20|      1|     ppm|0.024917|           0.029|             11|    27|      ppb|-0.304167|             -0.3|               0|    0.0|     ppm|     0.2|             0.2|              0|   2.0|\n",
      "|06023|2014|     514|        761|     1|0.022903742|0.0032131856|0.08383776|Humboldt County|Other pneumoconiosis|        06|        023|California|Humboldt|      ppb|     3.2|              9.6|               7|      8|     ppm|0.022588|           0.036|             11|    33|      ppb| 0.231818|              0.3|               3|    0.0|     ppm|   0.275|             0.3|              0|   3.0|\n",
      "|06023|2014|     514|        761|     1|0.022903742|0.0032131856|0.08383776|Humboldt County|Other pneumoconiosis|        06|        023|California|Humboldt|      ppb|3.127273|             10.5|               6|      9|     ppm|0.021708|           0.034|             11|    31|      ppb|     -0.3|             -0.2|              14|    0.0|     ppm|  0.2875|             0.4|              8|   5.0|\n",
      "|06023|2014|     514|        761|     1|0.022903742|0.0032131856|0.08383776|Humboldt County|Other pneumoconiosis|        06|        023|California|Humboldt|      ppb|    0.56|              1.8|              13|      1|     ppm|0.028333|            0.03|              9|    28|      ppb|  -0.2625|              0.1|              12|    0.0|     ppm|0.320833|             0.4|              0|   5.0|\n",
      "|06023|2014|     514|        761|     1|0.022903742|0.0032131856|0.08383776|Humboldt County|Other pneumoconiosis|        06|        023|California|Humboldt|      ppb|6.804167|             14.5|              18|     13|     ppm|0.003667|           0.009|              8|     8|      ppb| 0.220833|              0.4|              10|    0.0|     ppm|0.670833|             0.9|              0|  10.0|\n",
      "+-----+----+--------+-----------+------+-----------+------------+----------+---------------+--------------------+----------+-----------+----------+--------+---------+--------+-----------------+----------------+-------+--------+--------+----------------+---------------+------+---------+---------+-----------------+----------------+-------+--------+--------+----------------+---------------+------+\n",
      "only showing top 20 rows\n",
      "\n"
     ]
    }
   ],
   "source": [
    "print(f\"Rows before dropping duplicates: {df_final.count()}\")\n",
    "\n",
    "df_final = df_final.dropDuplicates() # Drop duplicates from final dataset\n",
    "df_final.show()"
   ]
  },
  {
   "cell_type": "markdown",
   "metadata": {},
   "source": [
    "# PySpark -> MongoDB Connection"
   ]
  },
  {
   "cell_type": "code",
   "execution_count": 19,
   "metadata": {},
   "outputs": [
    {
     "name": "stdout",
     "output_type": "stream",
     "text": [
      "['Respiratory_df1cols', 'Respiratory_part2cols', 'Respiratory', 'Respiratory_part1cols']\n"
     ]
    }
   ],
   "source": [
    "import pandas as pd\n",
    "from pymongo import MongoClient\n",
    "\n",
    "# Convert PySpark DataFrame to RDD of dictionaries\n",
    "rdd_data = df_final.rdd.map(lambda row: row.asDict()) # Part 1 of final dataframe\n",
    "\n",
    "# Initialize MongoDB client and select database/collection\n",
    "client = MongoClient(\"mongodb://localhost:27017\")\n",
    "\n",
    "db = client[\"BigData\"]\n",
    "\n",
    "print(db.list_collection_names()) # Checks what collections are present in MongoDB\n",
    "\n",
    "collection = db[\"Respiratory_FULL\"] # Prepares collection"
   ]
  },
  {
   "cell_type": "code",
   "execution_count": 20,
   "metadata": {},
   "outputs": [],
   "source": [
    "spark = SparkSession.builder \\\n",
    "    .appName(\"merge_datasets\") \\\n",
    "    .config(\"spark.jars.packages\", \"org.mongodb.spark:mongo-spark-connector_2.12:3.0.1\") \\\n",
    "    .getOrCreate()"
   ]
  },
  {
   "cell_type": "code",
   "execution_count": 21,
   "metadata": {},
   "outputs": [
    {
     "name": "stderr",
     "output_type": "stream",
     "text": [
      "ERROR:root:Exception while sending command.\n",
      "Traceback (most recent call last):\n",
      "  File \"c:\\Users\\chris\\AppData\\Local\\Programs\\Python\\Python312\\Lib\\site-packages\\IPython\\core\\interactiveshell.py\", line 3577, in run_code\n",
      "    exec(code_obj, self.user_global_ns, self.user_ns)\n",
      "  File \"C:\\Users\\chris\\AppData\\Local\\Temp\\ipykernel_20668\\3813270467.py\", line 6, in <module>\n",
      "    .save()\n",
      "     ^^^^^^\n",
      "  File \"c:\\Users\\chris\\AppData\\Local\\Programs\\Python\\Python312\\Lib\\site-packages\\pyspark\\sql\\readwriter.py\", line 1461, in save\n",
      "    self._jwrite.save()\n",
      "  File \"c:\\Users\\chris\\AppData\\Local\\Programs\\Python\\Python312\\Lib\\site-packages\\py4j\\java_gateway.py\", line 1322, in __call__\n",
      "    return_value = get_return_value(\n",
      "                   ^^^^^^^^^^^^^^^^^\n",
      "  File \"c:\\Users\\chris\\AppData\\Local\\Programs\\Python\\Python312\\Lib\\site-packages\\pyspark\\errors\\exceptions\\captured.py\", line 179, in deco\n",
      "    return f(*a, **kw)\n",
      "           ^^^^^^^^^^^\n",
      "  File \"c:\\Users\\chris\\AppData\\Local\\Programs\\Python\\Python312\\Lib\\site-packages\\py4j\\protocol.py\", line 326, in get_return_value\n",
      "    raise Py4JJavaError(\n",
      "py4j.protocol.Py4JJavaError: <exception str() failed>\n",
      "\n",
      "During handling of the above exception, another exception occurred:\n",
      "\n",
      "Traceback (most recent call last):\n",
      "  File \"c:\\Users\\chris\\AppData\\Local\\Programs\\Python\\Python312\\Lib\\site-packages\\py4j\\clientserver.py\", line 511, in send_command\n",
      "    answer = smart_decode(self.stream.readline()[:-1])\n",
      "                          ^^^^^^^^^^^^^^^^^^^^^^\n",
      "  File \"c:\\Users\\chris\\AppData\\Local\\Programs\\Python\\Python312\\Lib\\socket.py\", line 707, in readinto\n",
      "    return self._sock.recv_into(b)\n",
      "           ^^^^^^^^^^^^^^^^^^^^^^^\n",
      "ConnectionResetError: [WinError 10054] Uma ligação existente foi forçada a fechar pelo anfitrião remoto\n",
      "\n",
      "During handling of the above exception, another exception occurred:\n",
      "\n",
      "Traceback (most recent call last):\n",
      "  File \"c:\\Users\\chris\\AppData\\Local\\Programs\\Python\\Python312\\Lib\\site-packages\\py4j\\java_gateway.py\", line 1038, in send_command\n",
      "    response = connection.send_command(command)\n",
      "               ^^^^^^^^^^^^^^^^^^^^^^^^^^^^^^^^\n",
      "  File \"c:\\Users\\chris\\AppData\\Local\\Programs\\Python\\Python312\\Lib\\site-packages\\py4j\\clientserver.py\", line 539, in send_command\n",
      "    raise Py4JNetworkError(\n",
      "py4j.protocol.Py4JNetworkError: Error while sending or receiving\n",
      "ERROR:root:Exception while sending command.\n",
      "Traceback (most recent call last):\n",
      "  File \"c:\\Users\\chris\\AppData\\Local\\Programs\\Python\\Python312\\Lib\\site-packages\\py4j\\clientserver.py\", line 511, in send_command\n",
      "    answer = smart_decode(self.stream.readline()[:-1])\n",
      "                          ^^^^^^^^^^^^^^^^^^^^^^\n",
      "  File \"c:\\Users\\chris\\AppData\\Local\\Programs\\Python\\Python312\\Lib\\socket.py\", line 707, in readinto\n",
      "    return self._sock.recv_into(b)\n",
      "           ^^^^^^^^^^^^^^^^^^^^^^^\n",
      "ConnectionResetError: [WinError 10054] Uma ligação existente foi forçada a fechar pelo anfitrião remoto\n",
      "\n",
      "During handling of the above exception, another exception occurred:\n",
      "\n",
      "Traceback (most recent call last):\n",
      "  File \"c:\\Users\\chris\\AppData\\Local\\Programs\\Python\\Python312\\Lib\\site-packages\\py4j\\java_gateway.py\", line 1038, in send_command\n",
      "    response = connection.send_command(command)\n",
      "               ^^^^^^^^^^^^^^^^^^^^^^^^^^^^^^^^\n",
      "  File \"c:\\Users\\chris\\AppData\\Local\\Programs\\Python\\Python312\\Lib\\site-packages\\py4j\\clientserver.py\", line 539, in send_command\n",
      "    raise Py4JNetworkError(\n",
      "py4j.protocol.Py4JNetworkError: Error while sending or receiving\n"
     ]
    },
    {
     "ename": "ConnectionRefusedError",
     "evalue": "[WinError 10061] Nenhuma ligação pôde ser feita porque o computador de destino\r\nas recusou ativamente",
     "output_type": "error",
     "traceback": [
      "\u001b[1;31m---------------------------------------------------------------------------\u001b[0m",
      "\u001b[1;31mPy4JJavaError\u001b[0m                             Traceback (most recent call last)",
      "    \u001b[1;31m[... skipping hidden 1 frame]\u001b[0m\n",
      "Cell \u001b[1;32mIn[21], line 6\u001b[0m\n\u001b[0;32m      1\u001b[0m \u001b[38;5;66;03m# Writes part 1 of final dataframe into MongoDB\u001b[39;00m\n\u001b[0;32m      2\u001b[0m \u001b[43mdf_final\u001b[49m\u001b[38;5;241;43m.\u001b[39;49m\u001b[43mwrite\u001b[49m\u001b[43m \u001b[49m\u001b[43m\\\u001b[49m\n\u001b[0;32m      3\u001b[0m \u001b[43m    \u001b[49m\u001b[38;5;241;43m.\u001b[39;49m\u001b[43mformat\u001b[49m\u001b[43m(\u001b[49m\u001b[38;5;124;43m\"\u001b[39;49m\u001b[38;5;124;43mcom.mongodb.spark.sql.DefaultSource\u001b[39;49m\u001b[38;5;124;43m\"\u001b[39;49m\u001b[43m)\u001b[49m\u001b[43m \u001b[49m\u001b[43m\\\u001b[49m\n\u001b[0;32m      4\u001b[0m \u001b[43m    \u001b[49m\u001b[38;5;241;43m.\u001b[39;49m\u001b[43mmode\u001b[49m\u001b[43m(\u001b[49m\u001b[38;5;124;43m\"\u001b[39;49m\u001b[38;5;124;43moverwrite\u001b[39;49m\u001b[38;5;124;43m\"\u001b[39;49m\u001b[43m)\u001b[49m\u001b[43m \u001b[49m\u001b[43m\\\u001b[49m\n\u001b[0;32m      5\u001b[0m \u001b[43m    \u001b[49m\u001b[38;5;241;43m.\u001b[39;49m\u001b[43moption\u001b[49m\u001b[43m(\u001b[49m\u001b[38;5;124;43m\"\u001b[39;49m\u001b[38;5;124;43muri\u001b[39;49m\u001b[38;5;124;43m\"\u001b[39;49m\u001b[43m,\u001b[49m\u001b[43m \u001b[49m\u001b[38;5;124;43m\"\u001b[39;49m\u001b[38;5;124;43mmongodb://localhost:27017/BigData.Respiratory_FULL\u001b[39;49m\u001b[38;5;124;43m\"\u001b[39;49m\u001b[43m)\u001b[49m\u001b[43m \u001b[49m\u001b[43m\\\u001b[49m\n\u001b[1;32m----> 6\u001b[0m \u001b[43m    \u001b[49m\u001b[38;5;241;43m.\u001b[39;49m\u001b[43msave\u001b[49m\u001b[43m(\u001b[49m\u001b[43m)\u001b[49m\n",
      "File \u001b[1;32mc:\\Users\\chris\\AppData\\Local\\Programs\\Python\\Python312\\Lib\\site-packages\\pyspark\\sql\\readwriter.py:1461\u001b[0m, in \u001b[0;36mDataFrameWriter.save\u001b[1;34m(self, path, format, mode, partitionBy, **options)\u001b[0m\n\u001b[0;32m   1460\u001b[0m \u001b[38;5;28;01mif\u001b[39;00m path \u001b[38;5;129;01mis\u001b[39;00m \u001b[38;5;28;01mNone\u001b[39;00m:\n\u001b[1;32m-> 1461\u001b[0m     \u001b[38;5;28;43mself\u001b[39;49m\u001b[38;5;241;43m.\u001b[39;49m\u001b[43m_jwrite\u001b[49m\u001b[38;5;241;43m.\u001b[39;49m\u001b[43msave\u001b[49m\u001b[43m(\u001b[49m\u001b[43m)\u001b[49m\n\u001b[0;32m   1462\u001b[0m \u001b[38;5;28;01melse\u001b[39;00m:\n",
      "File \u001b[1;32mc:\\Users\\chris\\AppData\\Local\\Programs\\Python\\Python312\\Lib\\site-packages\\py4j\\java_gateway.py:1322\u001b[0m, in \u001b[0;36mJavaMember.__call__\u001b[1;34m(self, *args)\u001b[0m\n\u001b[0;32m   1321\u001b[0m answer \u001b[38;5;241m=\u001b[39m \u001b[38;5;28mself\u001b[39m\u001b[38;5;241m.\u001b[39mgateway_client\u001b[38;5;241m.\u001b[39msend_command(command)\n\u001b[1;32m-> 1322\u001b[0m return_value \u001b[38;5;241m=\u001b[39m \u001b[43mget_return_value\u001b[49m\u001b[43m(\u001b[49m\n\u001b[0;32m   1323\u001b[0m \u001b[43m    \u001b[49m\u001b[43manswer\u001b[49m\u001b[43m,\u001b[49m\u001b[43m \u001b[49m\u001b[38;5;28;43mself\u001b[39;49m\u001b[38;5;241;43m.\u001b[39;49m\u001b[43mgateway_client\u001b[49m\u001b[43m,\u001b[49m\u001b[43m \u001b[49m\u001b[38;5;28;43mself\u001b[39;49m\u001b[38;5;241;43m.\u001b[39;49m\u001b[43mtarget_id\u001b[49m\u001b[43m,\u001b[49m\u001b[43m \u001b[49m\u001b[38;5;28;43mself\u001b[39;49m\u001b[38;5;241;43m.\u001b[39;49m\u001b[43mname\u001b[49m\u001b[43m)\u001b[49m\n\u001b[0;32m   1325\u001b[0m \u001b[38;5;28;01mfor\u001b[39;00m temp_arg \u001b[38;5;129;01min\u001b[39;00m temp_args:\n",
      "File \u001b[1;32mc:\\Users\\chris\\AppData\\Local\\Programs\\Python\\Python312\\Lib\\site-packages\\pyspark\\errors\\exceptions\\captured.py:179\u001b[0m, in \u001b[0;36mcapture_sql_exception.<locals>.deco\u001b[1;34m(*a, **kw)\u001b[0m\n\u001b[0;32m    178\u001b[0m \u001b[38;5;28;01mtry\u001b[39;00m:\n\u001b[1;32m--> 179\u001b[0m     \u001b[38;5;28;01mreturn\u001b[39;00m \u001b[43mf\u001b[49m\u001b[43m(\u001b[49m\u001b[38;5;241;43m*\u001b[39;49m\u001b[43ma\u001b[49m\u001b[43m,\u001b[49m\u001b[43m \u001b[49m\u001b[38;5;241;43m*\u001b[39;49m\u001b[38;5;241;43m*\u001b[39;49m\u001b[43mkw\u001b[49m\u001b[43m)\u001b[49m\n\u001b[0;32m    180\u001b[0m \u001b[38;5;28;01mexcept\u001b[39;00m Py4JJavaError \u001b[38;5;28;01mas\u001b[39;00m e:\n",
      "File \u001b[1;32mc:\\Users\\chris\\AppData\\Local\\Programs\\Python\\Python312\\Lib\\site-packages\\py4j\\protocol.py:326\u001b[0m, in \u001b[0;36mget_return_value\u001b[1;34m(answer, gateway_client, target_id, name)\u001b[0m\n\u001b[0;32m    325\u001b[0m \u001b[38;5;28;01mif\u001b[39;00m answer[\u001b[38;5;241m1\u001b[39m] \u001b[38;5;241m==\u001b[39m REFERENCE_TYPE:\n\u001b[1;32m--> 326\u001b[0m     \u001b[38;5;28;01mraise\u001b[39;00m Py4JJavaError(\n\u001b[0;32m    327\u001b[0m         \u001b[38;5;124m\"\u001b[39m\u001b[38;5;124mAn error occurred while calling \u001b[39m\u001b[38;5;132;01m{0}\u001b[39;00m\u001b[38;5;132;01m{1}\u001b[39;00m\u001b[38;5;132;01m{2}\u001b[39;00m\u001b[38;5;124m.\u001b[39m\u001b[38;5;130;01m\\n\u001b[39;00m\u001b[38;5;124m\"\u001b[39m\u001b[38;5;241m.\u001b[39m\n\u001b[0;32m    328\u001b[0m         \u001b[38;5;28mformat\u001b[39m(target_id, \u001b[38;5;124m\"\u001b[39m\u001b[38;5;124m.\u001b[39m\u001b[38;5;124m\"\u001b[39m, name), value)\n\u001b[0;32m    329\u001b[0m \u001b[38;5;28;01melse\u001b[39;00m:\n",
      "\u001b[1;31m<class 'str'>\u001b[0m: (<class 'ConnectionRefusedError'>, ConnectionRefusedError(10061, 'Nenhuma ligação pôde ser feita porque o computador de destino\\r\\nas recusou ativamente', None, 10061, None))",
      "\nDuring handling of the above exception, another exception occurred:\n",
      "\u001b[1;31mConnectionRefusedError\u001b[0m                    Traceback (most recent call last)",
      "    \u001b[1;31m[... skipping hidden 1 frame]\u001b[0m\n",
      "File \u001b[1;32mc:\\Users\\chris\\AppData\\Local\\Programs\\Python\\Python312\\Lib\\site-packages\\IPython\\core\\interactiveshell.py:2179\u001b[0m, in \u001b[0;36mInteractiveShell.showtraceback\u001b[1;34m(self, exc_tuple, filename, tb_offset, exception_only, running_compiled_code)\u001b[0m\n\u001b[0;32m   2176\u001b[0m         traceback\u001b[38;5;241m.\u001b[39mprint_exc()\n\u001b[0;32m   2177\u001b[0m         \u001b[38;5;28;01mreturn\u001b[39;00m \u001b[38;5;28;01mNone\u001b[39;00m\n\u001b[1;32m-> 2179\u001b[0m     \u001b[38;5;28;43mself\u001b[39;49m\u001b[38;5;241;43m.\u001b[39;49m\u001b[43m_showtraceback\u001b[49m\u001b[43m(\u001b[49m\u001b[43metype\u001b[49m\u001b[43m,\u001b[49m\u001b[43m \u001b[49m\u001b[43mvalue\u001b[49m\u001b[43m,\u001b[49m\u001b[43m \u001b[49m\u001b[43mstb\u001b[49m\u001b[43m)\u001b[49m\n\u001b[0;32m   2180\u001b[0m \u001b[38;5;28;01mif\u001b[39;00m \u001b[38;5;28mself\u001b[39m\u001b[38;5;241m.\u001b[39mcall_pdb:\n\u001b[0;32m   2181\u001b[0m     \u001b[38;5;66;03m# drop into debugger\u001b[39;00m\n\u001b[0;32m   2182\u001b[0m     \u001b[38;5;28mself\u001b[39m\u001b[38;5;241m.\u001b[39mdebugger(force\u001b[38;5;241m=\u001b[39m\u001b[38;5;28;01mTrue\u001b[39;00m)\n",
      "File \u001b[1;32mc:\\Users\\chris\\AppData\\Local\\Programs\\Python\\Python312\\Lib\\site-packages\\ipykernel\\zmqshell.py:559\u001b[0m, in \u001b[0;36mZMQInteractiveShell._showtraceback\u001b[1;34m(self, etype, evalue, stb)\u001b[0m\n\u001b[0;32m    553\u001b[0m sys\u001b[38;5;241m.\u001b[39mstdout\u001b[38;5;241m.\u001b[39mflush()\n\u001b[0;32m    554\u001b[0m sys\u001b[38;5;241m.\u001b[39mstderr\u001b[38;5;241m.\u001b[39mflush()\n\u001b[0;32m    556\u001b[0m exc_content \u001b[38;5;241m=\u001b[39m {\n\u001b[0;32m    557\u001b[0m     \u001b[38;5;124m\"\u001b[39m\u001b[38;5;124mtraceback\u001b[39m\u001b[38;5;124m\"\u001b[39m: stb,\n\u001b[0;32m    558\u001b[0m     \u001b[38;5;124m\"\u001b[39m\u001b[38;5;124mename\u001b[39m\u001b[38;5;124m\"\u001b[39m: \u001b[38;5;28mstr\u001b[39m(etype\u001b[38;5;241m.\u001b[39m\u001b[38;5;18m__name__\u001b[39m),\n\u001b[1;32m--> 559\u001b[0m     \u001b[38;5;124m\"\u001b[39m\u001b[38;5;124mevalue\u001b[39m\u001b[38;5;124m\"\u001b[39m: \u001b[38;5;28;43mstr\u001b[39;49m\u001b[43m(\u001b[49m\u001b[43mevalue\u001b[49m\u001b[43m)\u001b[49m,\n\u001b[0;32m    560\u001b[0m }\n\u001b[0;32m    562\u001b[0m dh \u001b[38;5;241m=\u001b[39m \u001b[38;5;28mself\u001b[39m\u001b[38;5;241m.\u001b[39mdisplayhook\n\u001b[0;32m    563\u001b[0m \u001b[38;5;66;03m# Send exception info over pub socket for other clients than the caller\u001b[39;00m\n\u001b[0;32m    564\u001b[0m \u001b[38;5;66;03m# to pick up\u001b[39;00m\n",
      "File \u001b[1;32mc:\\Users\\chris\\AppData\\Local\\Programs\\Python\\Python312\\Lib\\site-packages\\py4j\\protocol.py:471\u001b[0m, in \u001b[0;36mPy4JJavaError.__str__\u001b[1;34m(self)\u001b[0m\n\u001b[0;32m    469\u001b[0m \u001b[38;5;28;01mdef\u001b[39;00m \u001b[38;5;21m__str__\u001b[39m(\u001b[38;5;28mself\u001b[39m):\n\u001b[0;32m    470\u001b[0m     gateway_client \u001b[38;5;241m=\u001b[39m \u001b[38;5;28mself\u001b[39m\u001b[38;5;241m.\u001b[39mjava_exception\u001b[38;5;241m.\u001b[39m_gateway_client\n\u001b[1;32m--> 471\u001b[0m     answer \u001b[38;5;241m=\u001b[39m \u001b[43mgateway_client\u001b[49m\u001b[38;5;241;43m.\u001b[39;49m\u001b[43msend_command\u001b[49m\u001b[43m(\u001b[49m\u001b[38;5;28;43mself\u001b[39;49m\u001b[38;5;241;43m.\u001b[39;49m\u001b[43mexception_cmd\u001b[49m\u001b[43m)\u001b[49m\n\u001b[0;32m    472\u001b[0m     return_value \u001b[38;5;241m=\u001b[39m get_return_value(answer, gateway_client, \u001b[38;5;28;01mNone\u001b[39;00m, \u001b[38;5;28;01mNone\u001b[39;00m)\n\u001b[0;32m    473\u001b[0m     \u001b[38;5;66;03m# Note: technically this should return a bytestring 'str' rather than\u001b[39;00m\n\u001b[0;32m    474\u001b[0m     \u001b[38;5;66;03m# unicodes in Python 2; however, it can return unicodes for now.\u001b[39;00m\n\u001b[0;32m    475\u001b[0m     \u001b[38;5;66;03m# See https://github.com/bartdag/py4j/issues/306 for more details.\u001b[39;00m\n",
      "File \u001b[1;32mc:\\Users\\chris\\AppData\\Local\\Programs\\Python\\Python312\\Lib\\site-packages\\py4j\\java_gateway.py:1036\u001b[0m, in \u001b[0;36mGatewayClient.send_command\u001b[1;34m(self, command, retry, binary)\u001b[0m\n\u001b[0;32m   1015\u001b[0m \u001b[38;5;28;01mdef\u001b[39;00m \u001b[38;5;21msend_command\u001b[39m(\u001b[38;5;28mself\u001b[39m, command, retry\u001b[38;5;241m=\u001b[39m\u001b[38;5;28;01mTrue\u001b[39;00m, binary\u001b[38;5;241m=\u001b[39m\u001b[38;5;28;01mFalse\u001b[39;00m):\n\u001b[0;32m   1016\u001b[0m \u001b[38;5;250m    \u001b[39m\u001b[38;5;124;03m\"\"\"Sends a command to the JVM. This method is not intended to be\u001b[39;00m\n\u001b[0;32m   1017\u001b[0m \u001b[38;5;124;03m       called directly by Py4J users. It is usually called by\u001b[39;00m\n\u001b[0;32m   1018\u001b[0m \u001b[38;5;124;03m       :class:`JavaMember` instances.\u001b[39;00m\n\u001b[1;32m   (...)\u001b[0m\n\u001b[0;32m   1034\u001b[0m \u001b[38;5;124;03m     if `binary` is `True`.\u001b[39;00m\n\u001b[0;32m   1035\u001b[0m \u001b[38;5;124;03m    \"\"\"\u001b[39;00m\n\u001b[1;32m-> 1036\u001b[0m     connection \u001b[38;5;241m=\u001b[39m \u001b[38;5;28;43mself\u001b[39;49m\u001b[38;5;241;43m.\u001b[39;49m\u001b[43m_get_connection\u001b[49m\u001b[43m(\u001b[49m\u001b[43m)\u001b[49m\n\u001b[0;32m   1037\u001b[0m     \u001b[38;5;28;01mtry\u001b[39;00m:\n\u001b[0;32m   1038\u001b[0m         response \u001b[38;5;241m=\u001b[39m connection\u001b[38;5;241m.\u001b[39msend_command(command)\n",
      "File \u001b[1;32mc:\\Users\\chris\\AppData\\Local\\Programs\\Python\\Python312\\Lib\\site-packages\\py4j\\clientserver.py:284\u001b[0m, in \u001b[0;36mJavaClient._get_connection\u001b[1;34m(self)\u001b[0m\n\u001b[0;32m    281\u001b[0m     \u001b[38;5;28;01mpass\u001b[39;00m\n\u001b[0;32m    283\u001b[0m \u001b[38;5;28;01mif\u001b[39;00m connection \u001b[38;5;129;01mis\u001b[39;00m \u001b[38;5;28;01mNone\u001b[39;00m \u001b[38;5;129;01mor\u001b[39;00m connection\u001b[38;5;241m.\u001b[39msocket \u001b[38;5;129;01mis\u001b[39;00m \u001b[38;5;28;01mNone\u001b[39;00m:\n\u001b[1;32m--> 284\u001b[0m     connection \u001b[38;5;241m=\u001b[39m \u001b[38;5;28;43mself\u001b[39;49m\u001b[38;5;241;43m.\u001b[39;49m\u001b[43m_create_new_connection\u001b[49m\u001b[43m(\u001b[49m\u001b[43m)\u001b[49m\n\u001b[0;32m    285\u001b[0m \u001b[38;5;28;01mreturn\u001b[39;00m connection\n",
      "File \u001b[1;32mc:\\Users\\chris\\AppData\\Local\\Programs\\Python\\Python312\\Lib\\site-packages\\py4j\\clientserver.py:291\u001b[0m, in \u001b[0;36mJavaClient._create_new_connection\u001b[1;34m(self)\u001b[0m\n\u001b[0;32m    287\u001b[0m \u001b[38;5;28;01mdef\u001b[39;00m \u001b[38;5;21m_create_new_connection\u001b[39m(\u001b[38;5;28mself\u001b[39m):\n\u001b[0;32m    288\u001b[0m     connection \u001b[38;5;241m=\u001b[39m ClientServerConnection(\n\u001b[0;32m    289\u001b[0m         \u001b[38;5;28mself\u001b[39m\u001b[38;5;241m.\u001b[39mjava_parameters, \u001b[38;5;28mself\u001b[39m\u001b[38;5;241m.\u001b[39mpython_parameters,\n\u001b[0;32m    290\u001b[0m         \u001b[38;5;28mself\u001b[39m\u001b[38;5;241m.\u001b[39mgateway_property, \u001b[38;5;28mself\u001b[39m)\n\u001b[1;32m--> 291\u001b[0m     \u001b[43mconnection\u001b[49m\u001b[38;5;241;43m.\u001b[39;49m\u001b[43mconnect_to_java_server\u001b[49m\u001b[43m(\u001b[49m\u001b[43m)\u001b[49m\n\u001b[0;32m    292\u001b[0m     \u001b[38;5;28mself\u001b[39m\u001b[38;5;241m.\u001b[39mset_thread_connection(connection)\n\u001b[0;32m    293\u001b[0m     \u001b[38;5;28;01mreturn\u001b[39;00m connection\n",
      "File \u001b[1;32mc:\\Users\\chris\\AppData\\Local\\Programs\\Python\\Python312\\Lib\\site-packages\\py4j\\clientserver.py:438\u001b[0m, in \u001b[0;36mClientServerConnection.connect_to_java_server\u001b[1;34m(self)\u001b[0m\n\u001b[0;32m    435\u001b[0m \u001b[38;5;28;01mif\u001b[39;00m \u001b[38;5;28mself\u001b[39m\u001b[38;5;241m.\u001b[39mssl_context:\n\u001b[0;32m    436\u001b[0m     \u001b[38;5;28mself\u001b[39m\u001b[38;5;241m.\u001b[39msocket \u001b[38;5;241m=\u001b[39m \u001b[38;5;28mself\u001b[39m\u001b[38;5;241m.\u001b[39mssl_context\u001b[38;5;241m.\u001b[39mwrap_socket(\n\u001b[0;32m    437\u001b[0m         \u001b[38;5;28mself\u001b[39m\u001b[38;5;241m.\u001b[39msocket, server_hostname\u001b[38;5;241m=\u001b[39m\u001b[38;5;28mself\u001b[39m\u001b[38;5;241m.\u001b[39mjava_address)\n\u001b[1;32m--> 438\u001b[0m \u001b[38;5;28;43mself\u001b[39;49m\u001b[38;5;241;43m.\u001b[39;49m\u001b[43msocket\u001b[49m\u001b[38;5;241;43m.\u001b[39;49m\u001b[43mconnect\u001b[49m\u001b[43m(\u001b[49m\u001b[43m(\u001b[49m\u001b[38;5;28;43mself\u001b[39;49m\u001b[38;5;241;43m.\u001b[39;49m\u001b[43mjava_address\u001b[49m\u001b[43m,\u001b[49m\u001b[43m \u001b[49m\u001b[38;5;28;43mself\u001b[39;49m\u001b[38;5;241;43m.\u001b[39;49m\u001b[43mjava_port\u001b[49m\u001b[43m)\u001b[49m\u001b[43m)\u001b[49m\n\u001b[0;32m    439\u001b[0m \u001b[38;5;28mself\u001b[39m\u001b[38;5;241m.\u001b[39mstream \u001b[38;5;241m=\u001b[39m \u001b[38;5;28mself\u001b[39m\u001b[38;5;241m.\u001b[39msocket\u001b[38;5;241m.\u001b[39mmakefile(\u001b[38;5;124m\"\u001b[39m\u001b[38;5;124mrb\u001b[39m\u001b[38;5;124m\"\u001b[39m)\n\u001b[0;32m    440\u001b[0m \u001b[38;5;28mself\u001b[39m\u001b[38;5;241m.\u001b[39mis_connected \u001b[38;5;241m=\u001b[39m \u001b[38;5;28;01mTrue\u001b[39;00m\n",
      "\u001b[1;31mConnectionRefusedError\u001b[0m: [WinError 10061] Nenhuma ligação pôde ser feita porque o computador de destino\r\nas recusou ativamente"
     ]
    }
   ],
   "source": [
    "# Writes part 1 of final dataframe into MongoDB\n",
    "df_final.write \\\n",
    "    .format(\"com.mongodb.spark.sql.DefaultSource\") \\\n",
    "    .mode(\"overwrite\") \\\n",
    "    .option(\"uri\", \"mongodb://localhost:27017/BigData.Respiratory_FULL\") \\\n",
    "    .save()"
   ]
  },
  {
   "cell_type": "markdown",
   "metadata": {},
   "source": []
  }
 ],
 "metadata": {
  "kernelspec": {
   "display_name": "Python 3",
   "language": "python",
   "name": "python3"
  },
  "language_info": {
   "codemirror_mode": {
    "name": "ipython",
    "version": 3
   },
   "file_extension": ".py",
   "mimetype": "text/x-python",
   "name": "python",
   "nbconvert_exporter": "python",
   "pygments_lexer": "ipython3",
   "version": "3.12.2"
  }
 },
 "nbformat": 4,
 "nbformat_minor": 2
}
